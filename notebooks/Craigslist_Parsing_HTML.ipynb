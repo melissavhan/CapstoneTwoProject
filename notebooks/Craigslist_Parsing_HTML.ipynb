{
 "cells": [
  {
   "cell_type": "code",
   "execution_count": null,
   "metadata": {
    "collapsed": true
   },
   "outputs": [],
   "source": [
    "import requests\n",
    "import hashlib\n",
    "from datetime import datetime\n",
    "import time\n",
    "import random\n",
    "import os\n",
    "import csv\n",
    "from bs4 import BeautifulSoup\n",
    "import re \n",
    "import pandas as pd"
   ]
  },
  {
   "cell_type": "markdown",
   "metadata": {},
   "source": [
    "# Parsing functions"
   ]
  },
  {
   "cell_type": "code",
   "execution_count": null,
   "metadata": {
    "collapsed": true
   },
   "outputs": [],
   "source": [
    "def parse_listing_html(text):\n",
    "    #define the html text\n",
    "    page_html = BeautifulSoup(text, 'html.parser')\n",
    "\n",
    "    listing_title = page_html.find('span',attrs={'id':'titletextonly'}).text\n",
    "\n",
    "    listing_date = page_html.find('time', class_='date timeago')['datetime']\n",
    "    listing_price = page_html.find('span', class_='price')\n",
    "\n",
    "    listing_bedbath= page_html.find('span', class_='shared-line-bubble').text\n",
    "\n",
    "# Extract sqft info from bubbles class and use regex to find the digits (exclude the last number 2 from ft2)\n",
    "    bubbles_sqft = page_html.findAll('span', class_='shared-line-bubble')\n",
    "    listing_sqft = int(\"\".join(re.findall(\"\\d\", str(bubbles_sqft[1]))[:-1]))\n",
    "\n",
    "    listing_address = page_html.find('div', class_='mapaddress').text\n",
    "\n",
    "    listing_info = page_html.findAll('p', class_='attrgroup')[1].text\n",
    "\n",
    "    listing_body = page_html.find('section',attrs={'id':'postingbody'}).text\n",
    "    \n",
    "    listing_id = page_html.findAll('p', class_='postinginfo')[1].text\n",
    "\n",
    "    return {\n",
    "        'listing_title': listing_title,\n",
    "        'listing_date':listing_date,\n",
    "        'listing_price': int(listing_price.text.strip('$,').replace(\",\",\"\")),\n",
    "        'listing_bedbath':listing_bedbath,\n",
    "        'listing_sqft':listing_sqft,\n",
    "        'listing_address':listing_address,\n",
    "        'listing_info':listing_info,\n",
    "        'listing_body':listing_body,\n",
    "        'listing_id':listing_id\n",
    "    }\n",
    "\n",
    "\n",
    "list_of_dicts = []\n",
    "path = \"/Users/pandabear/springboard/CapstoneTwoProject/data/raw\"\n",
    "dir_list = os.listdir(path)\n",
    "# print(dir_list)\n",
    "for folder in dir_list:\n",
    "    if len(folder) == 19:\n",
    "        path_html = path + '/' + folder\n",
    "        file_list = os.listdir(path_html)\n",
    "        #print(file_list)\n",
    "        \n",
    "        for file in file_list:\n",
    "            if len(file) > 15:\n",
    "                with open(path_html + '/' + file, 'r', encoding='windows-1252') as f:\n",
    "                    text = f.read()\n",
    "                    list_of_dicts.append(parse_listing_html(text))\n",
    "\n",
    "                listing_df = pd.DataFrame(list_of_dicts)\n"
   ]
  },
  {
   "cell_type": "code",
   "execution_count": null,
   "metadata": {
    "collapsed": true
   },
   "outputs": [],
   "source": [
    "print(listing_df.head())"
   ]
  },
  {
   "cell_type": "code",
   "execution_count": null,
   "metadata": {
    "collapsed": true
   },
   "outputs": [],
   "source": []
  },
  {
   "cell_type": "code",
   "execution_count": null,
   "metadata": {
    "collapsed": true
   },
   "outputs": [],
   "source": [
    "#neighborhoods in SF\n",
    "SF_neighborhoods = ['alamo square / nopa', 'bayview', 'bernal heights', 'castro / upper market', 'cole valley / ashbury hts', 'downtown / civic / van ness'\n",
    " 'excelsior / outer mission', 'financial district', 'glen park', 'haight ashbury', 'hayes valley', 'ingleside / SFSU / CCSF', 'inner richmond'\n",
    " 'inner sunset / UCSF', 'laurel hts / presidio', 'lower haight', 'lower nob hill', 'lower pac hts', 'marina / cow hollow', 'mission district'\n",
    " 'nob hill', 'noe valley', 'north beach / telegraph hill', 'pacific heights', 'portola district', 'potrero hill', 'richmond / seacliff', 'russian hill', 'SOMA / south beach', 'sunset / parkside', 'tenderloin'\n",
    " 'treasure island', 'twin peaks / diamond hts', 'USF / panhandle', 'visitacion valley', 'west portal / forest hill', 'western addition']"
   ]
  }
 ],
 "metadata": {
  "kernelspec": {
   "display_name": "Python 3",
   "language": "python",
   "name": "python3"
  },
  "language_info": {
   "codemirror_mode": {
    "name": "ipython",
    "version": 3
   },
   "file_extension": ".py",
   "mimetype": "text/x-python",
   "name": "python",
   "nbconvert_exporter": "python",
   "pygments_lexer": "ipython3",
   "version": "3.6.0"
  }
 },
 "nbformat": 4,
 "nbformat_minor": 2
}

{
 "cells": [
  {
   "cell_type": "code",
   "execution_count": 1,
   "metadata": {
    "collapsed": false
   },
   "outputs": [
    {
     "name": "stderr",
     "output_type": "stream",
     "text": [
      "/Users/pandabear/anaconda/lib/python3.6/site-packages/requests/__init__.py:104: RequestsDependencyWarning: urllib3 (1.26.11) or chardet (5.0.0)/charset_normalizer (2.0.12) doesn't match a supported version!\n",
      "  RequestsDependencyWarning)\n"
     ]
    }
   ],
   "source": [
    "import requests\n",
    "import hashlib\n",
    "from datetime import datetime\n",
    "import time\n",
    "import random\n",
    "import os\n",
    "import csv\n",
    "from bs4 import BeautifulSoup\n",
    "import re \n",
    "import pandas as pd"
   ]
  },
  {
   "cell_type": "markdown",
   "metadata": {},
   "source": [
    "# Parsing functions"
   ]
  },
  {
   "cell_type": "code",
   "execution_count": 208,
   "metadata": {
    "collapsed": false
   },
   "outputs": [],
   "source": [
    "def parse_listing_html(text,file_name):\n",
    "    #define the html text\n",
    "    page_html = BeautifulSoup(text, 'html.parser')\n",
    "    \n",
    "    if deleted_listing(page_html):\n",
    "        print('listing {} has been deleted'.format(file_name))\n",
    "        return\n",
    "    \n",
    "    listing_title = page_html.find('span',attrs={'id':'titletextonly'}).text     \n",
    "    listing_date = page_html.find('time', class_='date timeago')['datetime']\n",
    "    listing_price = page_html.find('span', class_='price')\n",
    "\n",
    "    listing_bedbath= page_html.find('span', class_='shared-line-bubble').text\n",
    "\n",
    "    # Extract sqft info from bubbles class and use regex to find the digits ending in ft2\n",
    "    bubbles_sqft = page_html.findAll('span', class_='shared-line-bubble')\n",
    "    listing_sqft = None\n",
    "    if len(bubbles_sqft) >= 2:\n",
    "        x = re.search(\"[0-9]+ft2$\", bubbles_sqft[1].text)\n",
    "        if x:\n",
    "             listing_sqft = x.string[:-3]\n",
    "    \n",
    "    listing_address_element = page_html.find('div', class_='mapaddress')\n",
    "    listing_address = listing_address_element and listing_address_element.text\n",
    "\n",
    "    listing_info = page_html.findAll('p', class_='attrgroup')[1].text\n",
    "\n",
    "    listing_body = page_html.find('section',attrs={'id':'postingbody'}).text\n",
    "    \n",
    "    listing_id = page_html.findAll('p', class_='postinginfo')[1].text\n",
    "    \n",
    "    listing_url = page_html.find('meta',attrs={'property':'og:url'}).attrs['content']\n",
    "    \n",
    "    listing_first_image = page_html.find('div',class_='slide first visible').img['src']\n",
    "\n",
    "\n",
    "    return {\n",
    "        'listing_title': listing_title,\n",
    "        'listing_date':listing_date,\n",
    "        'listing_price': int(listing_price.text.strip('$,').replace(\",\",\"\")),\n",
    "        'listing_bedbath':listing_bedbath,\n",
    "        'listing_sqft':listing_sqft,\n",
    "        'listing_address':listing_address,\n",
    "        'listing_info':listing_info,\n",
    "        'listing_body':listing_body,\n",
    "        'listing_id':listing_id,\n",
    "        'listing_url':listing_url,\n",
    "        'listing_first_image':listing_first_image\n",
    "       }\n",
    "\n",
    "\n",
    "def deleted_listing(page_html):\n",
    "    h2 = page_html.find('h2')\n",
    "    return h2 and h2.text == ' This posting has been deleted by its author. '"
   ]
  },
  {
   "cell_type": "markdown",
   "metadata": {},
   "source": [
    "# Create df from dictionary"
   ]
  },
  {
   "cell_type": "code",
   "execution_count": 232,
   "metadata": {
    "collapsed": false
   },
   "outputs": [
    {
     "name": "stdout",
     "output_type": "stream",
     "text": [
      "listing b3683c62f193f873f9aba874e4a128dd21cebc8490b6efe86004f613d66a3d47 has been deleted\n",
      "listing 046d614c116efc3eb96aa3e0ab1834f39f073ae45c7e3a2746b65133f25546bd has been deleted\n",
      "listing 8eed6b17707dd43e898e6afbd7d279f9f3e845f26a4c3b679b6f8aa849e43dd5 has been deleted\n",
      "listing e85010522f800de77e8fd82549ff44cc01d9ab5b78799e2ee429fc0fb18a4ab0 has been deleted\n",
      "listing f4b208fc87aa63d1425261c99c7dbb22c38d849ed7f3a12f928403f9c55ae02d has been deleted\n",
      "listing 1da2569bead691e42984de0953e63b74d55773d9654af42924ed248a928513b9 has been deleted\n",
      "listing ebfd9113e3ceacc6ab51eca901a409a932b1ecaa3fbcd5dff73c7b06e00f795b has been deleted\n",
      "listing 41d856cda9abf5df2ad14c49f615b5a18374e1a370b6fdd0a0fe3c32994e61b6 has been deleted\n",
      "listing 5c9a78f9c20ae922e6008c0cc89bb2b8e85939c90fcbbd47517174dc02c775c0 has been deleted\n",
      "listing 5064888afec96047ab8afe015fdd9047d0360b529bdf57cfb3b9b656f8725bae has been deleted\n",
      "listing c92b9fbe52321e85a68d4ea79dacabdd7262878a1f8b0c363220709c42401b8a has been deleted\n",
      "listing 2f3a963a366d01c0613718621add202ac3b7dda539f45edb1bbab0c299671e1b has been deleted\n",
      "listing 806c21517cce9c4943fb77e9246636a13d569ddb1c4fa128d684689ba4790470 has been deleted\n",
      "listing 82b07b8687978ab9150ff73a6022f4f756ec0f6c661de2c53dd84e47daf4473a has been deleted\n",
      "listing f714f8fffcca302cd7f495c174a514c114857dfe0ba965cd899869dffd0f6647 has been deleted\n",
      "listing 532474d04b7c3b271b4b1fa05d08db3ad3285b9b40f119dbe17be31cab6a2092 has been deleted\n",
      "listing acbbb5e3443b5c51ddac713941627176bae053fd88316af22e74230437077aea has been deleted\n",
      "listing 03836b16943b9f48cd6f9956a437a4d80653ab89cc855b6964ec81d6a9767186 has been deleted\n",
      "listing b898a58538de062d6d8e05927dc45f24631fb8754829a8753ec5e4655527fce7 has been deleted\n",
      "listing b934dd0ede55f52ec343def16863e1df25d67469ba3e5ee997d0d1f3e94295f3 has been deleted\n",
      "listing 212709310efd15b3bf423235dec84ab5a217a15311c3e597f47045e134379c93 has been deleted\n",
      "listing f6a96f99bc759c93dbd5bba98f654425c5a8c113d942c04d69705412634ea72a has been deleted\n",
      "listing 24a9c229b72caa89c124baa941da54d033e78c42027248e6a1cbe0918892398b has been deleted\n",
      "listing a6f0e6720ccdfb56a1a9153346b0941e948a470d85510000179ba356ac632f8f has been deleted\n",
      "listing a8b8decf540a989605f03d3562577d72058c954e06f05d0e79fcb544e6083b2a has been deleted\n",
      "listing ca66c945fc6cc1ca9466e93b188e372311a9d3a9f66cf16aab84326030585af4 has been deleted\n",
      "listing 4f0ca71f48984e8609aafe7a875e02e8005f36457400f6765cc7b5cf458dfcb6 has been deleted\n",
      "listing b285429fff959788b5bc4f3429a8b3ed6d6b7ec57c89f540a26d79f2ccddb9fc has been deleted\n",
      "listing 5785203d0a6f3d5728d05b74b7d7446e8dca9f9a87bd24dbd7a1171426cdb437 has been deleted\n",
      "listing 02a9c0a356ebf0cdd590be82285b1f16c6376cec472b55b14f19156f9b8178cc has been deleted\n",
      "listing 3292a6f0011aa1e8725b48713b5417d727bc9d6b21be4851941c1908d3fbd4a1 has been deleted\n",
      "listing 2391cd610da442f4300c2f454e738a46a53fe665623cc7688ca9e47842971ce3 has been deleted\n",
      "listing ccf3ad262afb821ec85f18b5d4d8087aba993e124a04e1477a41a6a449a96625 has been deleted\n",
      "listing 7c3cf3ef952f510af4b6aaba9818afa57305ddbd347d9855c7c1002fa777674f has been deleted\n",
      "listing 5d422cbe4bb86d1c03c617a4c2de93afe8d77a02f05ff83035ef6f86c590733a has been deleted\n",
      "listing 9309d75183cdfe6cfd30ee21ddff9afbb6e5f5007fdca4d62fdb5f5e7bcf69b2 has been deleted\n",
      "listing 9956458bca79e7cacbe3b37fad47ea50261643cf67b8caa207a0f8605cab7168 has been deleted\n",
      "listing 280b150d2ee3cf111a01ebf80fab7d9f9c0b56f91e631318618ff91870a0739c has been deleted\n",
      "listing f0c1a170727888c3277dc3f7af3a4737590dec3b78cb7e171a351d9d41dfc422 has been deleted\n",
      "listing 7363aa5d9f0433359eb031262480f1294d45547e982b1850692a277d7c29afab has been deleted\n",
      "listing 2c9ac4d8e888634808a5f2e7d22b8ec7afaf59272b6a12b7207830890c8c95d8 has been deleted\n",
      "listing f37dae136f18bdd40b70deaaafe4285e2f007a45984445809c432eb5efff2aa9 has been deleted\n",
      "listing 31249d00df6fdc0207567c2baf3132a5b6aca5b1576b9e38bcf93baff0b869fb has been deleted\n",
      "listing a0a85c3bfa2d4d05da0c98491facfa65c62f03fda39a92b060c9bf4de5498264 has been deleted\n",
      "listing b5d82abe16380cde43943288697b65634cf421c13d4ee0ed197639dd9d269301 has been deleted\n",
      "listing 6320ab062fcd988c19594c7148e3d96f2dcd39675d48771662953784f27053b5 has been deleted\n",
      "listing 10d30970e3bea532de7427d3d79b96cbf85c7c001abc1473f085b7d2cdeb73a3 has been deleted\n",
      "listing fe8f479defd01ebf49e20c0bd6d033912b218db252c97c73642a9ef71639e935 has been deleted\n",
      "listing 28c2b7daba0df0389c9dc23348e72b6ed970e89b6d02d9bec8e18b339c17c4ab has been deleted\n",
      "listing 46f814291cd87b7606e54b8dd6bc260584e5c0386a56daf98875a2d4bdba3687 has been deleted\n",
      "listing 066499125e9a700effb9889cbe2f7c17d906ea38955da2cca9826b236d7e04e0 has been deleted\n",
      "listing 421472634089b59da001e536f2d782782ae664e5b5e93ba6ad7998eca0778d8c has been deleted\n",
      "listing 9e1af7606b69fe58ad8260a525f15771b8ad082edf39297cedbede508432082c has been deleted\n",
      "listing 849ca5247112a36c33b08648c7630d601690f0830af69df9acd56cb578440c32 has been deleted\n",
      "listing 96e8e724cb23907551f91226d5e4e5d42bef33d2de3799ea2f3c85dd35455f67 has been deleted\n",
      "listing f40f5db740f89861ee45edab1343d232f0ed2f83974b8beb21eee6e76668b465 has been deleted\n",
      "listing d74358bbc6c953372ab13f6e3d47ef7a159871ae33c848418803b3fb4a4d1051 has been deleted\n",
      "listing 72a2b7fa0d3d00f980202a9860a17defea763a04900a3c5c8c9e6e19c883058d has been deleted\n",
      "listing 80fd46563685bd5e7d0271eaeaffeecf5322c5fb65dbe271ee516ca3dbe8d207 has been deleted\n",
      "listing 3508c941a18e54f0e15b51b028a2ee6643ee250d9e155f7d39542c09add3b548 has been deleted\n",
      "listing aa79bdfe9a6ebee54ba0504171c5b4b6ff48f03ce4fe55f2695079ae6d12773f has been deleted\n",
      "listing c5fcf1a857dc8ce5a89e769d3f8a359bd01adbf6daee58984ead0f5ad3f93436 has been deleted\n",
      "listing 74be43c041ffaa10a95581bc6850558d80c95db6fb212d8c93b217a63e7c697f has been deleted\n",
      "listing d422be36817057671492937650ad0b103a6700ab5d9669f3236964e79acf83d5 has been deleted\n",
      "listing 822cd7cb237b52c1792feb2dcb53480a016e19e706a1d75c4561c2ce5abe01a1 has been deleted\n",
      "listing 1bebc9a39a1014010e51910e56ea1eedf18ae5d9ef136f480f5bde63d3a281df has been deleted\n",
      "listing 4aa4133b0ca08c558f4de4c2ea8e9f42c104cebea09c22325dd459ed26e2cf4e has been deleted\n",
      "listing 38313f2cda0de65da5718a14b07630a9f53efbfd884bb7c55e2e8f3168c5d763 has been deleted\n",
      "listing f7e88a009fee19653a0fdb97aaf5cae2f830b53657caf89bf3805bc74658a48e has been deleted\n",
      "listing 2d93d47cdb319ed8f848e29d227297fdb2f97e731b2c574be75a0fb0b02b2c73 has been deleted\n",
      "listing 255aa83637b612078caf8c4cabd20a3115d96394aa755cd4ba62cd8744f08642 has been deleted\n",
      "listing fbe8de5e3e5bbba10da9c062af924e322eb4e4abf32c9385013bd48a55aa823f has been deleted\n",
      "listing 6ad84540724af5ec9a58761084eb23654826c50b9629534498216fc61d5b2812 has been deleted\n",
      "listing 32954a86ff0ca81ecbd348cf8ba413e773a9d9802b8f5385d413275ef195ce2c has been deleted\n",
      "listing b42b9c42ff88ad66d4aea5e2ffc2a01888f271cb435abbd8200be89ff2c3a6ee has been deleted\n",
      "listing 82bd11042b4bd57feacd25e7840a64a8bf7cd7e450935c870fb00eb0a0c861cd has been deleted\n",
      "listing 8baa8ae917d9f5820f20e9517b39ac91a8adec5d4f5c72f757e99f06df2fe6c6 has been deleted\n",
      "listing eee722ebbf3e8773d0c768e8590efac71e216e6d6f3a2497bad4ace0d4da9e31 has been deleted\n",
      "listing c6427730d7b8866f76330b5d5bf87e679e5afdf24f5da9e747f8f4987d225670 has been deleted\n",
      "listing 2a750bafd25b0ec91a8e6dbab5a715ee150ccc41cbd88520d911e93d234d8b82 has been deleted\n",
      "listing 89dd829f2532a2740c43157f971c9d5c98bb9045b65ebc31097cae1c3e647fd3 has been deleted\n",
      "listing fe1fb7ac024f9059d7d7dc6302ba96cbb5e247a980f17d06a6f624a008241538 has been deleted\n",
      "listing 4804795c45728966ae0afada5b67845509238111d4f679cc6e9e90c5c03bef77 has been deleted\n",
      "listing 09f1c3232aa39660d3a947689f83399889d2dfad73b753304c4fb735b9e8b2a8 has been deleted\n"
     ]
    }
   ],
   "source": [
    "list_of_dicts = []\n",
    "path = \"/Users/pandabear/springboard/CapstoneTwoProject/data/raw\"\n",
    "dir_list = os.listdir(path)\n",
    "#print(dir_list)\n",
    "for folder in dir_list:\n",
    "    if not folder.startswith('.'):\n",
    "        path_html = path + '/' + folder\n",
    "        file_list = os.listdir(path_html)\n",
    "        #print(file_list)\n",
    "        \n",
    "        for file in file_list:\n",
    "            if len(file) > 15:\n",
    "                with open(path_html + '/' + file, 'r') as f:\n",
    "                    text = f.read()\n",
    "                    parsed_data = parse_listing_html(text, file)\n",
    "                    if parsed_data:\n",
    "                        list_of_dicts.append(parsed_data)\n",
    "#                 print('Number of parsing errors: {}'.format(count_parsing_error))\n",
    "        listing_df = pd.DataFrame(list_of_dicts)\n"
   ]
  },
  {
   "cell_type": "code",
   "execution_count": 241,
   "metadata": {
    "collapsed": false
   },
   "outputs": [
    {
     "data": {
      "text/html": [
       "<div>\n",
       "<table border=\"1\" class=\"dataframe\">\n",
       "  <thead>\n",
       "    <tr style=\"text-align: right;\">\n",
       "      <th></th>\n",
       "      <th>listing_address</th>\n",
       "      <th>listing_bedbath</th>\n",
       "      <th>listing_body</th>\n",
       "      <th>listing_date</th>\n",
       "      <th>listing_first_image</th>\n",
       "      <th>listing_info</th>\n",
       "      <th>listing_price</th>\n",
       "      <th>listing_sqft</th>\n",
       "      <th>listing_title</th>\n",
       "      <th>listing_url</th>\n",
       "    </tr>\n",
       "    <tr>\n",
       "      <th>listing_id</th>\n",
       "      <th></th>\n",
       "      <th></th>\n",
       "      <th></th>\n",
       "      <th></th>\n",
       "      <th></th>\n",
       "      <th></th>\n",
       "      <th></th>\n",
       "      <th></th>\n",
       "      <th></th>\n",
       "      <th></th>\n",
       "    </tr>\n",
       "  </thead>\n",
       "  <tbody>\n",
       "    <tr>\n",
       "      <th>post id: 7517797369</th>\n",
       "      <td>1537 Jones St near Pacific</td>\n",
       "      <td>1BR / 1Ba</td>\n",
       "      <td>QR Code Link to This Post   This is a 1BR 1B...</td>\n",
       "      <td>2022-08-05T13:48:22-0700</td>\n",
       "      <td>https://images.craigslist.org/00X0X_aCkV5CnbZ2...</td>\n",
       "      <td>apartment  laundry in bldg  attached garage  ...</td>\n",
       "      <td>2375</td>\n",
       "      <td>None</td>\n",
       "      <td>Cozy 1BR 1BA, Clean Unit, Walk to Chinatown/Fi...</td>\n",
       "      <td>https://sfbay.craigslist.org/sfc/apa/d/san-fra...</td>\n",
       "    </tr>\n",
       "    <tr>\n",
       "      <th>post id: 7519257988</th>\n",
       "      <td>1290 20th ave.</td>\n",
       "      <td>1BR / 1Ba</td>\n",
       "      <td>QR Code Link to This Post   1290 20th Ave. #...</td>\n",
       "      <td>2022-08-09T09:19:13-0700</td>\n",
       "      <td>https://images.craigslist.org/00707_34DEnZksvZ...</td>\n",
       "      <td>application fee details: $35  cats are OK - p...</td>\n",
       "      <td>2995</td>\n",
       "      <td>None</td>\n",
       "      <td>1290 20thAve.&amp;Irving/Awesome views/Available N...</td>\n",
       "      <td>https://sfbay.craigslist.org/sfc/apa/d/san-fra...</td>\n",
       "    </tr>\n",
       "    <tr>\n",
       "      <th>post id: 7515346170</th>\n",
       "      <td>1825 Mission Street near 14th street.</td>\n",
       "      <td>0BR / 1Ba</td>\n",
       "      <td>QR Code Link to This Post   Welcome to 1825 ...</td>\n",
       "      <td>2022-07-30T12:42:45-0700</td>\n",
       "      <td>https://images.craigslist.org/00y0y_gIofOzLqJq...</td>\n",
       "      <td>cats are OK - purrr  dogs are OK - wooof  apa...</td>\n",
       "      <td>1950</td>\n",
       "      <td>274</td>\n",
       "      <td>Beautiful Landscaping, Stainless Steel Applian...</td>\n",
       "      <td>https://sfbay.craigslist.org/sfc/apa/d/san-fra...</td>\n",
       "    </tr>\n",
       "    <tr>\n",
       "      <th>post id: 7514598032</th>\n",
       "      <td>van ness near greenwich street</td>\n",
       "      <td>0BR / 1Ba</td>\n",
       "      <td>QR Code Link to This Post   MORE THAN JUST A...</td>\n",
       "      <td>2022-07-28T15:10:30-0700</td>\n",
       "      <td>https://images.craigslist.org/00101_61nNL8QiJS...</td>\n",
       "      <td>cats are OK - purrr  dogs are OK - wooof  apa...</td>\n",
       "      <td>2850</td>\n",
       "      <td>580</td>\n",
       "      <td>Deluxe Bright Studio in The Marina Chateau</td>\n",
       "      <td>https://sfbay.craigslist.org/sfc/apa/d/san-fra...</td>\n",
       "    </tr>\n",
       "    <tr>\n",
       "      <th>post id: 7517784826</th>\n",
       "      <td>780 Post street</td>\n",
       "      <td>0BR / 1Ba</td>\n",
       "      <td>QR Code Link to This Post   780 Post Street,...</td>\n",
       "      <td>2022-08-05T13:21:42-0700</td>\n",
       "      <td>https://images.craigslist.org/00M0M_cGnsXvY7FB...</td>\n",
       "      <td>cats are OK - purrr  dogs are OK - wooof  apa...</td>\n",
       "      <td>1575</td>\n",
       "      <td>None</td>\n",
       "      <td>Studio in Historic Pet-friendly Building! 780 ...</td>\n",
       "      <td>https://sfbay.craigslist.org/sfc/apa/d/san-fra...</td>\n",
       "    </tr>\n",
       "  </tbody>\n",
       "</table>\n",
       "</div>"
      ],
      "text/plain": [
       "                                           listing_address listing_bedbath  \\\n",
       "listing_id                                                                   \n",
       "post id: 7517797369             1537 Jones St near Pacific       1BR / 1Ba   \n",
       "post id: 7519257988                         1290 20th ave.       1BR / 1Ba   \n",
       "post id: 7515346170  1825 Mission Street near 14th street.       0BR / 1Ba   \n",
       "post id: 7514598032         van ness near greenwich street       0BR / 1Ba   \n",
       "post id: 7517784826                        780 Post street       0BR / 1Ba   \n",
       "\n",
       "                                                          listing_body  \\\n",
       "listing_id                                                               \n",
       "post id: 7517797369    QR Code Link to This Post   This is a 1BR 1B...   \n",
       "post id: 7519257988    QR Code Link to This Post   1290 20th Ave. #...   \n",
       "post id: 7515346170    QR Code Link to This Post   Welcome to 1825 ...   \n",
       "post id: 7514598032    QR Code Link to This Post   MORE THAN JUST A...   \n",
       "post id: 7517784826    QR Code Link to This Post   780 Post Street,...   \n",
       "\n",
       "                                 listing_date  \\\n",
       "listing_id                                      \n",
       "post id: 7517797369  2022-08-05T13:48:22-0700   \n",
       "post id: 7519257988  2022-08-09T09:19:13-0700   \n",
       "post id: 7515346170  2022-07-30T12:42:45-0700   \n",
       "post id: 7514598032  2022-07-28T15:10:30-0700   \n",
       "post id: 7517784826  2022-08-05T13:21:42-0700   \n",
       "\n",
       "                                                   listing_first_image  \\\n",
       "listing_id                                                               \n",
       "post id: 7517797369  https://images.craigslist.org/00X0X_aCkV5CnbZ2...   \n",
       "post id: 7519257988  https://images.craigslist.org/00707_34DEnZksvZ...   \n",
       "post id: 7515346170  https://images.craigslist.org/00y0y_gIofOzLqJq...   \n",
       "post id: 7514598032  https://images.craigslist.org/00101_61nNL8QiJS...   \n",
       "post id: 7517784826  https://images.craigslist.org/00M0M_cGnsXvY7FB...   \n",
       "\n",
       "                                                          listing_info  \\\n",
       "listing_id                                                               \n",
       "post id: 7517797369   apartment  laundry in bldg  attached garage  ...   \n",
       "post id: 7519257988   application fee details: $35  cats are OK - p...   \n",
       "post id: 7515346170   cats are OK - purrr  dogs are OK - wooof  apa...   \n",
       "post id: 7514598032   cats are OK - purrr  dogs are OK - wooof  apa...   \n",
       "post id: 7517784826   cats are OK - purrr  dogs are OK - wooof  apa...   \n",
       "\n",
       "                     listing_price listing_sqft  \\\n",
       "listing_id                                        \n",
       "post id: 7517797369           2375         None   \n",
       "post id: 7519257988           2995         None   \n",
       "post id: 7515346170           1950          274   \n",
       "post id: 7514598032           2850          580   \n",
       "post id: 7517784826           1575         None   \n",
       "\n",
       "                                                         listing_title  \\\n",
       "listing_id                                                               \n",
       "post id: 7517797369  Cozy 1BR 1BA, Clean Unit, Walk to Chinatown/Fi...   \n",
       "post id: 7519257988  1290 20thAve.&Irving/Awesome views/Available N...   \n",
       "post id: 7515346170  Beautiful Landscaping, Stainless Steel Applian...   \n",
       "post id: 7514598032         Deluxe Bright Studio in The Marina Chateau   \n",
       "post id: 7517784826  Studio in Historic Pet-friendly Building! 780 ...   \n",
       "\n",
       "                                                           listing_url  \n",
       "listing_id                                                              \n",
       "post id: 7517797369  https://sfbay.craigslist.org/sfc/apa/d/san-fra...  \n",
       "post id: 7519257988  https://sfbay.craigslist.org/sfc/apa/d/san-fra...  \n",
       "post id: 7515346170  https://sfbay.craigslist.org/sfc/apa/d/san-fra...  \n",
       "post id: 7514598032  https://sfbay.craigslist.org/sfc/apa/d/san-fra...  \n",
       "post id: 7517784826  https://sfbay.craigslist.org/sfc/apa/d/san-fra...  "
      ]
     },
     "execution_count": 241,
     "metadata": {},
     "output_type": "execute_result"
    }
   ],
   "source": [
    "listing_df.set_index('listing_id', inplace = True)\n",
    "listing_df.head()"
   ]
  },
  {
   "cell_type": "code",
   "execution_count": 235,
   "metadata": {
    "collapsed": false
   },
   "outputs": [
    {
     "data": {
      "text/plain": [
       "(6211, 11)"
      ]
     },
     "execution_count": 235,
     "metadata": {},
     "output_type": "execute_result"
    }
   ],
   "source": [
    "listing_df.shape"
   ]
  },
  {
   "cell_type": "code",
   "execution_count": 242,
   "metadata": {
    "collapsed": false
   },
   "outputs": [
    {
     "name": "stdout",
     "output_type": "stream",
     "text": [
      "Saved to csv file\n"
     ]
    }
   ],
   "source": [
    "listing_df.to_csv(r'/Users/pandabear/springboard/CapstoneTwoProject/data/interim/listing_df.csv', header=True)\n",
    "print('Saved to csv file')"
   ]
  },
  {
   "cell_type": "code",
   "execution_count": null,
   "metadata": {
    "collapsed": true
   },
   "outputs": [],
   "source": [
    "#neighborhoods in SF\n",
    "S,F_neighborhoods = ['alamo square / nopa', 'bayview', 'bernal heights', 'castro / upper market', 'cole valley / ashbury hts', 'downtown / civic / van ness'\n",
    " 'excelsior / outer mission', 'financial district', 'glen park', 'haight ashbury', 'hayes valley', 'ingleside / SFSU / CCSF', 'inner richmond'\n",
    " 'inner sunset / UCSF', 'laurel hts / presidio', 'lower haight', 'lower nob hill', 'lower pac hts', 'marina / cow hollow', 'mission district'\n",
    " 'nob hill', 'noe valley', 'north beach / telegraph hill', 'pacific heights', 'portola district', 'potrero hill', 'richmond / seacliff', 'russian hill', 'SOMA / south beach', 'sunset / parkside', 'tenderloin'\n",
    " 'treasure island', 'twin peaks / diamond hts', 'USF / panhandle', 'visitacion valley', 'west portal / forest hill', 'western addition']"
   ]
  }
 ],
 "metadata": {
  "kernelspec": {
   "display_name": "Python 3",
   "language": "python",
   "name": "python3"
  },
  "language_info": {
   "codemirror_mode": {
    "name": "ipython",
    "version": 3
   },
   "file_extension": ".py",
   "mimetype": "text/x-python",
   "name": "python",
   "nbconvert_exporter": "python",
   "pygments_lexer": "ipython3",
   "version": "3.6.0"
  }
 },
 "nbformat": 4,
 "nbformat_minor": 2
}

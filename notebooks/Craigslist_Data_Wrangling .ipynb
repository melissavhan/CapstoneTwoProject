{
 "cells": [
  {
   "cell_type": "markdown",
   "metadata": {},
   "source": [
    "# Craigslist Capstone Project - Data Wrangling\n",
    "\n",
    "#### The goal of this capstone is to predict market rent prices in the San Francisco Bay Area. The metros of interest are San Francisco, Peninsula, East Bay. \n",
    "\n",
    "Prior to this notebook, the html from craigslist.com rental listings is parsed and saved as a csv file\n",
    "    * Listing price is the variable we want to predict\n",
    "    * Listing features include number of bedrooms, bathrooms, address, neighborhood, and optional features provided in `listing_info` and `listing_body` such as whether cats and dogs are allowed, if the rental unit is offered furnished. \n",
    "    * Each listing has a unique Listing ID which is set as the index of the dataframe.\n",
    "    * The listing pages are scraped every 4 days, which means there will be duplicate listings that are exactly the same, and duplicates that are posted over time but are for the same rental unit.\n",
    "\n",
    "\n",
    "#### This notebook covers the scope of cleaning, transforming and visualizing\n",
    "\n",
    "1. Drop rows with missing price data and remove duplicate listings\n",
    "2. Convert data types into appropriate ones for machine learning\n",
    "3. Clean listing_bathrooms column\n",
    "4. Clean listing_bedrooms column\n",
    "5. Filter the listing_sqft column using a chosen min/max\n",
    "6. Extract listing_info keywords\n",
    "7. Filter the listing_city column based on how often it occurs\n",
    "8. Check the metro, neighborhood and listing_city is consistent\n",
    "9. Handle missing values\n",
    "10. Extract listing_body into keywords\n",
    "11. Summarize the data visually\n"
   ]
  },
  {
   "cell_type": "markdown",
   "metadata": {},
   "source": [
    "## Importing the libraries"
   ]
  },
  {
   "cell_type": "code",
   "execution_count": 298,
   "metadata": {},
   "outputs": [],
   "source": [
    "#Run the following once to install libraries needed for Matplotlib to work\n",
    "#!conda install nomkl numpy scipy scikit-learn numexpr -y\n",
    "#!conda remove mkl mkl-service -y"
   ]
  },
  {
   "cell_type": "code",
   "execution_count": 299,
   "metadata": {},
   "outputs": [
    {
     "ename": "SyntaxError",
     "evalue": "unexpected EOF while parsing (885238280.py, line 12)",
     "output_type": "error",
     "traceback": [
      "\u001b[0;36m  Input \u001b[0;32mIn [299]\u001b[0;36m\u001b[0m\n\u001b[0;31m    warnings.simplefilter(action=\"ignore\", category=SettingWithCopyWarning\u001b[0m\n\u001b[0m                                                                          ^\u001b[0m\n\u001b[0;31mSyntaxError\u001b[0m\u001b[0;31m:\u001b[0m unexpected EOF while parsing\n"
     ]
    }
   ],
   "source": [
    "import pandas as pd\n",
    "import numpy as np\n",
    "import matplotlib.pyplot as plt\n",
    "import seaborn as sns\n",
    "%matplotlib inline\n",
    "import re\n",
    "import requests\n",
    "import warnings # For handling error messages. \n",
    "warnings.simplefilter(action=\"ignore\", category=FutureWarning)\n",
    "warnings.filterwarnings(action=\"ignore\", module=\"scipy\", message=\"^internal gelsd\")\n",
    "from pandas.core.common import SettingWithCopyWarning\n",
    "warnings.simplefilter(action=\"ignore\", category=SettingWithCopyWarning"
   ]
  },
  {
   "cell_type": "code",
   "execution_count": 335,
   "metadata": {},
   "outputs": [],
   "source": [
    "# Neighborhoods in SF\n",
    "SFC_NEIGHBORHOODS = ['alamo square / nopa', 'bayview', 'bernal heights', 'castro / upper market', 'cole valley / ashbury hts', 'downtown / civic / van ness',\n",
    " 'excelsior / outer mission', 'financial district', 'glen park', 'haight ashbury', 'hayes valley', 'ingleside / SFSU / CCSF', 'inner richmond',\n",
    " 'inner sunset / UCSF', 'laurel hts / presidio', 'lower haight', 'lower nob hill', 'lower pac hts', 'marina / cow hollow', 'mission district',\n",
    " 'nob hill', 'noe valley', 'north beach / telegraph hill', 'pacific heights', 'portola district', 'potrero hill', 'richmond / seacliff', 'russian hill', \n",
    "'SOMA / south beach', 'sunset / parkside', 'tenderloin','treasure island', 'twin peaks / diamond hts', 'USF / panhandle', 'visitacion valley', \n",
    "'west portal / forest hill', 'western addition']\n",
    "\n",
    "# Neighborhoods in Peninsula\n",
    "PEN_NEIGHBORHOODS = ['atherton','belmont','brisbane','burlingame','coastside/pescadero','daly city','east palo alto','foster city','half moon bay','los altos','menlo park','millbrae',\n",
    "                     'mountain view','pacifica','palo alto','portola valley','redwood city','redwood shores','san bruno','san carlos','san mateo','south san francisco','woodside']\n",
    "\n",
    "# Neighborhoods in the East Bay\n",
    "EBY_NEIGHBORHOODS = ['alameda','albany / el cerrito','berkeley','berkeley north / hills','brentwood / oakley','concord / pleasant hill / martinez','danville / san ramon',\n",
    "                     'dublin / pleasanton / livermore','emeryville','fairfield / vacaville','fremont / union city / newark','hayward / castro valley','hercules, pinole, san pablo, el sob',\n",
    "                     'lafayette / orinda / moraga','oakland downtown','oakland east','oakland hills / mills','oakland lake merritt / grand','oakland north / temescal',\n",
    "                     'oakland piedmont / montclair','oakland rockridge / claremont','oakland west','pittsburg / antioch','richmond / point / annex','san leandro','vallejo / benicia','walnut creek']\n",
    "# List of cities\n",
    "SFC_CITIES = ['San Francisco']\n",
    "PEN_CITIES = ['Palo Alto','San Mateo','Mountain View','Redwood City','Menlo Park','Daly City','San Bruno','South San Francisco','Foster City','Burlingame']\n",
    "EBY_CITIES = ['Oakland','Berkeley','Fremont','Walnut Creek','Concord','Hayward','Alameda','Pleasanton','San Leandro','Vallejo','San Ramon','Emeryville',\n",
    "        'Dublin','Richmond','Fairfield','Livermore','Antioch','Pittsburg','Union City','El Cerrito']\n",
    "\n",
    "ALL_CITIES = SFC_CITIES + PEN_CITIES + EBY_CITIES\n",
    "\n",
    "# Dictionaries for neighborhood and city relationship\n",
    "METRO_TO_NEIGHBORHOODS = {'sfc': SFC_NEIGHBORHOODS, 'pen': PEN_NEIGHBORHOODS, 'eby': EBY_NEIGHBORHOODS}\n",
    "METRO_TO_CITIES = {'sfc': SFC_CITIES, 'pen': PEN_CITIES, 'eby': EBY_CITIES}\n",
    "\n",
    "NEIGHBORHOOD_TO_METRO = {neighborhood: metro for metro, neighborhoods in METRO_TO_NEIGHBORHOODS.items() for neighborhood in neighborhoods}\n",
    "CITY_TO_METRO = {city: metro for metro,cities in METRO_TO_CITIES.items() for city in cities}\n",
    "\n",
    "# Create a dictionary mapping listing_info values to the categorical column name\n",
    "LISTING_INFO_TO_COLUMN = {'cats are OK - purrr':'animals_cats','dogs are OK - wooof':'animals_dogs','furnished':'furnished',\n",
    "                    'no smoking':'smoking','wheelchair accessible':'wheelchair accessible','air conditioning':'has_AC',\n",
    "                     'EV charging':'hasEVCharging','laundry in bldg':'laundry_in_bldg','w/d in unit':'laundry_in_unit',\n",
    "                     'w/d hookups':'laundry_has_hookup','laundry on site':'laundry_onsite','no laundry on site':'laundry_not_onsite',\n",
    "                     'carport':'parking_carport','attached garage':'parking_attached_garage','detached garage':'parking_detached_garage',\n",
    "                     'off-street parking':'parking_offstreet','street parking':'parking_street','valet parking':'parking_valet','no parking':'parking_none',\n",
    "                     'rent period: daily':'rent_period_daily','rent period: weekly':'rent_period_weekly','rent period: monthly':'rent_period_monthly',\n",
    "                     'condo':'housing_condo','apartment':'housing_apt','cottage/cabin':'housing_cottage','duplex':'housing_duplex',\n",
    "                     'flat':'housing_flat','house':'housing_house','in-law':'housing_inlaw','loft':'housing_inlaw','townhouse':'housing_townhouse'}\n",
    "\n",
    "# Create a dictionary mapping listing_body features to the categorical column name\n",
    "LISTING_BODY_TO_COLUMN = {'rent control':'is_rent_controlled','no pets':'pets_allowed','remodelled':'is_remodelled',\n",
    "                         '(amenities)|(pool)|(gym)|(spa)':'has_amenities'}"
   ]
  },
  {
   "cell_type": "code",
   "execution_count": null,
   "metadata": {},
   "outputs": [],
   "source": [
    "# Check the metro and neighborhood is consistent\n",
    "def correct_metro(neighborhood, city):\n",
    "    if city in CITY_TO_METRO:\n",
    "        return NEIGHBORHOOD_TO_METRO[neighborhood] == CITY_TO_METRO[city]\n",
    "    else:\n",
    "        return False\n",
    "    \n",
    "def clean_city(city):\n",
    "    city = city.strip()\n",
    "    city = city.strip('.')\n",
    "    if ',' in city:\n",
    "        return city.split(',')[0]\n",
    "    if '/' in city:\n",
    "        return city.split('/')[0]\n",
    "    return city\n",
    "\n",
    "# Extract key features from listing_info\n",
    "def get_listing_info_feature(listing_info_split, target_info):\n",
    "    for info in listing_info_split:\n",
    "        if info == target_info:\n",
    "            return 1\n",
    "    return 0\n",
    "\n",
    "# Extract key features from listing_body\n",
    "def parse_listing_body(text,target_word):\n",
    "    for key in LISTING_BODY_TO_COLUMN.keys():\n",
    "        if re.search(target_word, text.lower()) is not None:\n",
    "            return 1\n",
    "    return 0"
   ]
  },
  {
   "cell_type": "markdown",
   "metadata": {},
   "source": [
    "## Load the data"
   ]
  },
  {
   "cell_type": "code",
   "execution_count": null,
   "metadata": {},
   "outputs": [],
   "source": [
    "# The parsed html listing data is the interim directory\n",
    "dir_folder = '/Users/pandabear/springboard/CapstoneTwoProject/data/interim/'\n",
    "listing_df = pd.read_csv(dir_folder + 'listing_df.csv',index_col='listing_id')\n",
    "\n",
    "# Select the first 10000 rows\n",
    "# listing_df = listing_df.iloc[:10000,:]"
   ]
  },
  {
   "cell_type": "code",
   "execution_count": null,
   "metadata": {},
   "outputs": [],
   "source": [
    "listing_df.head()"
   ]
  },
  {
   "cell_type": "code",
   "execution_count": null,
   "metadata": {},
   "outputs": [],
   "source": [
    "listing_df.describe()"
   ]
  },
  {
   "cell_type": "code",
   "execution_count": null,
   "metadata": {},
   "outputs": [],
   "source": [
    "listing_df.info()"
   ]
  },
  {
   "cell_type": "code",
   "execution_count": null,
   "metadata": {},
   "outputs": [],
   "source": [
    "listing_dr_rows = listing_df.shape[0]\n",
    "listing_df.shape"
   ]
  },
  {
   "cell_type": "code",
   "execution_count": 300,
   "metadata": {},
   "outputs": [],
   "source": []
  },
  {
   "cell_type": "code",
   "execution_count": 301,
   "metadata": {},
   "outputs": [
    {
     "data": {
      "text/html": [
       "<div>\n",
       "<style scoped>\n",
       "    .dataframe tbody tr th:only-of-type {\n",
       "        vertical-align: middle;\n",
       "    }\n",
       "\n",
       "    .dataframe tbody tr th {\n",
       "        vertical-align: top;\n",
       "    }\n",
       "\n",
       "    .dataframe thead th {\n",
       "        text-align: right;\n",
       "    }\n",
       "</style>\n",
       "<table border=\"1\" class=\"dataframe\">\n",
       "  <thead>\n",
       "    <tr style=\"text-align: right;\">\n",
       "      <th></th>\n",
       "      <th>listing_price</th>\n",
       "      <th>listing_bedrooms</th>\n",
       "      <th>listing_sqft</th>\n",
       "    </tr>\n",
       "  </thead>\n",
       "  <tbody>\n",
       "    <tr>\n",
       "      <th>count</th>\n",
       "      <td>173032.000000</td>\n",
       "      <td>173032.000000</td>\n",
       "      <td>143869.000000</td>\n",
       "    </tr>\n",
       "    <tr>\n",
       "      <th>mean</th>\n",
       "      <td>3198.799968</td>\n",
       "      <td>1.549505</td>\n",
       "      <td>898.086614</td>\n",
       "    </tr>\n",
       "    <tr>\n",
       "      <th>std</th>\n",
       "      <td>1348.502299</td>\n",
       "      <td>0.913281</td>\n",
       "      <td>1094.634538</td>\n",
       "    </tr>\n",
       "    <tr>\n",
       "      <th>min</th>\n",
       "      <td>505.000000</td>\n",
       "      <td>0.000000</td>\n",
       "      <td>1.000000</td>\n",
       "    </tr>\n",
       "    <tr>\n",
       "      <th>25%</th>\n",
       "      <td>2350.000000</td>\n",
       "      <td>1.000000</td>\n",
       "      <td>656.000000</td>\n",
       "    </tr>\n",
       "    <tr>\n",
       "      <th>50%</th>\n",
       "      <td>2893.000000</td>\n",
       "      <td>1.000000</td>\n",
       "      <td>800.000000</td>\n",
       "    </tr>\n",
       "    <tr>\n",
       "      <th>75%</th>\n",
       "      <td>3692.000000</td>\n",
       "      <td>2.000000</td>\n",
       "      <td>1011.000000</td>\n",
       "    </tr>\n",
       "    <tr>\n",
       "      <th>max</th>\n",
       "      <td>18995.000000</td>\n",
       "      <td>8.000000</td>\n",
       "      <td>94103.000000</td>\n",
       "    </tr>\n",
       "  </tbody>\n",
       "</table>\n",
       "</div>"
      ],
      "text/plain": [
       "       listing_price  listing_bedrooms   listing_sqft\n",
       "count  173032.000000     173032.000000  143869.000000\n",
       "mean     3198.799968          1.549505     898.086614\n",
       "std      1348.502299          0.913281    1094.634538\n",
       "min       505.000000          0.000000       1.000000\n",
       "25%      2350.000000          1.000000     656.000000\n",
       "50%      2893.000000          1.000000     800.000000\n",
       "75%      3692.000000          2.000000    1011.000000\n",
       "max     18995.000000          8.000000   94103.000000"
      ]
     },
     "execution_count": 301,
     "metadata": {},
     "output_type": "execute_result"
    }
   ],
   "source": [
    "listing_df.describe()"
   ]
  },
  {
   "cell_type": "markdown",
   "metadata": {},
   "source": [
    "## 1. Drop rows with missing price data and remove duplicate listings\n",
    "Drop duplicates using 3 filters: (Note: optional fields in craigslist are address, neighborhood)\n",
    "* Filter 1: by title, bedroom, bathroom, neighborhood\n",
    "* Filter 2: by image link, bedroom, bathroom, neighborhood\n",
    "* Filter 3: by listing_address, listing_city, bedroom, bathroom"
   ]
  },
  {
   "cell_type": "code",
   "execution_count": null,
   "metadata": {},
   "outputs": [],
   "source": [
    "# Drop rows that are missing price data\n",
    "#listing_df = listing_df.dropna(subset=['listing_price'])\n",
    "\n",
    "# Drop rows where price is below a chosen min and max\n",
    "price_min = 500\n",
    "price_max = 20000\n",
    "listing_df = listing_df.loc[(listing_df.listing_price > price_min) & (listing_df.listing_price < price_max)]"
   ]
  },
  {
   "cell_type": "code",
   "execution_count": 302,
   "metadata": {},
   "outputs": [
    {
     "data": {
      "text/plain": [
       "First-floor two-bedroom in Theater District                      752\n",
       "Amazing 2 bed 2 bath home                                        412\n",
       "***UP to 8-weeks OFF RENT!!*** Apply Today!                      358\n",
       "Gorgeous 1Bd,1Ba in Newly Renovated Community Downtown Living    210\n",
       "Renovated 1x1 Apartment with In-Wall USB Charging Ports          191\n",
       "Name: listing_title, dtype: int64"
      ]
     },
     "execution_count": 302,
     "metadata": {},
     "output_type": "execute_result"
    }
   ],
   "source": [
    "# Look at the number of exact duplicates\n",
    "duplicates = listing_df['listing_title'].value_counts()\n",
    "duplicates.head()"
   ]
  },
  {
   "cell_type": "code",
   "execution_count": 303,
   "metadata": {},
   "outputs": [
    {
     "name": "stdout",
     "output_type": "stream",
     "text": [
      "Total number of duplicates by listing title: 167266\n"
     ]
    }
   ],
   "source": [
    "print('Total number of duplicates by listing title: {}'.format(duplicates[duplicates != 1].sum()))"
   ]
  },
  {
   "cell_type": "code",
   "execution_count": 304,
   "metadata": {},
   "outputs": [
    {
     "name": "stdout",
     "output_type": "stream",
     "text": [
      "Dataframe size after filter 1: 33355 rows, 13 columns\n",
      "Filter 1 dropped 139917 rows\n"
     ]
    }
   ],
   "source": [
    "# 1. Drop duplicates by subset of title, bedroom, bathroom, neighborhood\n",
    "df_drop_by_filter1 = listing_df.drop_duplicates(subset = ['listing_title','listing_bedrooms','listing_bathrooms','listing_nh'], keep = 'last', inplace = False)\n",
    "print(f\"Dataframe size after filter 1: {df_drop_by_filter1.shape[0]} rows, {df_drop_by_filter1.shape[1]} columns\")\n",
    "print(f\"Filter 1 dropped {listing_dr_rows - df_drop_by_filter1.shape[0]} rows\")"
   ]
  },
  {
   "cell_type": "code",
   "execution_count": 305,
   "metadata": {},
   "outputs": [
    {
     "name": "stdout",
     "output_type": "stream",
     "text": [
      "Dataframe size after filter 2: 23690 rows, 13 columns\n",
      "Filter 2 dropped 9665 rows\n"
     ]
    }
   ],
   "source": [
    "# 2. Drop duplicates by subset of image link, bedroom, bathroom, neighborhood\n",
    "df_drop_by_filter2 = df_drop_by_filter1.drop_duplicates(subset = ['listing_first_image','listing_bedrooms','listing_bathrooms','listing_nh'], keep = 'last', inplace = False)\n",
    "print(f\"Dataframe size after filter 2: {df_drop_by_filter2.shape[0]} rows, {df_drop_by_filter2.shape[1]} columns\")\n",
    "print(f\"Filter 2 dropped {df_drop_by_filter1.shape[0] - df_drop_by_filter2.shape[0]} rows\")"
   ]
  },
  {
   "cell_type": "code",
   "execution_count": 306,
   "metadata": {},
   "outputs": [
    {
     "name": "stdout",
     "output_type": "stream",
     "text": [
      "Dataframe size after filter 3: 11093 rows, 13 columns\n",
      "Filter 3 dropped 12597 rows\n"
     ]
    }
   ],
   "source": [
    "# 3. Drop duplicates by subset of listing_address, listing_city, bedroom, bathroom\n",
    "df_drop_by_filter3 = df_drop_by_filter2.drop_duplicates(subset = ['listing_address','listing_city','listing_bedrooms','listing_bathrooms'], keep = 'last', inplace = False)\n",
    "print(f\"Dataframe size after filter 3: {df_drop_by_filter3.shape[0]} rows, {df_drop_by_filter3.shape[1]} columns\")\n",
    "print(f\"Filter 3 dropped {df_drop_by_filter2.shape[0] - df_drop_by_filter3.shape[0]} rows\")"
   ]
  },
  {
   "cell_type": "code",
   "execution_count": 307,
   "metadata": {},
   "outputs": [
    {
     "name": "stdout",
     "output_type": "stream",
     "text": [
      "Dataframe size after dropping based on all columns: 51665 rows, 13 columns\n",
      "Dropping duplicates by all columns dropped 121607 rows\n"
     ]
    }
   ],
   "source": [
    "# Compare with dropping duplicates based on all columns\n",
    "df_drop_by_all_cols = listing_df.drop_duplicates(keep = 'last', inplace = False)\n",
    "df_drop_by_all_cols.shape\n",
    "print(f\"Dataframe size after dropping based on all columns: {df_drop_by_all_cols.shape[0]} rows, {df_drop_by_all_cols.shape[1]} columns\")\n",
    "print(f\"Dropping duplicates by all columns dropped {listing_dr_rows - df_drop_by_all_cols.shape[0]} rows\")"
   ]
  },
  {
   "cell_type": "code",
   "execution_count": 308,
   "metadata": {},
   "outputs": [
    {
     "data": {
      "text/html": [
       "<div>\n",
       "<style scoped>\n",
       "    .dataframe tbody tr th:only-of-type {\n",
       "        vertical-align: middle;\n",
       "    }\n",
       "\n",
       "    .dataframe tbody tr th {\n",
       "        vertical-align: top;\n",
       "    }\n",
       "\n",
       "    .dataframe thead th {\n",
       "        text-align: right;\n",
       "    }\n",
       "</style>\n",
       "<table border=\"1\" class=\"dataframe\">\n",
       "  <thead>\n",
       "    <tr style=\"text-align: right;\">\n",
       "      <th></th>\n",
       "      <th>listing_title</th>\n",
       "      <th>listing_nh</th>\n",
       "      <th>listing_city</th>\n",
       "      <th>listing_date</th>\n",
       "      <th>listing_price</th>\n",
       "      <th>listing_bedrooms</th>\n",
       "      <th>listing_bathrooms</th>\n",
       "      <th>listing_sqft</th>\n",
       "      <th>listing_address</th>\n",
       "      <th>listing_info</th>\n",
       "      <th>listing_body</th>\n",
       "      <th>listing_url</th>\n",
       "      <th>listing_first_image</th>\n",
       "    </tr>\n",
       "    <tr>\n",
       "      <th>listing_id</th>\n",
       "      <th></th>\n",
       "      <th></th>\n",
       "      <th></th>\n",
       "      <th></th>\n",
       "      <th></th>\n",
       "      <th></th>\n",
       "      <th></th>\n",
       "      <th></th>\n",
       "      <th></th>\n",
       "      <th></th>\n",
       "      <th></th>\n",
       "      <th></th>\n",
       "      <th></th>\n",
       "    </tr>\n",
       "  </thead>\n",
       "  <tbody>\n",
       "    <tr>\n",
       "      <th>7520103440</th>\n",
       "      <td>Beautiful and Spacious NEW remodeled Silicon V...</td>\n",
       "      <td>fremont / union city / newark</td>\n",
       "      <td>Fremont</td>\n",
       "      <td>2022-08-11T09:51:58-0700</td>\n",
       "      <td>3800</td>\n",
       "      <td>3</td>\n",
       "      <td>2</td>\n",
       "      <td>1495.0</td>\n",
       "      <td>Newport Dr</td>\n",
       "      <td>open house dates   saturday 2022-08-13    sun...</td>\n",
       "      <td>Great location 3 Bed 2 Bath Single Family Hous...</td>\n",
       "      <td>https://sfbay.craigslist.org/eby/apa/d/fremont...</td>\n",
       "      <td>https://images.craigslist.org/00C0C_iEcKsVmzdg...</td>\n",
       "    </tr>\n",
       "    <tr>\n",
       "      <th>7520292010</th>\n",
       "      <td>Spacious, bright live/work loft with all utili...</td>\n",
       "      <td>oakland west</td>\n",
       "      <td>Oakland</td>\n",
       "      <td>2022-08-11T16:49:29-0700</td>\n",
       "      <td>2450</td>\n",
       "      <td>1</td>\n",
       "      <td>1</td>\n",
       "      <td>925.0</td>\n",
       "      <td>1468 32nd St near louise</td>\n",
       "      <td>application fee details: $45  cats are OK - p...</td>\n",
       "      <td>Spacious, bright live/work loft with all utili...</td>\n",
       "      <td>https://sfbay.craigslist.org/eby/apa/d/emeryvi...</td>\n",
       "      <td>https://images.craigslist.org/00n0n_9bLXcwFIi1...</td>\n",
       "    </tr>\n",
       "    <tr>\n",
       "      <th>7520905091</th>\n",
       "      <td>Highly desired Vista neighborhood with a charm...</td>\n",
       "      <td>vallejo / benicia</td>\n",
       "      <td>Vallejo</td>\n",
       "      <td>2022-08-13T09:04:22-0700</td>\n",
       "      <td>2100</td>\n",
       "      <td>2</td>\n",
       "      <td>1</td>\n",
       "      <td>904.0</td>\n",
       "      <td>226 Edgemont Avenue near Edgemont Avenue</td>\n",
       "      <td>EV charging  air conditioning  cats are OK - ...</td>\n",
       "      <td>Highly desired Vista neighborhood with a charm...</td>\n",
       "      <td>https://sfbay.craigslist.org/eby/apa/d/vallejo...</td>\n",
       "      <td>https://images.craigslist.org/00c0c_8OXB1Zm4PN...</td>\n",
       "    </tr>\n",
       "    <tr>\n",
       "      <th>7520907681</th>\n",
       "      <td>lovely 2-bedroom 2 bath home with open floor p...</td>\n",
       "      <td>vallejo / benicia</td>\n",
       "      <td>Vallejo</td>\n",
       "      <td>2022-08-13T09:09:26-0700</td>\n",
       "      <td>2200</td>\n",
       "      <td>2</td>\n",
       "      <td>2</td>\n",
       "      <td>1420.0</td>\n",
       "      <td>1509 Sacramento Street near Sacramento Street</td>\n",
       "      <td>EV charging  air conditioning  cats are OK - ...</td>\n",
       "      <td>lovely 2-bedroom 2 bath home with open floor p...</td>\n",
       "      <td>https://sfbay.craigslist.org/eby/apa/d/vallejo...</td>\n",
       "      <td>https://images.craigslist.org/00303_28XoaVJ8dA...</td>\n",
       "    </tr>\n",
       "    <tr>\n",
       "      <th>7520608095</th>\n",
       "      <td>$3,935 / 2br - 1266ft2 - NEW LOW RATE! Spaciou...</td>\n",
       "      <td>dublin / pleasanton / livermore</td>\n",
       "      <td>Pleasanton</td>\n",
       "      <td>2022-08-12T12:34:49-0700</td>\n",
       "      <td>3935</td>\n",
       "      <td>2</td>\n",
       "      <td>2</td>\n",
       "      <td>NaN</td>\n",
       "      <td>1552 E Gate Way</td>\n",
       "      <td>air conditioning  application fee details: $5...</td>\n",
       "      <td>Available Date: Now  Apartment #: 110  Size: 1...</td>\n",
       "      <td>https://sfbay.craigslist.org/eby/apa/d/pleasan...</td>\n",
       "      <td>https://images.craigslist.org/00g0g_ikx5DdQu5V...</td>\n",
       "    </tr>\n",
       "  </tbody>\n",
       "</table>\n",
       "</div>"
      ],
      "text/plain": [
       "                                                listing_title  \\\n",
       "listing_id                                                      \n",
       "7520103440  Beautiful and Spacious NEW remodeled Silicon V...   \n",
       "7520292010  Spacious, bright live/work loft with all utili...   \n",
       "7520905091  Highly desired Vista neighborhood with a charm...   \n",
       "7520907681  lovely 2-bedroom 2 bath home with open floor p...   \n",
       "7520608095  $3,935 / 2br - 1266ft2 - NEW LOW RATE! Spaciou...   \n",
       "\n",
       "                                 listing_nh listing_city  \\\n",
       "listing_id                                                 \n",
       "7520103440    fremont / union city / newark      Fremont   \n",
       "7520292010                     oakland west      Oakland   \n",
       "7520905091                vallejo / benicia      Vallejo   \n",
       "7520907681                vallejo / benicia      Vallejo   \n",
       "7520608095  dublin / pleasanton / livermore   Pleasanton   \n",
       "\n",
       "                        listing_date  listing_price  listing_bedrooms  \\\n",
       "listing_id                                                              \n",
       "7520103440  2022-08-11T09:51:58-0700           3800                 3   \n",
       "7520292010  2022-08-11T16:49:29-0700           2450                 1   \n",
       "7520905091  2022-08-13T09:04:22-0700           2100                 2   \n",
       "7520907681  2022-08-13T09:09:26-0700           2200                 2   \n",
       "7520608095  2022-08-12T12:34:49-0700           3935                 2   \n",
       "\n",
       "           listing_bathrooms  listing_sqft  \\\n",
       "listing_id                                   \n",
       "7520103440                 2        1495.0   \n",
       "7520292010                 1         925.0   \n",
       "7520905091                 1         904.0   \n",
       "7520907681                 2        1420.0   \n",
       "7520608095                 2           NaN   \n",
       "\n",
       "                                          listing_address  \\\n",
       "listing_id                                                  \n",
       "7520103440                                     Newport Dr   \n",
       "7520292010                       1468 32nd St near louise   \n",
       "7520905091       226 Edgemont Avenue near Edgemont Avenue   \n",
       "7520907681  1509 Sacramento Street near Sacramento Street   \n",
       "7520608095                                1552 E Gate Way   \n",
       "\n",
       "                                                 listing_info  \\\n",
       "listing_id                                                      \n",
       "7520103440   open house dates   saturday 2022-08-13    sun...   \n",
       "7520292010   application fee details: $45  cats are OK - p...   \n",
       "7520905091   EV charging  air conditioning  cats are OK - ...   \n",
       "7520907681   EV charging  air conditioning  cats are OK - ...   \n",
       "7520608095   air conditioning  application fee details: $5...   \n",
       "\n",
       "                                                 listing_body  \\\n",
       "listing_id                                                      \n",
       "7520103440  Great location 3 Bed 2 Bath Single Family Hous...   \n",
       "7520292010  Spacious, bright live/work loft with all utili...   \n",
       "7520905091  Highly desired Vista neighborhood with a charm...   \n",
       "7520907681  lovely 2-bedroom 2 bath home with open floor p...   \n",
       "7520608095  Available Date: Now  Apartment #: 110  Size: 1...   \n",
       "\n",
       "                                                  listing_url  \\\n",
       "listing_id                                                      \n",
       "7520103440  https://sfbay.craigslist.org/eby/apa/d/fremont...   \n",
       "7520292010  https://sfbay.craigslist.org/eby/apa/d/emeryvi...   \n",
       "7520905091  https://sfbay.craigslist.org/eby/apa/d/vallejo...   \n",
       "7520907681  https://sfbay.craigslist.org/eby/apa/d/vallejo...   \n",
       "7520608095  https://sfbay.craigslist.org/eby/apa/d/pleasan...   \n",
       "\n",
       "                                          listing_first_image  \n",
       "listing_id                                                     \n",
       "7520103440  https://images.craigslist.org/00C0C_iEcKsVmzdg...  \n",
       "7520292010  https://images.craigslist.org/00n0n_9bLXcwFIi1...  \n",
       "7520905091  https://images.craigslist.org/00c0c_8OXB1Zm4PN...  \n",
       "7520907681  https://images.craigslist.org/00303_28XoaVJ8dA...  \n",
       "7520608095  https://images.craigslist.org/00g0g_ikx5DdQu5V...  "
      ]
     },
     "execution_count": 308,
     "metadata": {},
     "output_type": "execute_result"
    }
   ],
   "source": [
    "# Use all 3 filters\n",
    "df = df_drop_by_filter3\n",
    "df.head()"
   ]
  },
  {
   "cell_type": "markdown",
   "metadata": {},
   "source": [
    "## 2. Convert data types"
   ]
  },
  {
   "cell_type": "code",
   "execution_count": 309,
   "metadata": {},
   "outputs": [
    {
     "data": {
      "text/plain": [
       "listing_title           object\n",
       "listing_nh              object\n",
       "listing_city            object\n",
       "listing_date            object\n",
       "listing_price            int64\n",
       "listing_bedrooms         int64\n",
       "listing_bathrooms       object\n",
       "listing_sqft           float64\n",
       "listing_address         object\n",
       "listing_info            object\n",
       "listing_body            object\n",
       "listing_url             object\n",
       "listing_first_image     object\n",
       "dtype: object"
      ]
     },
     "execution_count": 309,
     "metadata": {},
     "output_type": "execute_result"
    }
   ],
   "source": [
    "df.dtypes"
   ]
  },
  {
   "cell_type": "code",
   "execution_count": 310,
   "metadata": {},
   "outputs": [
    {
     "name": "stderr",
     "output_type": "stream",
     "text": [
      "/var/folders/5_/87js___11b5312gjj36qhf_m0000gn/T/ipykernel_11295/2749220627.py:3: SettingWithCopyWarning: \n",
      "A value is trying to be set on a copy of a slice from a DataFrame.\n",
      "Try using .loc[row_indexer,col_indexer] = value instead\n",
      "\n",
      "See the caveats in the documentation: https://pandas.pydata.org/pandas-docs/stable/user_guide/indexing.html#returning-a-view-versus-a-copy\n",
      "  df['listing_date'] = pd.to_datetime(df['listing_date'])\n"
     ]
    }
   ],
   "source": [
    "df.is_copy = False\n",
    "# Convert the listing_date column into datetime\n",
    "df['listing_date'] = pd.to_datetime(df['listing_date'])"
   ]
  },
  {
   "cell_type": "markdown",
   "metadata": {},
   "source": [
    "## 3. Clean listing_bathrooms column\n",
    "The bathroom category can stay as a categorical feature"
   ]
  },
  {
   "cell_type": "code",
   "execution_count": 311,
   "metadata": {},
   "outputs": [
    {
     "name": "stderr",
     "output_type": "stream",
     "text": [
      "/var/folders/5_/87js___11b5312gjj36qhf_m0000gn/T/ipykernel_11295/529705163.py:2: SettingWithCopyWarning: \n",
      "A value is trying to be set on a copy of a slice from a DataFrame.\n",
      "Try using .loc[row_indexer,col_indexer] = value instead\n",
      "\n",
      "See the caveats in the documentation: https://pandas.pydata.org/pandas-docs/stable/user_guide/indexing.html#returning-a-view-versus-a-copy\n",
      "  df['listing_bathrooms'] = df['listing_bathrooms'].map(lambda x: x.strip())\n"
     ]
    },
    {
     "data": {
      "text/plain": [
       "array(['2', '1', '2.5', '3', '3.5', '1.5', 'shared', 'split', '4', '5',\n",
       "       '4.5', '6', '6.5', '9+', '8', '5.5'], dtype=object)"
      ]
     },
     "execution_count": 311,
     "metadata": {},
     "output_type": "execute_result"
    }
   ],
   "source": [
    "# Trim trailing spaces on string values in listing_bathrooms\n",
    "df['listing_bathrooms'] = df['listing_bathrooms'].map(lambda x: x.strip())\n",
    "df['listing_bathrooms'].unique()"
   ]
  },
  {
   "cell_type": "code",
   "execution_count": 312,
   "metadata": {},
   "outputs": [
    {
     "data": {
      "text/plain": [
       "1         6903\n",
       "2         2499\n",
       "1.5        514\n",
       "2.5        479\n",
       "3          377\n",
       "3.5         99\n",
       "shared      77\n",
       "split       69\n",
       "4           48\n",
       "4.5         16\n",
       "5            7\n",
       "6            1\n",
       "6.5          1\n",
       "9+           1\n",
       "8            1\n",
       "5.5          1\n",
       "Name: listing_bathrooms, dtype: int64"
      ]
     },
     "execution_count": 312,
     "metadata": {},
     "output_type": "execute_result"
    }
   ],
   "source": [
    "df['listing_bathrooms'].value_counts()"
   ]
  },
  {
   "cell_type": "code",
   "execution_count": 313,
   "metadata": {},
   "outputs": [
    {
     "name": "stderr",
     "output_type": "stream",
     "text": [
      "/var/folders/5_/87js___11b5312gjj36qhf_m0000gn/T/ipykernel_11295/4158703886.py:2: SettingWithCopyWarning: \n",
      "A value is trying to be set on a copy of a slice from a DataFrame\n",
      "\n",
      "See the caveats in the documentation: https://pandas.pydata.org/pandas-docs/stable/user_guide/indexing.html#returning-a-view-versus-a-copy\n",
      "  df['listing_bathrooms'][df['listing_bathrooms'] == 'split'] = '1'\n",
      "/var/folders/5_/87js___11b5312gjj36qhf_m0000gn/T/ipykernel_11295/4158703886.py:2: SettingWithCopyWarning: \n",
      "A value is trying to be set on a copy of a slice from a DataFrame\n",
      "\n",
      "See the caveats in the documentation: https://pandas.pydata.org/pandas-docs/stable/user_guide/indexing.html#returning-a-view-versus-a-copy\n",
      "  df['listing_bathrooms'][df['listing_bathrooms'] == 'split'] = '1'\n",
      "/var/folders/5_/87js___11b5312gjj36qhf_m0000gn/T/ipykernel_11295/4158703886.py:6: SettingWithCopyWarning: \n",
      "A value is trying to be set on a copy of a slice from a DataFrame\n",
      "\n",
      "See the caveats in the documentation: https://pandas.pydata.org/pandas-docs/stable/user_guide/indexing.html#returning-a-view-versus-a-copy\n",
      "  df['listing_bathrooms'][df['listing_bathrooms'].isin(extra_bath)] = '4+'\n",
      "/var/folders/5_/87js___11b5312gjj36qhf_m0000gn/T/ipykernel_11295/4158703886.py:6: SettingWithCopyWarning: \n",
      "A value is trying to be set on a copy of a slice from a DataFrame\n",
      "\n",
      "See the caveats in the documentation: https://pandas.pydata.org/pandas-docs/stable/user_guide/indexing.html#returning-a-view-versus-a-copy\n",
      "  df['listing_bathrooms'][df['listing_bathrooms'].isin(extra_bath)] = '4+'\n"
     ]
    }
   ],
   "source": [
    "# 1 split bathroom is the same as 1 bathroom, so convert 'split' to type '1'\n",
    "df['listing_bathrooms'][df['listing_bathrooms'] == 'split'] = '1'\n",
    "\n",
    "# Since these are the only inputs for bathroom in the craigslist UI, lump all bathrooms > 3 into a single type '3+'\n",
    "extra_bath = ['4','4.5','5','5.5','6','6.5','7','7.5','8','8.5','9+']\n",
    "df['listing_bathrooms'][df['listing_bathrooms'].isin(extra_bath)] = '4+'"
   ]
  },
  {
   "cell_type": "code",
   "execution_count": 314,
   "metadata": {},
   "outputs": [
    {
     "data": {
      "text/plain": [
       "1         6972\n",
       "2         2499\n",
       "1.5        514\n",
       "2.5        479\n",
       "3          377\n",
       "3.5         99\n",
       "shared      77\n",
       "4+          76\n",
       "Name: listing_bathrooms, dtype: int64"
      ]
     },
     "execution_count": 314,
     "metadata": {},
     "output_type": "execute_result"
    }
   ],
   "source": [
    "df['listing_bathrooms'].value_counts()"
   ]
  },
  {
   "cell_type": "code",
   "execution_count": 315,
   "metadata": {},
   "outputs": [
    {
     "data": {
      "text/plain": [
       "Text(0.5, 1.0, 'Distribution of bathrooms across craigslist listings')"
      ]
     },
     "execution_count": 315,
     "metadata": {},
     "output_type": "execute_result"
    },
    {
     "data": {
      "image/png": "[encoded data removed]",
      "text/plain": [
       "<Figure size 432x288 with 1 Axes>"
      ]
     },
     "metadata": {
      "needs_background": "light"
     },
     "output_type": "display_data"
    }
   ],
   "source": [
    "df['listing_bathrooms'].value_counts().sort_index().plot(kind='bar')\n",
    "plt.xlabel('Number of bathrooms')\n",
    "plt.ylabel('Count')\n",
    "plt.title('Distribution of bathrooms across craigslist listings')"
   ]
  },
  {
   "cell_type": "markdown",
   "metadata": {},
   "source": [
    "## 4. Clean listing_bedrooms column\n",
    "Consolidate data into categories that belong together e.g. lump 6,7,8 bedroom places into 6+ bedrooms.\n",
    "\n",
    "The bedroom category can also stay as a categorical feature"
   ]
  },
  {
   "cell_type": "code",
   "execution_count": 316,
   "metadata": {},
   "outputs": [
    {
     "name": "stderr",
     "output_type": "stream",
     "text": [
      "/var/folders/5_/87js___11b5312gjj36qhf_m0000gn/T/ipykernel_11295/2478444341.py:3: SettingWithCopyWarning: \n",
      "A value is trying to be set on a copy of a slice from a DataFrame.\n",
      "Try using .loc[row_indexer,col_indexer] = value instead\n",
      "\n",
      "See the caveats in the documentation: https://pandas.pydata.org/pandas-docs/stable/user_guide/indexing.html#returning-a-view-versus-a-copy\n",
      "  df['listing_bedrooms'] = df['listing_bedrooms'].astype('str')\n",
      "/var/folders/5_/87js___11b5312gjj36qhf_m0000gn/T/ipykernel_11295/2478444341.py:4: SettingWithCopyWarning: \n",
      "A value is trying to be set on a copy of a slice from a DataFrame\n",
      "\n",
      "See the caveats in the documentation: https://pandas.pydata.org/pandas-docs/stable/user_guide/indexing.html#returning-a-view-versus-a-copy\n",
      "  df['listing_bedrooms'][df['listing_bedrooms'].isin(extra_bed)] = '6+'\n",
      "/var/folders/5_/87js___11b5312gjj36qhf_m0000gn/T/ipykernel_11295/2478444341.py:4: SettingWithCopyWarning: \n",
      "A value is trying to be set on a copy of a slice from a DataFrame\n",
      "\n",
      "See the caveats in the documentation: https://pandas.pydata.org/pandas-docs/stable/user_guide/indexing.html#returning-a-view-versus-a-copy\n",
      "  df['listing_bedrooms'][df['listing_bedrooms'].isin(extra_bed)] = '6+'\n"
     ]
    },
    {
     "data": {
      "text/plain": [
       "2     3732\n",
       "1     3641\n",
       "3     1744\n",
       "0     1109\n",
       "4      678\n",
       "5      146\n",
       "6+      43\n",
       "Name: listing_bedrooms, dtype: int64"
      ]
     },
     "execution_count": 316,
     "metadata": {},
     "output_type": "execute_result"
    }
   ],
   "source": [
    "# Lump all bedrooms >= 6 into a single type '6+'\n",
    "extra_bed = ['6', '7', '8']\n",
    "df['listing_bedrooms'] = df['listing_bedrooms'].astype('str')\n",
    "df['listing_bedrooms'][df['listing_bedrooms'].isin(extra_bed)] = '6+'\n",
    "df['listing_bedrooms'].value_counts()"
   ]
  },
  {
   "cell_type": "code",
   "execution_count": 317,
   "metadata": {},
   "outputs": [
    {
     "data": {
      "text/plain": [
       "Text(0.5, 1.0, 'Distribution of bedrooms across craigslist listings')"
      ]
     },
     "execution_count": 317,
     "metadata": {},
     "output_type": "execute_result"
    },
    {
     "data": {
      "image/png": "[encoded data removed]",
      "text/plain": [
       "<Figure size 432x288 with 1 Axes>"
      ]
     },
     "metadata": {
      "needs_background": "light"
     },
     "output_type": "display_data"
    }
   ],
   "source": [
    "# Look at distributions of number of bedroom data\n",
    "df['listing_bedrooms'].value_counts().sort_index().plot(kind='bar')\n",
    "plt.xlabel('Number of bedrooms')\n",
    "plt.ylabel('Count')\n",
    "plt.title('Distribution of bedrooms across craigslist listings')"
   ]
  },
  {
   "cell_type": "code",
   "execution_count": 318,
   "metadata": {},
   "outputs": [
    {
     "data": {
      "text/plain": [
       "(11093, 13)"
      ]
     },
     "execution_count": 318,
     "metadata": {},
     "output_type": "execute_result"
    }
   ],
   "source": [
    "df.shape"
   ]
  },
  {
   "cell_type": "markdown",
   "metadata": {},
   "source": [
    "## 5. Filter the listing_sqft column using a chosen min/max\n",
    "This will eliminate obvious outliers and wrong inputs"
   ]
  },
  {
   "cell_type": "code",
   "execution_count": 319,
   "metadata": {},
   "outputs": [
    {
     "data": {
      "text/plain": [
       "count     7596.000000\n",
       "mean      1070.261717\n",
       "std       1624.055877\n",
       "min          1.000000\n",
       "25%        680.000000\n",
       "50%        900.000000\n",
       "75%       1250.000000\n",
       "max      94103.000000\n",
       "Name: listing_sqft, dtype: float64"
      ]
     },
     "execution_count": 319,
     "metadata": {},
     "output_type": "execute_result"
    }
   ],
   "source": [
    "df['listing_sqft'].describe()"
   ]
  },
  {
   "cell_type": "code",
   "execution_count": 320,
   "metadata": {},
   "outputs": [
    {
     "name": "stdout",
     "output_type": "stream",
     "text": [
      "The listing_sqft column is missing 3497 rows of data\n",
      "Dropped -67 rows that were outside the bounds of the min and max\n"
     ]
    },
    {
     "name": "stderr",
     "output_type": "stream",
     "text": [
      "/var/folders/5_/87js___11b5312gjj36qhf_m0000gn/T/ipykernel_11295/2874129064.py:10: SettingWithCopyWarning: \n",
      "A value is trying to be set on a copy of a slice from a DataFrame.\n",
      "Try using .loc[row_indexer,col_indexer] = value instead\n",
      "\n",
      "See the caveats in the documentation: https://pandas.pydata.org/pandas-docs/stable/user_guide/indexing.html#returning-a-view-versus-a-copy\n",
      "  df_transformed['listing_sqft'] = df_sqft_transformed\n"
     ]
    }
   ],
   "source": [
    "df_rows_before_sqft = df.shape[0]\n",
    "# If there is a sqft value, drop sqft values that are too small or too big (the 94103 is clearly a zip code)\n",
    "sqft_min = 200\n",
    "sqft_max = 30000\n",
    "\n",
    "df_sqft_transformed = df.listing_sqft.replace('',np.nan)\n",
    "print(f'The listing_sqft column is missing {df_sqft_transformed.isnull().sum()} rows of data')\n",
    "\n",
    "df_transformed = df\n",
    "df_transformed['listing_sqft'] = df_sqft_transformed\n",
    "df_transformed = df_transformed.loc[(df_transformed.listing_sqft.isnull()) | ((df_transformed.listing_sqft > sqft_min) & (df_transformed.listing_sqft < sqft_max))]\n",
    "df_rows_after_sqft = df_transformed.shape[0]\n",
    "print(f'Dropped {df_rows_after_sqft-df_rows_before_sqft} rows that were outside the bounds of the min and max')"
   ]
  },
  {
   "cell_type": "code",
   "execution_count": 321,
   "metadata": {},
   "outputs": [
    {
     "data": {
      "text/plain": [
       "count     7529.000000\n",
       "mean      1053.716430\n",
       "std        595.387263\n",
       "min        208.000000\n",
       "25%        686.000000\n",
       "50%        900.000000\n",
       "75%       1250.000000\n",
       "max      13000.000000\n",
       "Name: listing_sqft, dtype: float64"
      ]
     },
     "execution_count": 321,
     "metadata": {},
     "output_type": "execute_result"
    }
   ],
   "source": [
    "df_transformed['listing_sqft'].describe()"
   ]
  },
  {
   "cell_type": "markdown",
   "metadata": {},
   "source": [
    "## 6. Extract listing_info keywords\n",
    "Since these keywords are optional inputs in Craigslist.com, the string varies in length. \n",
    "Convert from a string into a list of values that will be converted to their own columns. "
   ]
  },
  {
   "cell_type": "code",
   "execution_count": 322,
   "metadata": {},
   "outputs": [
    {
     "name": "stderr",
     "output_type": "stream",
     "text": [
      "/var/folders/5_/87js___11b5312gjj36qhf_m0000gn/T/ipykernel_11295/173740638.py:2: SettingWithCopyWarning: \n",
      "A value is trying to be set on a copy of a slice from a DataFrame.\n",
      "Try using .loc[row_indexer,col_indexer] = value instead\n",
      "\n",
      "See the caveats in the documentation: https://pandas.pydata.org/pandas-docs/stable/user_guide/indexing.html#returning-a-view-versus-a-copy\n",
      "  df_transformed['listing_info_split'] = df_transformed['listing_info'].apply(lambda x: x.strip().split(\"  \"))\n"
     ]
    }
   ],
   "source": [
    "# Convert listing_info from string of values to a list of values\n",
    "df_transformed['listing_info_split'] = df_transformed['listing_info'].apply(lambda x: x.strip().split(\"  \"))"
   ]
  },
  {
   "cell_type": "code",
   "execution_count": 323,
   "metadata": {},
   "outputs": [
    {
     "name": "stderr",
     "output_type": "stream",
     "text": [
      "/var/folders/5_/87js___11b5312gjj36qhf_m0000gn/T/ipykernel_11295/2631355185.py:2: SettingWithCopyWarning: \n",
      "A value is trying to be set on a copy of a slice from a DataFrame.\n",
      "Try using .loc[row_indexer,col_indexer] = value instead\n",
      "\n",
      "See the caveats in the documentation: https://pandas.pydata.org/pandas-docs/stable/user_guide/indexing.html#returning-a-view-versus-a-copy\n",
      "  df_transformed[column] = df_transformed['listing_info_split'].apply(lambda x: get_listing_info_feature(x, target_info))\n",
      "/var/folders/5_/87js___11b5312gjj36qhf_m0000gn/T/ipykernel_11295/2631355185.py:2: SettingWithCopyWarning: \n",
      "A value is trying to be set on a copy of a slice from a DataFrame.\n",
      "Try using .loc[row_indexer,col_indexer] = value instead\n",
      "\n",
      "See the caveats in the documentation: https://pandas.pydata.org/pandas-docs/stable/user_guide/indexing.html#returning-a-view-versus-a-copy\n",
      "  df_transformed[column] = df_transformed['listing_info_split'].apply(lambda x: get_listing_info_feature(x, target_info))\n",
      "/var/folders/5_/87js___11b5312gjj36qhf_m0000gn/T/ipykernel_11295/2631355185.py:2: SettingWithCopyWarning: \n",
      "A value is trying to be set on a copy of a slice from a DataFrame.\n",
      "Try using .loc[row_indexer,col_indexer] = value instead\n",
      "\n",
      "See the caveats in the documentation: https://pandas.pydata.org/pandas-docs/stable/user_guide/indexing.html#returning-a-view-versus-a-copy\n",
      "  df_transformed[column] = df_transformed['listing_info_split'].apply(lambda x: get_listing_info_feature(x, target_info))\n",
      "/var/folders/5_/87js___11b5312gjj36qhf_m0000gn/T/ipykernel_11295/2631355185.py:2: SettingWithCopyWarning: \n",
      "A value is trying to be set on a copy of a slice from a DataFrame.\n",
      "Try using .loc[row_indexer,col_indexer] = value instead\n",
      "\n",
      "See the caveats in the documentation: https://pandas.pydata.org/pandas-docs/stable/user_guide/indexing.html#returning-a-view-versus-a-copy\n",
      "  df_transformed[column] = df_transformed['listing_info_split'].apply(lambda x: get_listing_info_feature(x, target_info))\n",
      "/var/folders/5_/87js___11b5312gjj36qhf_m0000gn/T/ipykernel_11295/2631355185.py:2: SettingWithCopyWarning: \n",
      "A value is trying to be set on a copy of a slice from a DataFrame.\n",
      "Try using .loc[row_indexer,col_indexer] = value instead\n",
      "\n",
      "See the caveats in the documentation: https://pandas.pydata.org/pandas-docs/stable/user_guide/indexing.html#returning-a-view-versus-a-copy\n",
      "  df_transformed[column] = df_transformed['listing_info_split'].apply(lambda x: get_listing_info_feature(x, target_info))\n",
      "/var/folders/5_/87js___11b5312gjj36qhf_m0000gn/T/ipykernel_11295/2631355185.py:2: SettingWithCopyWarning: \n",
      "A value is trying to be set on a copy of a slice from a DataFrame.\n",
      "Try using .loc[row_indexer,col_indexer] = value instead\n",
      "\n",
      "See the caveats in the documentation: https://pandas.pydata.org/pandas-docs/stable/user_guide/indexing.html#returning-a-view-versus-a-copy\n",
      "  df_transformed[column] = df_transformed['listing_info_split'].apply(lambda x: get_listing_info_feature(x, target_info))\n",
      "/var/folders/5_/87js___11b5312gjj36qhf_m0000gn/T/ipykernel_11295/2631355185.py:2: SettingWithCopyWarning: \n",
      "A value is trying to be set on a copy of a slice from a DataFrame.\n",
      "Try using .loc[row_indexer,col_indexer] = value instead\n",
      "\n",
      "See the caveats in the documentation: https://pandas.pydata.org/pandas-docs/stable/user_guide/indexing.html#returning-a-view-versus-a-copy\n",
      "  df_transformed[column] = df_transformed['listing_info_split'].apply(lambda x: get_listing_info_feature(x, target_info))\n",
      "/var/folders/5_/87js___11b5312gjj36qhf_m0000gn/T/ipykernel_11295/2631355185.py:2: SettingWithCopyWarning: \n",
      "A value is trying to be set on a copy of a slice from a DataFrame.\n",
      "Try using .loc[row_indexer,col_indexer] = value instead\n",
      "\n",
      "See the caveats in the documentation: https://pandas.pydata.org/pandas-docs/stable/user_guide/indexing.html#returning-a-view-versus-a-copy\n",
      "  df_transformed[column] = df_transformed['listing_info_split'].apply(lambda x: get_listing_info_feature(x, target_info))\n",
      "/var/folders/5_/87js___11b5312gjj36qhf_m0000gn/T/ipykernel_11295/2631355185.py:2: SettingWithCopyWarning: \n",
      "A value is trying to be set on a copy of a slice from a DataFrame.\n",
      "Try using .loc[row_indexer,col_indexer] = value instead\n",
      "\n",
      "See the caveats in the documentation: https://pandas.pydata.org/pandas-docs/stable/user_guide/indexing.html#returning-a-view-versus-a-copy\n",
      "  df_transformed[column] = df_transformed['listing_info_split'].apply(lambda x: get_listing_info_feature(x, target_info))\n",
      "/var/folders/5_/87js___11b5312gjj36qhf_m0000gn/T/ipykernel_11295/2631355185.py:2: SettingWithCopyWarning: \n",
      "A value is trying to be set on a copy of a slice from a DataFrame.\n",
      "Try using .loc[row_indexer,col_indexer] = value instead\n",
      "\n",
      "See the caveats in the documentation: https://pandas.pydata.org/pandas-docs/stable/user_guide/indexing.html#returning-a-view-versus-a-copy\n",
      "  df_transformed[column] = df_transformed['listing_info_split'].apply(lambda x: get_listing_info_feature(x, target_info))\n",
      "/var/folders/5_/87js___11b5312gjj36qhf_m0000gn/T/ipykernel_11295/2631355185.py:2: SettingWithCopyWarning: \n",
      "A value is trying to be set on a copy of a slice from a DataFrame.\n",
      "Try using .loc[row_indexer,col_indexer] = value instead\n",
      "\n",
      "See the caveats in the documentation: https://pandas.pydata.org/pandas-docs/stable/user_guide/indexing.html#returning-a-view-versus-a-copy\n",
      "  df_transformed[column] = df_transformed['listing_info_split'].apply(lambda x: get_listing_info_feature(x, target_info))\n",
      "/var/folders/5_/87js___11b5312gjj36qhf_m0000gn/T/ipykernel_11295/2631355185.py:2: SettingWithCopyWarning: \n",
      "A value is trying to be set on a copy of a slice from a DataFrame.\n",
      "Try using .loc[row_indexer,col_indexer] = value instead\n",
      "\n",
      "See the caveats in the documentation: https://pandas.pydata.org/pandas-docs/stable/user_guide/indexing.html#returning-a-view-versus-a-copy\n",
      "  df_transformed[column] = df_transformed['listing_info_split'].apply(lambda x: get_listing_info_feature(x, target_info))\n",
      "/var/folders/5_/87js___11b5312gjj36qhf_m0000gn/T/ipykernel_11295/2631355185.py:2: SettingWithCopyWarning: \n",
      "A value is trying to be set on a copy of a slice from a DataFrame.\n",
      "Try using .loc[row_indexer,col_indexer] = value instead\n",
      "\n",
      "See the caveats in the documentation: https://pandas.pydata.org/pandas-docs/stable/user_guide/indexing.html#returning-a-view-versus-a-copy\n",
      "  df_transformed[column] = df_transformed['listing_info_split'].apply(lambda x: get_listing_info_feature(x, target_info))\n",
      "/var/folders/5_/87js___11b5312gjj36qhf_m0000gn/T/ipykernel_11295/2631355185.py:2: SettingWithCopyWarning: \n",
      "A value is trying to be set on a copy of a slice from a DataFrame.\n",
      "Try using .loc[row_indexer,col_indexer] = value instead\n",
      "\n",
      "See the caveats in the documentation: https://pandas.pydata.org/pandas-docs/stable/user_guide/indexing.html#returning-a-view-versus-a-copy\n",
      "  df_transformed[column] = df_transformed['listing_info_split'].apply(lambda x: get_listing_info_feature(x, target_info))\n",
      "/var/folders/5_/87js___11b5312gjj36qhf_m0000gn/T/ipykernel_11295/2631355185.py:2: SettingWithCopyWarning: \n",
      "A value is trying to be set on a copy of a slice from a DataFrame.\n",
      "Try using .loc[row_indexer,col_indexer] = value instead\n",
      "\n",
      "See the caveats in the documentation: https://pandas.pydata.org/pandas-docs/stable/user_guide/indexing.html#returning-a-view-versus-a-copy\n",
      "  df_transformed[column] = df_transformed['listing_info_split'].apply(lambda x: get_listing_info_feature(x, target_info))\n",
      "/var/folders/5_/87js___11b5312gjj36qhf_m0000gn/T/ipykernel_11295/2631355185.py:2: SettingWithCopyWarning: \n",
      "A value is trying to be set on a copy of a slice from a DataFrame.\n",
      "Try using .loc[row_indexer,col_indexer] = value instead\n",
      "\n",
      "See the caveats in the documentation: https://pandas.pydata.org/pandas-docs/stable/user_guide/indexing.html#returning-a-view-versus-a-copy\n",
      "  df_transformed[column] = df_transformed['listing_info_split'].apply(lambda x: get_listing_info_feature(x, target_info))\n",
      "/var/folders/5_/87js___11b5312gjj36qhf_m0000gn/T/ipykernel_11295/2631355185.py:2: SettingWithCopyWarning: \n",
      "A value is trying to be set on a copy of a slice from a DataFrame.\n",
      "Try using .loc[row_indexer,col_indexer] = value instead\n",
      "\n",
      "See the caveats in the documentation: https://pandas.pydata.org/pandas-docs/stable/user_guide/indexing.html#returning-a-view-versus-a-copy\n",
      "  df_transformed[column] = df_transformed['listing_info_split'].apply(lambda x: get_listing_info_feature(x, target_info))\n"
     ]
    },
    {
     "name": "stderr",
     "output_type": "stream",
     "text": [
      "/var/folders/5_/87js___11b5312gjj36qhf_m0000gn/T/ipykernel_11295/2631355185.py:2: SettingWithCopyWarning: \n",
      "A value is trying to be set on a copy of a slice from a DataFrame.\n",
      "Try using .loc[row_indexer,col_indexer] = value instead\n",
      "\n",
      "See the caveats in the documentation: https://pandas.pydata.org/pandas-docs/stable/user_guide/indexing.html#returning-a-view-versus-a-copy\n",
      "  df_transformed[column] = df_transformed['listing_info_split'].apply(lambda x: get_listing_info_feature(x, target_info))\n",
      "/var/folders/5_/87js___11b5312gjj36qhf_m0000gn/T/ipykernel_11295/2631355185.py:2: SettingWithCopyWarning: \n",
      "A value is trying to be set on a copy of a slice from a DataFrame.\n",
      "Try using .loc[row_indexer,col_indexer] = value instead\n",
      "\n",
      "See the caveats in the documentation: https://pandas.pydata.org/pandas-docs/stable/user_guide/indexing.html#returning-a-view-versus-a-copy\n",
      "  df_transformed[column] = df_transformed['listing_info_split'].apply(lambda x: get_listing_info_feature(x, target_info))\n",
      "/var/folders/5_/87js___11b5312gjj36qhf_m0000gn/T/ipykernel_11295/2631355185.py:2: SettingWithCopyWarning: \n",
      "A value is trying to be set on a copy of a slice from a DataFrame.\n",
      "Try using .loc[row_indexer,col_indexer] = value instead\n",
      "\n",
      "See the caveats in the documentation: https://pandas.pydata.org/pandas-docs/stable/user_guide/indexing.html#returning-a-view-versus-a-copy\n",
      "  df_transformed[column] = df_transformed['listing_info_split'].apply(lambda x: get_listing_info_feature(x, target_info))\n",
      "/var/folders/5_/87js___11b5312gjj36qhf_m0000gn/T/ipykernel_11295/2631355185.py:2: SettingWithCopyWarning: \n",
      "A value is trying to be set on a copy of a slice from a DataFrame.\n",
      "Try using .loc[row_indexer,col_indexer] = value instead\n",
      "\n",
      "See the caveats in the documentation: https://pandas.pydata.org/pandas-docs/stable/user_guide/indexing.html#returning-a-view-versus-a-copy\n",
      "  df_transformed[column] = df_transformed['listing_info_split'].apply(lambda x: get_listing_info_feature(x, target_info))\n",
      "/var/folders/5_/87js___11b5312gjj36qhf_m0000gn/T/ipykernel_11295/2631355185.py:2: SettingWithCopyWarning: \n",
      "A value is trying to be set on a copy of a slice from a DataFrame.\n",
      "Try using .loc[row_indexer,col_indexer] = value instead\n",
      "\n",
      "See the caveats in the documentation: https://pandas.pydata.org/pandas-docs/stable/user_guide/indexing.html#returning-a-view-versus-a-copy\n",
      "  df_transformed[column] = df_transformed['listing_info_split'].apply(lambda x: get_listing_info_feature(x, target_info))\n",
      "/var/folders/5_/87js___11b5312gjj36qhf_m0000gn/T/ipykernel_11295/2631355185.py:2: SettingWithCopyWarning: \n",
      "A value is trying to be set on a copy of a slice from a DataFrame.\n",
      "Try using .loc[row_indexer,col_indexer] = value instead\n",
      "\n",
      "See the caveats in the documentation: https://pandas.pydata.org/pandas-docs/stable/user_guide/indexing.html#returning-a-view-versus-a-copy\n",
      "  df_transformed[column] = df_transformed['listing_info_split'].apply(lambda x: get_listing_info_feature(x, target_info))\n",
      "/var/folders/5_/87js___11b5312gjj36qhf_m0000gn/T/ipykernel_11295/2631355185.py:2: SettingWithCopyWarning: \n",
      "A value is trying to be set on a copy of a slice from a DataFrame.\n",
      "Try using .loc[row_indexer,col_indexer] = value instead\n",
      "\n",
      "See the caveats in the documentation: https://pandas.pydata.org/pandas-docs/stable/user_guide/indexing.html#returning-a-view-versus-a-copy\n",
      "  df_transformed[column] = df_transformed['listing_info_split'].apply(lambda x: get_listing_info_feature(x, target_info))\n",
      "/var/folders/5_/87js___11b5312gjj36qhf_m0000gn/T/ipykernel_11295/2631355185.py:2: SettingWithCopyWarning: \n",
      "A value is trying to be set on a copy of a slice from a DataFrame.\n",
      "Try using .loc[row_indexer,col_indexer] = value instead\n",
      "\n",
      "See the caveats in the documentation: https://pandas.pydata.org/pandas-docs/stable/user_guide/indexing.html#returning-a-view-versus-a-copy\n",
      "  df_transformed[column] = df_transformed['listing_info_split'].apply(lambda x: get_listing_info_feature(x, target_info))\n",
      "/var/folders/5_/87js___11b5312gjj36qhf_m0000gn/T/ipykernel_11295/2631355185.py:2: SettingWithCopyWarning: \n",
      "A value is trying to be set on a copy of a slice from a DataFrame.\n",
      "Try using .loc[row_indexer,col_indexer] = value instead\n",
      "\n",
      "See the caveats in the documentation: https://pandas.pydata.org/pandas-docs/stable/user_guide/indexing.html#returning-a-view-versus-a-copy\n",
      "  df_transformed[column] = df_transformed['listing_info_split'].apply(lambda x: get_listing_info_feature(x, target_info))\n",
      "/var/folders/5_/87js___11b5312gjj36qhf_m0000gn/T/ipykernel_11295/2631355185.py:2: SettingWithCopyWarning: \n",
      "A value is trying to be set on a copy of a slice from a DataFrame.\n",
      "Try using .loc[row_indexer,col_indexer] = value instead\n",
      "\n",
      "See the caveats in the documentation: https://pandas.pydata.org/pandas-docs/stable/user_guide/indexing.html#returning-a-view-versus-a-copy\n",
      "  df_transformed[column] = df_transformed['listing_info_split'].apply(lambda x: get_listing_info_feature(x, target_info))\n",
      "/var/folders/5_/87js___11b5312gjj36qhf_m0000gn/T/ipykernel_11295/2631355185.py:2: SettingWithCopyWarning: \n",
      "A value is trying to be set on a copy of a slice from a DataFrame.\n",
      "Try using .loc[row_indexer,col_indexer] = value instead\n",
      "\n",
      "See the caveats in the documentation: https://pandas.pydata.org/pandas-docs/stable/user_guide/indexing.html#returning-a-view-versus-a-copy\n",
      "  df_transformed[column] = df_transformed['listing_info_split'].apply(lambda x: get_listing_info_feature(x, target_info))\n",
      "/var/folders/5_/87js___11b5312gjj36qhf_m0000gn/T/ipykernel_11295/2631355185.py:2: SettingWithCopyWarning: \n",
      "A value is trying to be set on a copy of a slice from a DataFrame.\n",
      "Try using .loc[row_indexer,col_indexer] = value instead\n",
      "\n",
      "See the caveats in the documentation: https://pandas.pydata.org/pandas-docs/stable/user_guide/indexing.html#returning-a-view-versus-a-copy\n",
      "  df_transformed[column] = df_transformed['listing_info_split'].apply(lambda x: get_listing_info_feature(x, target_info))\n",
      "/var/folders/5_/87js___11b5312gjj36qhf_m0000gn/T/ipykernel_11295/2631355185.py:2: SettingWithCopyWarning: \n",
      "A value is trying to be set on a copy of a slice from a DataFrame.\n",
      "Try using .loc[row_indexer,col_indexer] = value instead\n",
      "\n",
      "See the caveats in the documentation: https://pandas.pydata.org/pandas-docs/stable/user_guide/indexing.html#returning-a-view-versus-a-copy\n",
      "  df_transformed[column] = df_transformed['listing_info_split'].apply(lambda x: get_listing_info_feature(x, target_info))\n"
     ]
    }
   ],
   "source": [
    "for target_info, column in LISTING_INFO_TO_COLUMN.items():\n",
    "    df_transformed[column] = df_transformed['listing_info_split'].apply(lambda x: get_listing_info_feature(x, target_info))"
   ]
  },
  {
   "cell_type": "code",
   "execution_count": 324,
   "metadata": {},
   "outputs": [
    {
     "data": {
      "text/html": [
       "<div>\n",
       "<style scoped>\n",
       "    .dataframe tbody tr th:only-of-type {\n",
       "        vertical-align: middle;\n",
       "    }\n",
       "\n",
       "    .dataframe tbody tr th {\n",
       "        vertical-align: top;\n",
       "    }\n",
       "\n",
       "    .dataframe thead th {\n",
       "        text-align: right;\n",
       "    }\n",
       "</style>\n",
       "<table border=\"1\" class=\"dataframe\">\n",
       "  <thead>\n",
       "    <tr style=\"text-align: right;\">\n",
       "      <th></th>\n",
       "      <th>listing_title</th>\n",
       "      <th>listing_nh</th>\n",
       "      <th>listing_city</th>\n",
       "      <th>listing_date</th>\n",
       "      <th>listing_price</th>\n",
       "      <th>listing_bedrooms</th>\n",
       "      <th>listing_bathrooms</th>\n",
       "      <th>listing_sqft</th>\n",
       "      <th>listing_address</th>\n",
       "      <th>listing_info</th>\n",
       "      <th>...</th>\n",
       "      <th>rent_period_weekly</th>\n",
       "      <th>rent_period_monthly</th>\n",
       "      <th>housing_condo</th>\n",
       "      <th>housing_apt</th>\n",
       "      <th>housing_cottage</th>\n",
       "      <th>housing_duplex</th>\n",
       "      <th>housing_flat</th>\n",
       "      <th>housing_house</th>\n",
       "      <th>housing_inlaw</th>\n",
       "      <th>housing_townhouse</th>\n",
       "    </tr>\n",
       "    <tr>\n",
       "      <th>listing_id</th>\n",
       "      <th></th>\n",
       "      <th></th>\n",
       "      <th></th>\n",
       "      <th></th>\n",
       "      <th></th>\n",
       "      <th></th>\n",
       "      <th></th>\n",
       "      <th></th>\n",
       "      <th></th>\n",
       "      <th></th>\n",
       "      <th></th>\n",
       "      <th></th>\n",
       "      <th></th>\n",
       "      <th></th>\n",
       "      <th></th>\n",
       "      <th></th>\n",
       "      <th></th>\n",
       "      <th></th>\n",
       "      <th></th>\n",
       "      <th></th>\n",
       "      <th></th>\n",
       "    </tr>\n",
       "  </thead>\n",
       "  <tbody>\n",
       "    <tr>\n",
       "      <th>7520103440</th>\n",
       "      <td>Beautiful and Spacious NEW remodeled Silicon V...</td>\n",
       "      <td>fremont / union city / newark</td>\n",
       "      <td>Fremont</td>\n",
       "      <td>2022-08-11 09:51:58-07:00</td>\n",
       "      <td>3800</td>\n",
       "      <td>3</td>\n",
       "      <td>2</td>\n",
       "      <td>1495.0</td>\n",
       "      <td>Newport Dr</td>\n",
       "      <td>open house dates   saturday 2022-08-13    sun...</td>\n",
       "      <td>...</td>\n",
       "      <td>0</td>\n",
       "      <td>0</td>\n",
       "      <td>0</td>\n",
       "      <td>0</td>\n",
       "      <td>0</td>\n",
       "      <td>0</td>\n",
       "      <td>0</td>\n",
       "      <td>0</td>\n",
       "      <td>0</td>\n",
       "      <td>0</td>\n",
       "    </tr>\n",
       "    <tr>\n",
       "      <th>7520292010</th>\n",
       "      <td>Spacious, bright live/work loft with all utili...</td>\n",
       "      <td>oakland west</td>\n",
       "      <td>Oakland</td>\n",
       "      <td>2022-08-11 16:49:29-07:00</td>\n",
       "      <td>2450</td>\n",
       "      <td>1</td>\n",
       "      <td>1</td>\n",
       "      <td>925.0</td>\n",
       "      <td>1468 32nd St near louise</td>\n",
       "      <td>application fee details: $45  cats are OK - p...</td>\n",
       "      <td>...</td>\n",
       "      <td>0</td>\n",
       "      <td>1</td>\n",
       "      <td>0</td>\n",
       "      <td>0</td>\n",
       "      <td>0</td>\n",
       "      <td>0</td>\n",
       "      <td>0</td>\n",
       "      <td>0</td>\n",
       "      <td>1</td>\n",
       "      <td>0</td>\n",
       "    </tr>\n",
       "    <tr>\n",
       "      <th>7520905091</th>\n",
       "      <td>Highly desired Vista neighborhood with a charm...</td>\n",
       "      <td>vallejo / benicia</td>\n",
       "      <td>Vallejo</td>\n",
       "      <td>2022-08-13 09:04:22-07:00</td>\n",
       "      <td>2100</td>\n",
       "      <td>2</td>\n",
       "      <td>1</td>\n",
       "      <td>904.0</td>\n",
       "      <td>226 Edgemont Avenue near Edgemont Avenue</td>\n",
       "      <td>EV charging  air conditioning  cats are OK - ...</td>\n",
       "      <td>...</td>\n",
       "      <td>0</td>\n",
       "      <td>1</td>\n",
       "      <td>0</td>\n",
       "      <td>0</td>\n",
       "      <td>0</td>\n",
       "      <td>0</td>\n",
       "      <td>0</td>\n",
       "      <td>1</td>\n",
       "      <td>0</td>\n",
       "      <td>0</td>\n",
       "    </tr>\n",
       "    <tr>\n",
       "      <th>7520907681</th>\n",
       "      <td>lovely 2-bedroom 2 bath home with open floor p...</td>\n",
       "      <td>vallejo / benicia</td>\n",
       "      <td>Vallejo</td>\n",
       "      <td>2022-08-13 09:09:26-07:00</td>\n",
       "      <td>2200</td>\n",
       "      <td>2</td>\n",
       "      <td>2</td>\n",
       "      <td>1420.0</td>\n",
       "      <td>1509 Sacramento Street near Sacramento Street</td>\n",
       "      <td>EV charging  air conditioning  cats are OK - ...</td>\n",
       "      <td>...</td>\n",
       "      <td>0</td>\n",
       "      <td>1</td>\n",
       "      <td>0</td>\n",
       "      <td>0</td>\n",
       "      <td>0</td>\n",
       "      <td>0</td>\n",
       "      <td>0</td>\n",
       "      <td>1</td>\n",
       "      <td>0</td>\n",
       "      <td>0</td>\n",
       "    </tr>\n",
       "    <tr>\n",
       "      <th>7520608095</th>\n",
       "      <td>$3,935 / 2br - 1266ft2 - NEW LOW RATE! Spaciou...</td>\n",
       "      <td>dublin / pleasanton / livermore</td>\n",
       "      <td>Pleasanton</td>\n",
       "      <td>2022-08-12 12:34:49-07:00</td>\n",
       "      <td>3935</td>\n",
       "      <td>2</td>\n",
       "      <td>2</td>\n",
       "      <td>NaN</td>\n",
       "      <td>1552 E Gate Way</td>\n",
       "      <td>air conditioning  application fee details: $5...</td>\n",
       "      <td>...</td>\n",
       "      <td>0</td>\n",
       "      <td>1</td>\n",
       "      <td>0</td>\n",
       "      <td>1</td>\n",
       "      <td>0</td>\n",
       "      <td>0</td>\n",
       "      <td>0</td>\n",
       "      <td>0</td>\n",
       "      <td>0</td>\n",
       "      <td>0</td>\n",
       "    </tr>\n",
       "  </tbody>\n",
       "</table>\n",
       "<p>5 rows × 44 columns</p>\n",
       "</div>"
      ],
      "text/plain": [
       "                                                listing_title  \\\n",
       "listing_id                                                      \n",
       "7520103440  Beautiful and Spacious NEW remodeled Silicon V...   \n",
       "7520292010  Spacious, bright live/work loft with all utili...   \n",
       "7520905091  Highly desired Vista neighborhood with a charm...   \n",
       "7520907681  lovely 2-bedroom 2 bath home with open floor p...   \n",
       "7520608095  $3,935 / 2br - 1266ft2 - NEW LOW RATE! Spaciou...   \n",
       "\n",
       "                                 listing_nh listing_city  \\\n",
       "listing_id                                                 \n",
       "7520103440    fremont / union city / newark      Fremont   \n",
       "7520292010                     oakland west      Oakland   \n",
       "7520905091                vallejo / benicia      Vallejo   \n",
       "7520907681                vallejo / benicia      Vallejo   \n",
       "7520608095  dublin / pleasanton / livermore   Pleasanton   \n",
       "\n",
       "                        listing_date  listing_price listing_bedrooms  \\\n",
       "listing_id                                                             \n",
       "7520103440 2022-08-11 09:51:58-07:00           3800                3   \n",
       "7520292010 2022-08-11 16:49:29-07:00           2450                1   \n",
       "7520905091 2022-08-13 09:04:22-07:00           2100                2   \n",
       "7520907681 2022-08-13 09:09:26-07:00           2200                2   \n",
       "7520608095 2022-08-12 12:34:49-07:00           3935                2   \n",
       "\n",
       "           listing_bathrooms  listing_sqft  \\\n",
       "listing_id                                   \n",
       "7520103440                 2        1495.0   \n",
       "7520292010                 1         925.0   \n",
       "7520905091                 1         904.0   \n",
       "7520907681                 2        1420.0   \n",
       "7520608095                 2           NaN   \n",
       "\n",
       "                                          listing_address  \\\n",
       "listing_id                                                  \n",
       "7520103440                                     Newport Dr   \n",
       "7520292010                       1468 32nd St near louise   \n",
       "7520905091       226 Edgemont Avenue near Edgemont Avenue   \n",
       "7520907681  1509 Sacramento Street near Sacramento Street   \n",
       "7520608095                                1552 E Gate Way   \n",
       "\n",
       "                                                 listing_info  ...  \\\n",
       "listing_id                                                     ...   \n",
       "7520103440   open house dates   saturday 2022-08-13    sun...  ...   \n",
       "7520292010   application fee details: $45  cats are OK - p...  ...   \n",
       "7520905091   EV charging  air conditioning  cats are OK - ...  ...   \n",
       "7520907681   EV charging  air conditioning  cats are OK - ...  ...   \n",
       "7520608095   air conditioning  application fee details: $5...  ...   \n",
       "\n",
       "           rent_period_weekly rent_period_monthly housing_condo housing_apt  \\\n",
       "listing_id                                                                    \n",
       "7520103440                  0                   0             0           0   \n",
       "7520292010                  0                   1             0           0   \n",
       "7520905091                  0                   1             0           0   \n",
       "7520907681                  0                   1             0           0   \n",
       "7520608095                  0                   1             0           1   \n",
       "\n",
       "            housing_cottage  housing_duplex  housing_flat  housing_house  \\\n",
       "listing_id                                                                 \n",
       "7520103440                0               0             0              0   \n",
       "7520292010                0               0             0              0   \n",
       "7520905091                0               0             0              1   \n",
       "7520907681                0               0             0              1   \n",
       "7520608095                0               0             0              0   \n",
       "\n",
       "            housing_inlaw  housing_townhouse  \n",
       "listing_id                                    \n",
       "7520103440              0                  0  \n",
       "7520292010              1                  0  \n",
       "7520905091              0                  0  \n",
       "7520907681              0                  0  \n",
       "7520608095              0                  0  \n",
       "\n",
       "[5 rows x 44 columns]"
      ]
     },
     "execution_count": 324,
     "metadata": {},
     "output_type": "execute_result"
    }
   ],
   "source": [
    "df_transformed.head()"
   ]
  },
  {
   "cell_type": "markdown",
   "metadata": {},
   "source": [
    "## 7. Filter the listing_city column based on how often it occurs\n",
    "There are some typos in this column because it is a user input.\n",
    "There are also some cities listed with state and punctuation that should be removed"
   ]
  },
  {
   "cell_type": "code",
   "execution_count": 326,
   "metadata": {},
   "outputs": [
    {
     "data": {
      "text/plain": [
       "San Francisco         3610\n",
       "Oakland               1315\n",
       "Berkeley               515\n",
       "San Mateo              224\n",
       "Fremont                220\n",
       "                      ... \n",
       "North Oakland NOBE       1\n",
       "Van Buren                1\n",
       "Oakland, CA 94602        1\n",
       "Milpitas                 1\n",
       "Oakland CA               1\n",
       "Name: listing_city, Length: 403, dtype: int64"
      ]
     },
     "execution_count": 326,
     "metadata": {},
     "output_type": "execute_result"
    }
   ],
   "source": [
    "df_transformed['listing_city'].value_counts()"
   ]
  },
  {
   "cell_type": "code",
   "execution_count": 327,
   "metadata": {},
   "outputs": [
    {
     "name": "stderr",
     "output_type": "stream",
     "text": [
      "/var/folders/5_/87js___11b5312gjj36qhf_m0000gn/T/ipykernel_11295/467736758.py:1: SettingWithCopyWarning: \n",
      "A value is trying to be set on a copy of a slice from a DataFrame.\n",
      "Try using .loc[row_indexer,col_indexer] = value instead\n",
      "\n",
      "See the caveats in the documentation: https://pandas.pydata.org/pandas-docs/stable/user_guide/indexing.html#returning-a-view-versus-a-copy\n",
      "  df_transformed['listing_city'] = df_transformed['listing_city'].apply(lambda x: x.title())\n",
      "/var/folders/5_/87js___11b5312gjj36qhf_m0000gn/T/ipykernel_11295/467736758.py:2: SettingWithCopyWarning: \n",
      "A value is trying to be set on a copy of a slice from a DataFrame.\n",
      "Try using .loc[row_indexer,col_indexer] = value instead\n",
      "\n",
      "See the caveats in the documentation: https://pandas.pydata.org/pandas-docs/stable/user_guide/indexing.html#returning-a-view-versus-a-copy\n",
      "  df_transformed['listing_city'] = df_transformed['listing_city'].apply(lambda x: clean_city(x))\n",
      "/var/folders/5_/87js___11b5312gjj36qhf_m0000gn/T/ipykernel_11295/467736758.py:10: SettingWithCopyWarning: \n",
      "A value is trying to be set on a copy of a slice from a DataFrame.\n",
      "Try using .loc[row_indexer,col_indexer] = value instead\n",
      "\n",
      "See the caveats in the documentation: https://pandas.pydata.org/pandas-docs/stable/user_guide/indexing.html#returning-a-view-versus-a-copy\n",
      "  df_transformed['listing_city'] = df_transformed['listing_city'].apply(lambda x: None if x in city_to_drop else x)\n"
     ]
    }
   ],
   "source": [
    "df_transformed['listing_city'] = df_transformed['listing_city'].apply(lambda x: x.title())\n",
    "df_transformed['listing_city'] = df_transformed['listing_city'].apply(lambda x: clean_city(x))\n",
    "df_transformed['listing_city'].value_counts()\n",
    "\n",
    "# Get index of cities that occur less than 5 times (these are typos or errors)\n",
    "x = df_transformed['listing_city'].value_counts()\n",
    "city_to_drop = list((x[x < 5]).index)\n",
    "\n",
    "# Drop city values that are lower than a value count of 2\n",
    "df_transformed['listing_city'] = df_transformed['listing_city'].apply(lambda x: None if x in city_to_drop else x)"
   ]
  },
  {
   "cell_type": "code",
   "execution_count": 328,
   "metadata": {},
   "outputs": [
    {
     "data": {
      "text/plain": [
       "San Francisco    4016\n",
       "Oakland          1467\n",
       "Berkeley          558\n",
       "San Mateo         249\n",
       "Fremont           246\n",
       "Name: listing_city, dtype: int64"
      ]
     },
     "execution_count": 328,
     "metadata": {},
     "output_type": "execute_result"
    }
   ],
   "source": [
    "df_transformed['listing_city'].value_counts().head()"
   ]
  },
  {
   "cell_type": "markdown",
   "metadata": {},
   "source": [
    "## 8. Check the metro, neighborhood and listing_city is consistent\n",
    "Some listings are posted in the wrong metro, or have incorrect neighborhood tags. Drop these rows "
   ]
  },
  {
   "cell_type": "code",
   "execution_count": 330,
   "metadata": {},
   "outputs": [
    {
     "name": "stdout",
     "output_type": "stream",
     "text": [
      "After checking for consistent metro, dropped -1314 rows\n",
      "Database now has 9712 rows\n"
     ]
    },
    {
     "name": "stderr",
     "output_type": "stream",
     "text": [
      "/var/folders/5_/87js___11b5312gjj36qhf_m0000gn/T/ipykernel_11295/4122854219.py:2: SettingWithCopyWarning: \n",
      "A value is trying to be set on a copy of a slice from a DataFrame.\n",
      "Try using .loc[row_indexer,col_indexer] = value instead\n",
      "\n",
      "See the caveats in the documentation: https://pandas.pydata.org/pandas-docs/stable/user_guide/indexing.html#returning-a-view-versus-a-copy\n",
      "  df_transformed['is_consistent_metro'] = df_transformed.apply(lambda x: correct_metro(x['listing_nh'], x['listing_city']), axis=1)\n"
     ]
    }
   ],
   "source": [
    "# If a listing has a neighborhood tag, cross reference it with the listing_city to make sure it is in the correct city, otherwise remove from df\n",
    "df_transformed['is_consistent_metro'] = df_transformed.apply(lambda x: correct_metro(x['listing_nh'], x['listing_city']), axis=1)\n",
    "df_correct_metro = df_transformed[df_transformed['is_consistent_metro'] == True]\n",
    "\n",
    "print(f'After checking for consistent metro, dropped {df_correct_metro.shape[0] - df_transformed.shape[0]} rows')\n",
    "print(f'Database now has {df_correct_metro.shape[0]} rows')"
   ]
  },
  {
   "cell_type": "code",
   "execution_count": 331,
   "metadata": {},
   "outputs": [
    {
     "data": {
      "text/plain": [
       "listing_address\n",
       "2016 Telegraph Ave near 20th Street             6\n",
       "3093 Broadway near Piedmont                     6\n",
       "3093 BROADWAY OAKLAND CA 94611 near Piedmont    6\n",
       "312 24th St                                     6\n",
       "1333 north camino alto                          5\n",
       "                                               ..\n",
       "3110 Casa De Campo                              4\n",
       "3098 Kyne Street W                              4\n",
       "4510 Hubbard St.                                4\n",
       "780 Oak Gove Road near Treat Blvd               4\n",
       "1001 Harvey Drive                               4\n",
       "Name: listing_title, Length: 93, dtype: int64"
      ]
     },
     "execution_count": 331,
     "metadata": {},
     "output_type": "execute_result"
    }
   ],
   "source": [
    "# Check there are not too many duplicated addresses\n",
    "df_dup = df_correct_metro[\"listing_address\"].notnull().duplicated()\n",
    "duplicate_addresses = df_correct_metro[df_dup].groupby('listing_address').listing_title.count().sort_values(ascending=False)\n",
    "duplicate_addresses[duplicate_addresses > 3]\n",
    "# The max number of times an address shows up is only 6, which seems reasonable since some are apartment buildings"
   ]
  },
  {
   "cell_type": "markdown",
   "metadata": {},
   "source": [
    "## 9. Handle missing values"
   ]
  },
  {
   "cell_type": "code",
   "execution_count": 334,
   "metadata": {},
   "outputs": [
    {
     "data": {
      "text/html": [
       "<div>\n",
       "<style scoped>\n",
       "    .dataframe tbody tr th:only-of-type {\n",
       "        vertical-align: middle;\n",
       "    }\n",
       "\n",
       "    .dataframe tbody tr th {\n",
       "        vertical-align: top;\n",
       "    }\n",
       "\n",
       "    .dataframe thead th {\n",
       "        text-align: right;\n",
       "    }\n",
       "</style>\n",
       "<table border=\"1\" class=\"dataframe\">\n",
       "  <thead>\n",
       "    <tr style=\"text-align: right;\">\n",
       "      <th></th>\n",
       "      <th>count</th>\n",
       "      <th>%</th>\n",
       "    </tr>\n",
       "  </thead>\n",
       "  <tbody>\n",
       "    <tr>\n",
       "      <th>listing_sqft</th>\n",
       "      <td>3202</td>\n",
       "      <td>32.969522</td>\n",
       "    </tr>\n",
       "    <tr>\n",
       "      <th>listing_address</th>\n",
       "      <td>314</td>\n",
       "      <td>3.233114</td>\n",
       "    </tr>\n",
       "    <tr>\n",
       "      <th>listing_title</th>\n",
       "      <td>0</td>\n",
       "      <td>0.000000</td>\n",
       "    </tr>\n",
       "    <tr>\n",
       "      <th>rent_period_weekly</th>\n",
       "      <td>0</td>\n",
       "      <td>0.000000</td>\n",
       "    </tr>\n",
       "    <tr>\n",
       "      <th>parking_carport</th>\n",
       "      <td>0</td>\n",
       "      <td>0.000000</td>\n",
       "    </tr>\n",
       "    <tr>\n",
       "      <th>parking_attached_garage</th>\n",
       "      <td>0</td>\n",
       "      <td>0.000000</td>\n",
       "    </tr>\n",
       "    <tr>\n",
       "      <th>parking_detached_garage</th>\n",
       "      <td>0</td>\n",
       "      <td>0.000000</td>\n",
       "    </tr>\n",
       "    <tr>\n",
       "      <th>parking_offstreet</th>\n",
       "      <td>0</td>\n",
       "      <td>0.000000</td>\n",
       "    </tr>\n",
       "    <tr>\n",
       "      <th>parking_street</th>\n",
       "      <td>0</td>\n",
       "      <td>0.000000</td>\n",
       "    </tr>\n",
       "    <tr>\n",
       "      <th>parking_valet</th>\n",
       "      <td>0</td>\n",
       "      <td>0.000000</td>\n",
       "    </tr>\n",
       "    <tr>\n",
       "      <th>parking_none</th>\n",
       "      <td>0</td>\n",
       "      <td>0.000000</td>\n",
       "    </tr>\n",
       "    <tr>\n",
       "      <th>rent_period_daily</th>\n",
       "      <td>0</td>\n",
       "      <td>0.000000</td>\n",
       "    </tr>\n",
       "    <tr>\n",
       "      <th>housing_condo</th>\n",
       "      <td>0</td>\n",
       "      <td>0.000000</td>\n",
       "    </tr>\n",
       "    <tr>\n",
       "      <th>rent_period_monthly</th>\n",
       "      <td>0</td>\n",
       "      <td>0.000000</td>\n",
       "    </tr>\n",
       "    <tr>\n",
       "      <th>laundry_onsite</th>\n",
       "      <td>0</td>\n",
       "      <td>0.000000</td>\n",
       "    </tr>\n",
       "    <tr>\n",
       "      <th>housing_apt</th>\n",
       "      <td>0</td>\n",
       "      <td>0.000000</td>\n",
       "    </tr>\n",
       "    <tr>\n",
       "      <th>housing_cottage</th>\n",
       "      <td>0</td>\n",
       "      <td>0.000000</td>\n",
       "    </tr>\n",
       "    <tr>\n",
       "      <th>housing_duplex</th>\n",
       "      <td>0</td>\n",
       "      <td>0.000000</td>\n",
       "    </tr>\n",
       "    <tr>\n",
       "      <th>housing_flat</th>\n",
       "      <td>0</td>\n",
       "      <td>0.000000</td>\n",
       "    </tr>\n",
       "    <tr>\n",
       "      <th>housing_house</th>\n",
       "      <td>0</td>\n",
       "      <td>0.000000</td>\n",
       "    </tr>\n",
       "    <tr>\n",
       "      <th>housing_inlaw</th>\n",
       "      <td>0</td>\n",
       "      <td>0.000000</td>\n",
       "    </tr>\n",
       "    <tr>\n",
       "      <th>housing_townhouse</th>\n",
       "      <td>0</td>\n",
       "      <td>0.000000</td>\n",
       "    </tr>\n",
       "    <tr>\n",
       "      <th>laundry_not_onsite</th>\n",
       "      <td>0</td>\n",
       "      <td>0.000000</td>\n",
       "    </tr>\n",
       "    <tr>\n",
       "      <th>laundry_in_unit</th>\n",
       "      <td>0</td>\n",
       "      <td>0.000000</td>\n",
       "    </tr>\n",
       "    <tr>\n",
       "      <th>laundry_has_hookup</th>\n",
       "      <td>0</td>\n",
       "      <td>0.000000</td>\n",
       "    </tr>\n",
       "    <tr>\n",
       "      <th>listing_first_image</th>\n",
       "      <td>0</td>\n",
       "      <td>0.000000</td>\n",
       "    </tr>\n",
       "    <tr>\n",
       "      <th>listing_city</th>\n",
       "      <td>0</td>\n",
       "      <td>0.000000</td>\n",
       "    </tr>\n",
       "    <tr>\n",
       "      <th>listing_date</th>\n",
       "      <td>0</td>\n",
       "      <td>0.000000</td>\n",
       "    </tr>\n",
       "    <tr>\n",
       "      <th>listing_price</th>\n",
       "      <td>0</td>\n",
       "      <td>0.000000</td>\n",
       "    </tr>\n",
       "    <tr>\n",
       "      <th>listing_bedrooms</th>\n",
       "      <td>0</td>\n",
       "      <td>0.000000</td>\n",
       "    </tr>\n",
       "    <tr>\n",
       "      <th>listing_bathrooms</th>\n",
       "      <td>0</td>\n",
       "      <td>0.000000</td>\n",
       "    </tr>\n",
       "    <tr>\n",
       "      <th>listing_info</th>\n",
       "      <td>0</td>\n",
       "      <td>0.000000</td>\n",
       "    </tr>\n",
       "    <tr>\n",
       "      <th>listing_body</th>\n",
       "      <td>0</td>\n",
       "      <td>0.000000</td>\n",
       "    </tr>\n",
       "    <tr>\n",
       "      <th>listing_url</th>\n",
       "      <td>0</td>\n",
       "      <td>0.000000</td>\n",
       "    </tr>\n",
       "    <tr>\n",
       "      <th>listing_info_split</th>\n",
       "      <td>0</td>\n",
       "      <td>0.000000</td>\n",
       "    </tr>\n",
       "    <tr>\n",
       "      <th>listing_nh</th>\n",
       "      <td>0</td>\n",
       "      <td>0.000000</td>\n",
       "    </tr>\n",
       "    <tr>\n",
       "      <th>animals_cats</th>\n",
       "      <td>0</td>\n",
       "      <td>0.000000</td>\n",
       "    </tr>\n",
       "    <tr>\n",
       "      <th>animals_dogs</th>\n",
       "      <td>0</td>\n",
       "      <td>0.000000</td>\n",
       "    </tr>\n",
       "    <tr>\n",
       "      <th>furnished</th>\n",
       "      <td>0</td>\n",
       "      <td>0.000000</td>\n",
       "    </tr>\n",
       "    <tr>\n",
       "      <th>smoking</th>\n",
       "      <td>0</td>\n",
       "      <td>0.000000</td>\n",
       "    </tr>\n",
       "    <tr>\n",
       "      <th>wheelchair accessible</th>\n",
       "      <td>0</td>\n",
       "      <td>0.000000</td>\n",
       "    </tr>\n",
       "    <tr>\n",
       "      <th>has_AC</th>\n",
       "      <td>0</td>\n",
       "      <td>0.000000</td>\n",
       "    </tr>\n",
       "    <tr>\n",
       "      <th>hasEVCharging</th>\n",
       "      <td>0</td>\n",
       "      <td>0.000000</td>\n",
       "    </tr>\n",
       "    <tr>\n",
       "      <th>laundry_in_bldg</th>\n",
       "      <td>0</td>\n",
       "      <td>0.000000</td>\n",
       "    </tr>\n",
       "    <tr>\n",
       "      <th>is_consistent_metro</th>\n",
       "      <td>0</td>\n",
       "      <td>0.000000</td>\n",
       "    </tr>\n",
       "  </tbody>\n",
       "</table>\n",
       "</div>"
      ],
      "text/plain": [
       "                         count          %\n",
       "listing_sqft              3202  32.969522\n",
       "listing_address            314   3.233114\n",
       "listing_title                0   0.000000\n",
       "rent_period_weekly           0   0.000000\n",
       "parking_carport              0   0.000000\n",
       "parking_attached_garage      0   0.000000\n",
       "parking_detached_garage      0   0.000000\n",
       "parking_offstreet            0   0.000000\n",
       "parking_street               0   0.000000\n",
       "parking_valet                0   0.000000\n",
       "parking_none                 0   0.000000\n",
       "rent_period_daily            0   0.000000\n",
       "housing_condo                0   0.000000\n",
       "rent_period_monthly          0   0.000000\n",
       "laundry_onsite               0   0.000000\n",
       "housing_apt                  0   0.000000\n",
       "housing_cottage              0   0.000000\n",
       "housing_duplex               0   0.000000\n",
       "housing_flat                 0   0.000000\n",
       "housing_house                0   0.000000\n",
       "housing_inlaw                0   0.000000\n",
       "housing_townhouse            0   0.000000\n",
       "laundry_not_onsite           0   0.000000\n",
       "laundry_in_unit              0   0.000000\n",
       "laundry_has_hookup           0   0.000000\n",
       "listing_first_image          0   0.000000\n",
       "listing_city                 0   0.000000\n",
       "listing_date                 0   0.000000\n",
       "listing_price                0   0.000000\n",
       "listing_bedrooms             0   0.000000\n",
       "listing_bathrooms            0   0.000000\n",
       "listing_info                 0   0.000000\n",
       "listing_body                 0   0.000000\n",
       "listing_url                  0   0.000000\n",
       "listing_info_split           0   0.000000\n",
       "listing_nh                   0   0.000000\n",
       "animals_cats                 0   0.000000\n",
       "animals_dogs                 0   0.000000\n",
       "furnished                    0   0.000000\n",
       "smoking                      0   0.000000\n",
       "wheelchair accessible        0   0.000000\n",
       "has_AC                       0   0.000000\n",
       "hasEVCharging                0   0.000000\n",
       "laundry_in_bldg              0   0.000000\n",
       "is_consistent_metro          0   0.000000"
      ]
     },
     "execution_count": 334,
     "metadata": {},
     "output_type": "execute_result"
    }
   ],
   "source": [
    "# Missing values in numeric columns\n",
    "missing = pd.concat([df_correct_metro.isnull().sum(), 100 * df_correct_metro.isnull().mean()], axis=1)\n",
    "missing.columns=['count', '%']\n",
    "missing.sort_values(by='count',ascending=False)"
   ]
  },
  {
   "cell_type": "markdown",
   "metadata": {},
   "source": [
    "## 10. Extract listing_body into keywords\n",
    "The listing_body contains the bulk of the text in a craigslist listing. \n",
    "There is a lot of information as text and provides a good summary of the rental unit, but most of the details in the body are already in the feature columns.\n",
    "\n",
    "Use the dictionary LISTING_BODY_TO_COLUMN to parse the most important details: \n",
    "* Is the place rent controlled\n",
    "* Are pets allowed \n",
    "* Has the place been remodelled\n",
    "* Are there amenities that come with the rental unit e.g. pool, gym, spa\n"
   ]
  },
  {
   "cell_type": "code",
   "execution_count": 253,
   "metadata": {},
   "outputs": [
    {
     "name": "stderr",
     "output_type": "stream",
     "text": [
      "/var/folders/5_/87js___11b5312gjj36qhf_m0000gn/T/ipykernel_11295/193509224.py:2: SettingWithCopyWarning: \n",
      "A value is trying to be set on a copy of a slice from a DataFrame.\n",
      "Try using .loc[row_indexer,col_indexer] = value instead\n",
      "\n",
      "See the caveats in the documentation: https://pandas.pydata.org/pandas-docs/stable/user_guide/indexing.html#returning-a-view-versus-a-copy\n",
      "  df_correct_metro[column_name] = df_correct_metro['listing_body'].apply(lambda x: parse_listing_body(x, target_word))\n",
      "/var/folders/5_/87js___11b5312gjj36qhf_m0000gn/T/ipykernel_11295/193509224.py:2: SettingWithCopyWarning: \n",
      "A value is trying to be set on a copy of a slice from a DataFrame.\n",
      "Try using .loc[row_indexer,col_indexer] = value instead\n",
      "\n",
      "See the caveats in the documentation: https://pandas.pydata.org/pandas-docs/stable/user_guide/indexing.html#returning-a-view-versus-a-copy\n",
      "  df_correct_metro[column_name] = df_correct_metro['listing_body'].apply(lambda x: parse_listing_body(x, target_word))\n",
      "/var/folders/5_/87js___11b5312gjj36qhf_m0000gn/T/ipykernel_11295/193509224.py:2: SettingWithCopyWarning: \n",
      "A value is trying to be set on a copy of a slice from a DataFrame.\n",
      "Try using .loc[row_indexer,col_indexer] = value instead\n",
      "\n",
      "See the caveats in the documentation: https://pandas.pydata.org/pandas-docs/stable/user_guide/indexing.html#returning-a-view-versus-a-copy\n",
      "  df_correct_metro[column_name] = df_correct_metro['listing_body'].apply(lambda x: parse_listing_body(x, target_word))\n",
      "/var/folders/5_/87js___11b5312gjj36qhf_m0000gn/T/ipykernel_11295/193509224.py:2: SettingWithCopyWarning: \n",
      "A value is trying to be set on a copy of a slice from a DataFrame.\n",
      "Try using .loc[row_indexer,col_indexer] = value instead\n",
      "\n",
      "See the caveats in the documentation: https://pandas.pydata.org/pandas-docs/stable/user_guide/indexing.html#returning-a-view-versus-a-copy\n",
      "  df_correct_metro[column_name] = df_correct_metro['listing_body'].apply(lambda x: parse_listing_body(x, target_word))\n"
     ]
    }
   ],
   "source": [
    "for target_word, column_name in LISTING_BODY_TO_COLUMN.items():\n",
    "    df_correct_metro[column_name] = df_correct_metro['listing_body'].apply(lambda x: parse_listing_body(x, target_word))"
   ]
  },
  {
   "cell_type": "code",
   "execution_count": 254,
   "metadata": {},
   "outputs": [
    {
     "data": {
      "text/html": [
       "<div>\n",
       "<style scoped>\n",
       "    .dataframe tbody tr th:only-of-type {\n",
       "        vertical-align: middle;\n",
       "    }\n",
       "\n",
       "    .dataframe tbody tr th {\n",
       "        vertical-align: top;\n",
       "    }\n",
       "\n",
       "    .dataframe thead th {\n",
       "        text-align: right;\n",
       "    }\n",
       "</style>\n",
       "<table border=\"1\" class=\"dataframe\">\n",
       "  <thead>\n",
       "    <tr style=\"text-align: right;\">\n",
       "      <th></th>\n",
       "      <th>listing_title</th>\n",
       "      <th>listing_nh</th>\n",
       "      <th>listing_city</th>\n",
       "      <th>listing_date</th>\n",
       "      <th>listing_price</th>\n",
       "      <th>listing_bedrooms</th>\n",
       "      <th>listing_bathrooms</th>\n",
       "      <th>listing_sqft</th>\n",
       "      <th>listing_address</th>\n",
       "      <th>listing_info</th>\n",
       "      <th>...</th>\n",
       "      <th>housing_duplex</th>\n",
       "      <th>housing_flat</th>\n",
       "      <th>housing_house</th>\n",
       "      <th>housing_inlaw</th>\n",
       "      <th>housing_townhouse</th>\n",
       "      <th>is_consistent_metro</th>\n",
       "      <th>is_rent_controlled</th>\n",
       "      <th>pets_allowed</th>\n",
       "      <th>is_remodelled</th>\n",
       "      <th>has_amenities</th>\n",
       "    </tr>\n",
       "    <tr>\n",
       "      <th>listing_id</th>\n",
       "      <th></th>\n",
       "      <th></th>\n",
       "      <th></th>\n",
       "      <th></th>\n",
       "      <th></th>\n",
       "      <th></th>\n",
       "      <th></th>\n",
       "      <th></th>\n",
       "      <th></th>\n",
       "      <th></th>\n",
       "      <th></th>\n",
       "      <th></th>\n",
       "      <th></th>\n",
       "      <th></th>\n",
       "      <th></th>\n",
       "      <th></th>\n",
       "      <th></th>\n",
       "      <th></th>\n",
       "      <th></th>\n",
       "      <th></th>\n",
       "      <th></th>\n",
       "    </tr>\n",
       "  </thead>\n",
       "  <tbody>\n",
       "    <tr>\n",
       "      <th>7520103440</th>\n",
       "      <td>Beautiful and Spacious NEW remodeled Silicon V...</td>\n",
       "      <td>fremont / union city / newark</td>\n",
       "      <td>Fremont</td>\n",
       "      <td>2022-08-11 09:51:58-07:00</td>\n",
       "      <td>3800</td>\n",
       "      <td>3</td>\n",
       "      <td>2</td>\n",
       "      <td>1495.0</td>\n",
       "      <td>Newport Dr</td>\n",
       "      <td>open house dates   saturday 2022-08-13    sun...</td>\n",
       "      <td>...</td>\n",
       "      <td>0</td>\n",
       "      <td>0</td>\n",
       "      <td>0</td>\n",
       "      <td>0</td>\n",
       "      <td>0</td>\n",
       "      <td>True</td>\n",
       "      <td>0</td>\n",
       "      <td>0</td>\n",
       "      <td>0</td>\n",
       "      <td>0</td>\n",
       "    </tr>\n",
       "    <tr>\n",
       "      <th>7520292010</th>\n",
       "      <td>Spacious, bright live/work loft with all utili...</td>\n",
       "      <td>oakland west</td>\n",
       "      <td>Oakland</td>\n",
       "      <td>2022-08-11 16:49:29-07:00</td>\n",
       "      <td>2450</td>\n",
       "      <td>1</td>\n",
       "      <td>1</td>\n",
       "      <td>925.0</td>\n",
       "      <td>1468 32nd St near louise</td>\n",
       "      <td>application fee details: $45  cats are OK - p...</td>\n",
       "      <td>...</td>\n",
       "      <td>0</td>\n",
       "      <td>0</td>\n",
       "      <td>0</td>\n",
       "      <td>1</td>\n",
       "      <td>0</td>\n",
       "      <td>True</td>\n",
       "      <td>0</td>\n",
       "      <td>0</td>\n",
       "      <td>0</td>\n",
       "      <td>0</td>\n",
       "    </tr>\n",
       "    <tr>\n",
       "      <th>7520905091</th>\n",
       "      <td>Highly desired Vista neighborhood with a charm...</td>\n",
       "      <td>vallejo / benicia</td>\n",
       "      <td>Vallejo</td>\n",
       "      <td>2022-08-13 09:04:22-07:00</td>\n",
       "      <td>2100</td>\n",
       "      <td>2</td>\n",
       "      <td>1</td>\n",
       "      <td>904.0</td>\n",
       "      <td>226 Edgemont Avenue near Edgemont Avenue</td>\n",
       "      <td>EV charging  air conditioning  cats are OK - ...</td>\n",
       "      <td>...</td>\n",
       "      <td>0</td>\n",
       "      <td>0</td>\n",
       "      <td>1</td>\n",
       "      <td>0</td>\n",
       "      <td>0</td>\n",
       "      <td>True</td>\n",
       "      <td>0</td>\n",
       "      <td>0</td>\n",
       "      <td>0</td>\n",
       "      <td>1</td>\n",
       "    </tr>\n",
       "    <tr>\n",
       "      <th>7520907681</th>\n",
       "      <td>lovely 2-bedroom 2 bath home with open floor p...</td>\n",
       "      <td>vallejo / benicia</td>\n",
       "      <td>Vallejo</td>\n",
       "      <td>2022-08-13 09:09:26-07:00</td>\n",
       "      <td>2200</td>\n",
       "      <td>2</td>\n",
       "      <td>2</td>\n",
       "      <td>1420.0</td>\n",
       "      <td>1509 Sacramento Street near Sacramento Street</td>\n",
       "      <td>EV charging  air conditioning  cats are OK - ...</td>\n",
       "      <td>...</td>\n",
       "      <td>0</td>\n",
       "      <td>0</td>\n",
       "      <td>1</td>\n",
       "      <td>0</td>\n",
       "      <td>0</td>\n",
       "      <td>True</td>\n",
       "      <td>0</td>\n",
       "      <td>0</td>\n",
       "      <td>0</td>\n",
       "      <td>1</td>\n",
       "    </tr>\n",
       "    <tr>\n",
       "      <th>7520608095</th>\n",
       "      <td>$3,935 / 2br - 1266ft2 - NEW LOW RATE! Spaciou...</td>\n",
       "      <td>dublin / pleasanton / livermore</td>\n",
       "      <td>Pleasanton</td>\n",
       "      <td>2022-08-12 12:34:49-07:00</td>\n",
       "      <td>3935</td>\n",
       "      <td>2</td>\n",
       "      <td>2</td>\n",
       "      <td>NaN</td>\n",
       "      <td>1552 E Gate Way</td>\n",
       "      <td>air conditioning  application fee details: $5...</td>\n",
       "      <td>...</td>\n",
       "      <td>0</td>\n",
       "      <td>0</td>\n",
       "      <td>0</td>\n",
       "      <td>0</td>\n",
       "      <td>0</td>\n",
       "      <td>True</td>\n",
       "      <td>0</td>\n",
       "      <td>0</td>\n",
       "      <td>0</td>\n",
       "      <td>1</td>\n",
       "    </tr>\n",
       "  </tbody>\n",
       "</table>\n",
       "<p>5 rows × 49 columns</p>\n",
       "</div>"
      ],
      "text/plain": [
       "                                                listing_title  \\\n",
       "listing_id                                                      \n",
       "7520103440  Beautiful and Spacious NEW remodeled Silicon V...   \n",
       "7520292010  Spacious, bright live/work loft with all utili...   \n",
       "7520905091  Highly desired Vista neighborhood with a charm...   \n",
       "7520907681  lovely 2-bedroom 2 bath home with open floor p...   \n",
       "7520608095  $3,935 / 2br - 1266ft2 - NEW LOW RATE! Spaciou...   \n",
       "\n",
       "                                 listing_nh listing_city  \\\n",
       "listing_id                                                 \n",
       "7520103440    fremont / union city / newark      Fremont   \n",
       "7520292010                     oakland west      Oakland   \n",
       "7520905091                vallejo / benicia      Vallejo   \n",
       "7520907681                vallejo / benicia      Vallejo   \n",
       "7520608095  dublin / pleasanton / livermore   Pleasanton   \n",
       "\n",
       "                        listing_date  listing_price listing_bedrooms  \\\n",
       "listing_id                                                             \n",
       "7520103440 2022-08-11 09:51:58-07:00           3800                3   \n",
       "7520292010 2022-08-11 16:49:29-07:00           2450                1   \n",
       "7520905091 2022-08-13 09:04:22-07:00           2100                2   \n",
       "7520907681 2022-08-13 09:09:26-07:00           2200                2   \n",
       "7520608095 2022-08-12 12:34:49-07:00           3935                2   \n",
       "\n",
       "           listing_bathrooms  listing_sqft  \\\n",
       "listing_id                                   \n",
       "7520103440                 2        1495.0   \n",
       "7520292010                 1         925.0   \n",
       "7520905091                 1         904.0   \n",
       "7520907681                 2        1420.0   \n",
       "7520608095                 2           NaN   \n",
       "\n",
       "                                          listing_address  \\\n",
       "listing_id                                                  \n",
       "7520103440                                     Newport Dr   \n",
       "7520292010                       1468 32nd St near louise   \n",
       "7520905091       226 Edgemont Avenue near Edgemont Avenue   \n",
       "7520907681  1509 Sacramento Street near Sacramento Street   \n",
       "7520608095                                1552 E Gate Way   \n",
       "\n",
       "                                                 listing_info  ...  \\\n",
       "listing_id                                                     ...   \n",
       "7520103440   open house dates   saturday 2022-08-13    sun...  ...   \n",
       "7520292010   application fee details: $45  cats are OK - p...  ...   \n",
       "7520905091   EV charging  air conditioning  cats are OK - ...  ...   \n",
       "7520907681   EV charging  air conditioning  cats are OK - ...  ...   \n",
       "7520608095   air conditioning  application fee details: $5...  ...   \n",
       "\n",
       "           housing_duplex housing_flat housing_house housing_inlaw  \\\n",
       "listing_id                                                           \n",
       "7520103440              0            0             0             0   \n",
       "7520292010              0            0             0             1   \n",
       "7520905091              0            0             1             0   \n",
       "7520907681              0            0             1             0   \n",
       "7520608095              0            0             0             0   \n",
       "\n",
       "            housing_townhouse  is_consistent_metro  is_rent_controlled  \\\n",
       "listing_id                                                               \n",
       "7520103440                  0                 True                   0   \n",
       "7520292010                  0                 True                   0   \n",
       "7520905091                  0                 True                   0   \n",
       "7520907681                  0                 True                   0   \n",
       "7520608095                  0                 True                   0   \n",
       "\n",
       "            pets_allowed  is_remodelled  has_amenities  \n",
       "listing_id                                              \n",
       "7520103440             0              0              0  \n",
       "7520292010             0              0              0  \n",
       "7520905091             0              0              1  \n",
       "7520907681             0              0              1  \n",
       "7520608095             0              0              1  \n",
       "\n",
       "[5 rows x 49 columns]"
      ]
     },
     "execution_count": 254,
     "metadata": {},
     "output_type": "execute_result"
    }
   ],
   "source": [
    "df_correct_metro.head()"
   ]
  },
  {
   "cell_type": "markdown",
   "metadata": {},
   "source": [
    "## 11. Summarize the data visually"
   ]
  },
  {
   "cell_type": "code",
   "execution_count": 255,
   "metadata": {},
   "outputs": [
    {
     "data": {
      "text/plain": [
       "<AxesSubplot:>"
      ]
     },
     "execution_count": 255,
     "metadata": {},
     "output_type": "execute_result"
    },
    {
     "data": {
      "image/png": "[encoded data removed]",
      "text/plain": [
       "<Figure size 1080x1080 with 1 Axes>"
      ]
     },
     "metadata": {
      "needs_background": "light"
     },
     "output_type": "display_data"
    }
   ],
   "source": [
    "df_correct_metro['listing_city'].value_counts().head(50).plot(kind='barh',figsize=(15,15))"
   ]
  },
  {
   "cell_type": "code",
   "execution_count": 256,
   "metadata": {},
   "outputs": [
    {
     "data": {
      "text/html": [
       "<div>\n",
       "<style scoped>\n",
       "    .dataframe tbody tr th:only-of-type {\n",
       "        vertical-align: middle;\n",
       "    }\n",
       "\n",
       "    .dataframe tbody tr th {\n",
       "        vertical-align: top;\n",
       "    }\n",
       "\n",
       "    .dataframe thead th {\n",
       "        text-align: right;\n",
       "    }\n",
       "</style>\n",
       "<table border=\"1\" class=\"dataframe\">\n",
       "  <thead>\n",
       "    <tr style=\"text-align: right;\">\n",
       "      <th></th>\n",
       "      <th>neighborhood</th>\n",
       "      <th>city</th>\n",
       "      <th>count</th>\n",
       "      <th>metro</th>\n",
       "    </tr>\n",
       "  </thead>\n",
       "  <tbody>\n",
       "    <tr>\n",
       "      <th>0</th>\n",
       "      <td>berkeley</td>\n",
       "      <td>Berkeley</td>\n",
       "      <td>481</td>\n",
       "      <td>eby</td>\n",
       "    </tr>\n",
       "    <tr>\n",
       "      <th>1</th>\n",
       "      <td>oakland lake merritt / grand</td>\n",
       "      <td>Oakland</td>\n",
       "      <td>442</td>\n",
       "      <td>eby</td>\n",
       "    </tr>\n",
       "    <tr>\n",
       "      <th>2</th>\n",
       "      <td>SOMA / south beach</td>\n",
       "      <td>San Francisco</td>\n",
       "      <td>437</td>\n",
       "      <td>sfc</td>\n",
       "    </tr>\n",
       "    <tr>\n",
       "      <th>3</th>\n",
       "      <td>mission district</td>\n",
       "      <td>San Francisco</td>\n",
       "      <td>312</td>\n",
       "      <td>sfc</td>\n",
       "    </tr>\n",
       "    <tr>\n",
       "      <th>4</th>\n",
       "      <td>nob hill</td>\n",
       "      <td>San Francisco</td>\n",
       "      <td>296</td>\n",
       "      <td>sfc</td>\n",
       "    </tr>\n",
       "  </tbody>\n",
       "</table>\n",
       "</div>"
      ],
      "text/plain": [
       "                   neighborhood           city  count metro\n",
       "0                      berkeley       Berkeley    481   eby\n",
       "1  oakland lake merritt / grand        Oakland    442   eby\n",
       "2            SOMA / south beach  San Francisco    437   sfc\n",
       "3              mission district  San Francisco    312   sfc\n",
       "4                      nob hill  San Francisco    296   sfc"
      ]
     },
     "execution_count": 256,
     "metadata": {},
     "output_type": "execute_result"
    }
   ],
   "source": [
    "nh_count = df_correct_metro[['listing_nh','listing_city']].value_counts().reset_index()\n",
    "nh_count.columns = ['neighborhood', 'city', 'count']\n",
    "nh_metro_df = pd.DataFrame(nh_count)\n",
    "nh_metro_df['metro'] = nh_metro_df.apply(lambda x: CITY_TO_METRO[x.city], axis=1)\n",
    "nh_metro_df.head()"
   ]
  },
  {
   "cell_type": "code",
   "execution_count": 257,
   "metadata": {},
   "outputs": [
    {
     "data": {
      "text/plain": [
       "[Text(0, 0, 'berkeley'),\n",
       " Text(1, 0, 'oakland lake merritt / grand'),\n",
       " Text(2, 0, 'SOMA / south beach'),\n",
       " Text(3, 0, 'mission district'),\n",
       " Text(4, 0, 'nob hill'),\n",
       " Text(5, 0, 'fremont / union city / newark'),\n",
       " Text(6, 0, 'san mateo'),\n",
       " Text(7, 0, 'oakland downtown'),\n",
       " Text(8, 0, 'oakland east'),\n",
       " Text(9, 0, 'alameda'),\n",
       " Text(10, 0, 'palo alto'),\n",
       " Text(11, 0, 'redwood city'),\n",
       " Text(12, 0, 'sunset / parkside'),\n",
       " Text(13, 0, 'walnut creek'),\n",
       " Text(14, 0, 'marina / cow hollow'),\n",
       " Text(15, 0, 'pacific heights'),\n",
       " Text(16, 0, 'richmond / seacliff'),\n",
       " Text(17, 0, 'concord / pleasant hill / martinez'),\n",
       " Text(18, 0, 'hayward / castro valley'),\n",
       " Text(19, 0, 'oakland north / temescal')]"
      ]
     },
     "execution_count": 257,
     "metadata": {},
     "output_type": "execute_result"
    },
    {
     "data": {
      "image/png": "[encoded data removed]",
      "text/plain": [
       "<Figure size 1152x864 with 1 Axes>"
      ]
     },
     "metadata": {
      "needs_background": "light"
     },
     "output_type": "display_data"
    }
   ],
   "source": [
    "plt.subplots(figsize=(16, 12))\n",
    "ax = sns.barplot(x=nh_metro_df['neighborhood'][:20],y=nh_metro_df['count'][:20],hue=nh_metro_df['metro'][:20])\n",
    "ax.set_xticklabels(ax.get_xticklabels(), rotation=45, horizontalalignment='right')"
   ]
  },
  {
   "cell_type": "code",
   "execution_count": 258,
   "metadata": {},
   "outputs": [
    {
     "data": {
      "image/png": "[encoded data removed]",
      "text/plain": [
       "<Figure size 864x576 with 1 Axes>"
      ]
     },
     "metadata": {
      "needs_background": "light"
     },
     "output_type": "display_data"
    }
   ],
   "source": [
    "plt.subplots(figsize=(12, 8))\n",
    "sns.boxplot(x='listing_city', y='listing_price', data=df_correct_metro)\n",
    "plt.xticks(rotation='vertical')\n",
    "plt.ylabel('Listing Price ($)')\n",
    "plt.xlabel('Listing City')\n",
    "plt.title('Listing City vs Listing Price');"
   ]
  },
  {
   "cell_type": "code",
   "execution_count": 336,
   "metadata": {},
   "outputs": [
    {
     "data": {
      "image/png": "[encoded data removed]",
      "text/plain": [
       "<Figure size 1080x720 with 36 Axes>"
      ]
     },
     "metadata": {
      "needs_background": "light"
     },
     "output_type": "display_data"
    }
   ],
   "source": [
    "df_correct_metro.hist(figsize=(15,10))\n",
    "plt.subplots_adjust(hspace=0.5);"
   ]
  },
  {
   "cell_type": "code",
   "execution_count": 337,
   "metadata": {},
   "outputs": [
    {
     "name": "stdout",
     "output_type": "stream",
     "text": [
      "<class 'pandas.core.frame.DataFrame'>\n",
      "Int64Index: 9712 entries, 7520103440 to 7514097657\n",
      "Data columns (total 45 columns):\n",
      " #   Column                   Non-Null Count  Dtype                                 \n",
      "---  ------                   --------------  -----                                 \n",
      " 0   listing_title            9712 non-null   object                                \n",
      " 1   listing_nh               9712 non-null   object                                \n",
      " 2   listing_city             9712 non-null   object                                \n",
      " 3   listing_date             9712 non-null   datetime64[ns, pytz.FixedOffset(-420)]\n",
      " 4   listing_price            9712 non-null   int64                                 \n",
      " 5   listing_bedrooms         9712 non-null   object                                \n",
      " 6   listing_bathrooms        9712 non-null   object                                \n",
      " 7   listing_sqft             6510 non-null   float64                               \n",
      " 8   listing_address          9398 non-null   object                                \n",
      " 9   listing_info             9712 non-null   object                                \n",
      " 10  listing_body             9712 non-null   object                                \n",
      " 11  listing_url              9712 non-null   object                                \n",
      " 12  listing_first_image      9712 non-null   object                                \n",
      " 13  listing_info_split       9712 non-null   object                                \n",
      " 14  animals_cats             9712 non-null   int64                                 \n",
      " 15  animals_dogs             9712 non-null   int64                                 \n",
      " 16  furnished                9712 non-null   int64                                 \n",
      " 17  smoking                  9712 non-null   int64                                 \n",
      " 18  wheelchair accessible    9712 non-null   int64                                 \n",
      " 19  has_AC                   9712 non-null   int64                                 \n",
      " 20  hasEVCharging            9712 non-null   int64                                 \n",
      " 21  laundry_in_bldg          9712 non-null   int64                                 \n",
      " 22  laundry_in_unit          9712 non-null   int64                                 \n",
      " 23  laundry_has_hookup       9712 non-null   int64                                 \n",
      " 24  laundry_onsite           9712 non-null   int64                                 \n",
      " 25  laundry_not_onsite       9712 non-null   int64                                 \n",
      " 26  parking_carport          9712 non-null   int64                                 \n",
      " 27  parking_attached_garage  9712 non-null   int64                                 \n",
      " 28  parking_detached_garage  9712 non-null   int64                                 \n",
      " 29  parking_offstreet        9712 non-null   int64                                 \n",
      " 30  parking_street           9712 non-null   int64                                 \n",
      " 31  parking_valet            9712 non-null   int64                                 \n",
      " 32  parking_none             9712 non-null   int64                                 \n",
      " 33  rent_period_daily        9712 non-null   int64                                 \n",
      " 34  rent_period_weekly       9712 non-null   int64                                 \n",
      " 35  rent_period_monthly      9712 non-null   int64                                 \n",
      " 36  housing_condo            9712 non-null   int64                                 \n",
      " 37  housing_apt              9712 non-null   int64                                 \n",
      " 38  housing_cottage          9712 non-null   int64                                 \n",
      " 39  housing_duplex           9712 non-null   int64                                 \n",
      " 40  housing_flat             9712 non-null   int64                                 \n",
      " 41  housing_house            9712 non-null   int64                                 \n",
      " 42  housing_inlaw            9712 non-null   int64                                 \n",
      " 43  housing_townhouse        9712 non-null   int64                                 \n",
      " 44  is_consistent_metro      9712 non-null   bool                                  \n",
      "dtypes: bool(1), datetime64[ns, pytz.FixedOffset(-420)](1), float64(1), int64(31), object(11)\n",
      "memory usage: 3.3+ MB\n"
     ]
    }
   ],
   "source": [
    "df_correct_metro.info()"
   ]
  },
  {
   "cell_type": "code",
   "execution_count": 259,
   "metadata": {},
   "outputs": [
    {
     "name": "stdout",
     "output_type": "stream",
     "text": [
      "Saved to csv file\n"
     ]
    }
   ],
   "source": [
    "df_correct_metro.to_csv(r'/Users/pandabear/springboard/CapstoneTwoProject/data/interim/listing_df_cleaned.csv', header=True)\n",
    "print('Saved to csv file')"
   ]
  },
  {
   "cell_type": "code",
   "execution_count": 260,
   "metadata": {},
   "outputs": [
    {
     "data": {
      "text/plain": [
       "(9712, 49)"
      ]
     },
     "execution_count": 260,
     "metadata": {},
     "output_type": "execute_result"
    }
   ],
   "source": [
    "df_correct_metro.shape"
   ]
  },
  {
   "cell_type": "code",
   "execution_count": null,
   "metadata": {},
   "outputs": [],
   "source": []
  }
 ],
 "metadata": {
  "kernelspec": {
   "display_name": "Python 3 (ipykernel)",
   "language": "python",
   "name": "python3"
  },
  "language_info": {
   "codemirror_mode": {
    "name": "ipython",
    "version": 3
   },
   "file_extension": ".py",
   "mimetype": "text/x-python",
   "name": "python",
   "nbconvert_exporter": "python",
   "pygments_lexer": "ipython3",
   "version": "3.9.12"
  }
 },
 "nbformat": 4,
 "nbformat_minor": 2
}

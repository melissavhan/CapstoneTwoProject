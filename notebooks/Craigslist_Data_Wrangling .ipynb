{
 "cells": [
  {
   "cell_type": "markdown",
   "metadata": {},
   "source": [
    "## Imports"
   ]
  },
  {
   "cell_type": "code",
   "execution_count": 59,
   "metadata": {
    "collapsed": true
   },
   "outputs": [],
   "source": [
    "#Run the following once to install libraries needed for Matplotlib to work\n",
    "#!conda install nomkl numpy scipy scikit-learn numexpr -y\n",
    "#!conda remove mkl mkl-service -y"
   ]
  },
  {
   "cell_type": "code",
   "execution_count": 108,
   "metadata": {
    "collapsed": false
   },
   "outputs": [
    {
     "name": "stderr",
     "output_type": "stream",
     "text": [
      "/Users/pandabear/anaconda/lib/python3.6/site-packages/requests/__init__.py:104: RequestsDependencyWarning: urllib3 (1.26.8) or chardet (5.0.0)/charset_normalizer (2.0.4) doesn't match a supported version!\n",
      "  RequestsDependencyWarning)\n"
     ]
    }
   ],
   "source": [
    "#Import pandas, matplotlib.pyplot, and seaborn in the correct lines below\n",
    "import pandas as pd\n",
    "import matplotlib.pyplot as plt\n",
    "import seaborn as sns\n",
    "%matplotlib inline\n",
    "import re\n",
    "import requests"
   ]
  },
  {
   "cell_type": "code",
   "execution_count": 61,
   "metadata": {
    "collapsed": false
   },
   "outputs": [],
   "source": [
    "# Neighborhoods in SF\n",
    "SFC_NEIGHBORHOODS = ['alamo square / nopa', 'bayview', 'bernal heights', 'castro / upper market', 'cole valley / ashbury hts', 'downtown / civic / van ness',\n",
    " 'excelsior / outer mission', 'financial district', 'glen park', 'haight ashbury', 'hayes valley', 'ingleside / SFSU / CCSF', 'inner richmond',\n",
    " 'inner sunset / UCSF', 'laurel hts / presidio', 'lower haight', 'lower nob hill', 'lower pac hts', 'marina / cow hollow', 'mission district',\n",
    " 'nob hill', 'noe valley', 'north beach / telegraph hill', 'pacific heights', 'portola district', 'potrero hill', 'richmond / seacliff', 'russian hill', \n",
    "'SOMA / south beach', 'sunset / parkside', 'tenderloin','treasure island', 'twin peaks / diamond hts', 'USF / panhandle', 'visitacion valley', \n",
    "'west portal / forest hill', 'western addition']\n",
    "\n",
    "# Neighborhoods in Peninsula\n",
    "PEN_NEIGHBORHOODS = ['atherton','belmont','brisbane','burlingame','coastside/pescadero','daly city','east palo alto','foster city','half moon bay','los altos','menlo park','millbrae',\n",
    "                     'mountain view','pacifica','palo alto','portola valley','redwood city','redwood shores','san bruno','san carlos','san mateo','south san francisco','woodside']\n",
    "\n",
    "# Neighborhoods in the East Bay\n",
    "EBY_NEIGHBORHOODS = ['alameda','albany / el cerrito','berkeley','berkeley north / hills','brentwood / oakley','concord / pleasant hill / martinez','danville / san ramon',\n",
    "                     'dublin / pleasanton / livermore','emeryville','fairfield / vacaville','fremont / union city / newark','hayward / castro valley','hercules, pinole, san pablo, el sob',\n",
    "                     'lafayette / orinda / moraga','oakland downtown','oakland east','oakland hills / mills','oakland lake merritt / grand','oakland north / temescal',\n",
    "                     'oakland piedmont / montclair','oakland rockridge / claremont','oakland west','pittsburg / antioch','richmond / point / annex','san leandro','vallejo / benicia','walnut creek']\n",
    "# List of cities\n",
    "SFC_CITIES = ['San Francisco']\n",
    "PEN_CITIES = ['Palo Alto','San Mateo','Mountain View','Redwood City','Menlo Park','Daly City','San Bruno','South San Francisco','Foster City','Burlingame']\n",
    "EBY_CITIES = ['Oakland','Berkeley','Fremont','Walnut Creek','Concord','Hayward','Alameda','Pleasanton','San Leandro','Vallejo','San Ramon','Emeryville',\n",
    "        'Dublin','Richmond','Fairfield','Livermore','Antioch','Pittsburg','Union City','El Cerrito']\n",
    "\n",
    "ALL_CITIES = SFC_CITIES + PEN_CITIES + EBY_CITIES\n",
    "\n",
    "# Dictionaries for neighborhood and city relationship\n",
    "METRO_TO_NEIGHBORHOODS = {'sfc': SFC_NEIGHBORHOODS, 'pen': PEN_NEIGHBORHOODS, 'eby': EBY_NEIGHBORHOODS}\n",
    "METRO_TO_CITIES = {'sfc': SFC_CITIES, 'pen': PEN_CITIES, 'eby': EBY_CITIES}\n",
    "\n",
    "NEIGHBORHOOD_TO_METRO = {neighborhood: metro for metro, neighborhoods in METRO_TO_NEIGHBORHOODS.items() for neighborhood in neighborhoods}\n",
    "CITY_TO_METRO = {city: metro for metro,cities in METRO_TO_CITIES.items() for city in cities}\n",
    "\n",
    "# Create a dictionary mapping listing_info values to the categorical column name\n",
    "LISTING_INFO_TO_COLUMN = {'cats are OK - purrr':'animals_cats','dogs are OK - wooof':'animals_dogs','furnished':'furnished',\n",
    "                    'no smoking':'smoking','wheelchair accessible':'wheelchair accessible','air conditioning':'has_AC',\n",
    "                     'EV charging':'hasEVCharging','laundry in bldg':'laundry_in_bldg','w/d in unit':'laundry_in_unit',\n",
    "                     'w/d hookups':'laundry_has_hookup','laundry on site':'laundry_onsite','no laundry on site':'laundry_not_onsite',\n",
    "                     'carport':'parking_carport','attached garage':'parking_attached_garage','detached garage':'parking_detached_garage',\n",
    "                     'off-street parking':'parking_offstreet','street parking':'parking_street','valet parking':'parking_valet','no parking':'parking_none',\n",
    "                     'rent period: daily':'rent_period_daily','rent period: weekly':'rent_period_weekly','rent period: monthly':'rent_period_monthly',\n",
    "                     'condo':'housing_condo','apartment':'housing_apt','cottage/cabin':'housing_cottage','duplex':'housing_duplex',\n",
    "                     'flat':'housing_flat','house':'housing_house','in-law':'housing_inlaw','loft':'housing_inlaw','townhouse':'housing_townhouse'}\n",
    "\n",
    "# Create a dictionary mapping listing_body features to the categorical column name\n",
    "LISTING_BODY_TO_COLUMN = {'rent control':'is_rent_controlled','no pets':'pets_allowed','remodelled':'is_remodelled',\n",
    "                         '(amenities)|(pool)|(gym)':'has_amenities'}"
   ]
  },
  {
   "cell_type": "code",
   "execution_count": 62,
   "metadata": {
    "collapsed": true
   },
   "outputs": [],
   "source": [
    "def correct_metro(neighborhood, city):\n",
    "    if city in CITY_TO_METRO:\n",
    "        return NEIGHBORHOOD_TO_METRO[neighborhood] == CITY_TO_METRO[city]\n",
    "    else:\n",
    "        return False\n",
    "    \n",
    "def clean_city(city):\n",
    "    city = city.strip()\n",
    "    city = city.strip('.')\n",
    "    if ',' in city:\n",
    "        return city.split(',')[0]\n",
    "    if '/' in city:\n",
    "        return city.split('/')[0]\n",
    "    return city\n",
    "\n",
    "# Extract key features from listing_info\n",
    "def get_listing_info_feature(listing_info_split, target_info):\n",
    "    for info in listing_info_split:\n",
    "        if info == target_info:\n",
    "            return 1\n",
    "    return 0\n",
    "\n",
    "# Extract key features from listing_body\n",
    "def parse_listing_body(text,target_word):\n",
    "    for key in LISTING_BODY_TO_COLUMN.keys():\n",
    "        if re.search(target_word, text.lower()) is not None:\n",
    "            return 1\n",
    "    return 0"
   ]
  },
  {
   "cell_type": "markdown",
   "metadata": {},
   "source": [
    "## Load the data"
   ]
  },
  {
   "cell_type": "code",
   "execution_count": 63,
   "metadata": {
    "collapsed": false
   },
   "outputs": [],
   "source": [
    "# The parsed html listing data is the interim directory\n",
    "dir_folder = '/Users/pandabear/springboard/CapstoneTwoProject/data/interim/'\n",
    "listing_df = pd.read_csv(dir_folder + 'listing_df.csv',index_col='listing_id')\n",
    "\n",
    "# Select the first 10000 rows\n",
    "# listing_df = listing_df.iloc[:10000,:]"
   ]
  },
  {
   "cell_type": "code",
   "execution_count": 64,
   "metadata": {
    "collapsed": false
   },
   "outputs": [
    {
     "data": {
      "text/html": [
       "<div>\n",
       "<table border=\"1\" class=\"dataframe\">\n",
       "  <thead>\n",
       "    <tr style=\"text-align: right;\">\n",
       "      <th></th>\n",
       "      <th>listing_address</th>\n",
       "      <th>listing_bathrooms</th>\n",
       "      <th>listing_bedrooms</th>\n",
       "      <th>listing_body</th>\n",
       "      <th>listing_city</th>\n",
       "      <th>listing_date</th>\n",
       "      <th>listing_first_image</th>\n",
       "      <th>listing_info</th>\n",
       "      <th>listing_nh</th>\n",
       "      <th>listing_price</th>\n",
       "      <th>listing_sqft</th>\n",
       "      <th>listing_title</th>\n",
       "      <th>listing_url</th>\n",
       "    </tr>\n",
       "    <tr>\n",
       "      <th>listing_id</th>\n",
       "      <th></th>\n",
       "      <th></th>\n",
       "      <th></th>\n",
       "      <th></th>\n",
       "      <th></th>\n",
       "      <th></th>\n",
       "      <th></th>\n",
       "      <th></th>\n",
       "      <th></th>\n",
       "      <th></th>\n",
       "      <th></th>\n",
       "      <th></th>\n",
       "      <th></th>\n",
       "    </tr>\n",
       "  </thead>\n",
       "  <tbody>\n",
       "    <tr>\n",
       "      <th>7506354686</th>\n",
       "      <td>24 Union Square</td>\n",
       "      <td>2</td>\n",
       "      <td>2</td>\n",
       "      <td>Furnished Available  -Parking -Pool -Controlle...</td>\n",
       "      <td>Union City</td>\n",
       "      <td>2022-07-08T11:18:15-0700</td>\n",
       "      <td>https://images.craigslist.org/00P0P_hZ2AtgxDfz...</td>\n",
       "      <td>air conditioning  cats are OK - purrr  dogs a...</td>\n",
       "      <td>fremont / union city / newark</td>\n",
       "      <td>3250</td>\n",
       "      <td>1226.0</td>\n",
       "      <td>At Last, This Is What You’ve Been Searching For</td>\n",
       "      <td>https://sfbay.craigslist.org/eby/apa/d/union-c...</td>\n",
       "    </tr>\n",
       "    <tr>\n",
       "      <th>7508776873</th>\n",
       "      <td>1625 15th Street</td>\n",
       "      <td>1</td>\n",
       "      <td>2</td>\n",
       "      <td>Upgraded Single Family Home in San Pablo, CA...</td>\n",
       "      <td>San Pablo</td>\n",
       "      <td>2022-07-14T11:52:10-0700</td>\n",
       "      <td>https://images.craigslist.org/00101_70g2UwYKVU...</td>\n",
       "      <td>application fee details: $45 Online Applicati...</td>\n",
       "      <td>hercules, pinole, san pablo, el sob</td>\n",
       "      <td>2600</td>\n",
       "      <td>NaN</td>\n",
       "      <td>Upgraded Single Family Home in San Pablo, CA</td>\n",
       "      <td>https://sfbay.craigslist.org/eby/apa/d/richmon...</td>\n",
       "    </tr>\n",
       "    <tr>\n",
       "      <th>7520158858</th>\n",
       "      <td>3900 Business Center Dr near Business Center D...</td>\n",
       "      <td>1</td>\n",
       "      <td>1</td>\n",
       "      <td>Verdant at Green Valley 3900 Business Center D...</td>\n",
       "      <td>Fairfield</td>\n",
       "      <td>2022-08-11T11:38:28-0700</td>\n",
       "      <td>https://images.craigslist.org/00707_7hc2WHQqbx...</td>\n",
       "      <td>cats are OK - purrr  dogs are OK - wooof  apa...</td>\n",
       "      <td>fairfield / vacaville</td>\n",
       "      <td>2102</td>\n",
       "      <td>712.0</td>\n",
       "      <td>Business Center, Parcel Lockers, Disposal, Com...</td>\n",
       "      <td>https://sfbay.craigslist.org/eby/apa/d/fairfie...</td>\n",
       "    </tr>\n",
       "    <tr>\n",
       "      <th>7509730537</th>\n",
       "      <td>36000 Fremont Blvd</td>\n",
       "      <td>1</td>\n",
       "      <td>1</td>\n",
       "      <td>To schedule a tour We now book our tour appoin...</td>\n",
       "      <td>Fremont</td>\n",
       "      <td>2022-07-16T16:43:33-0700</td>\n",
       "      <td>https://images.craigslist.org/00N0N_5CCDB2ckEM...</td>\n",
       "      <td>cats are OK - purrr  dogs are OK - wooof  apa...</td>\n",
       "      <td>fremont / union city / newark</td>\n",
       "      <td>2325</td>\n",
       "      <td>610.0</td>\n",
       "      <td>Unwind at Casa Serena!</td>\n",
       "      <td>https://sfbay.craigslist.org/eby/apa/d/fremont...</td>\n",
       "    </tr>\n",
       "    <tr>\n",
       "      <th>7516143553</th>\n",
       "      <td>NaN</td>\n",
       "      <td>2</td>\n",
       "      <td>3</td>\n",
       "      <td>3 Beds 2 Baths single family house  Excellent ...</td>\n",
       "      <td>San Leandro</td>\n",
       "      <td>2022-08-01T14:25:13-0700</td>\n",
       "      <td>https://images.craigslist.org/00z0z_cJsvz9nR7M...</td>\n",
       "      <td>air conditioning  cats are OK - purrr  dogs a...</td>\n",
       "      <td>san leandro</td>\n",
       "      <td>3500</td>\n",
       "      <td>1300.0</td>\n",
       "      <td>House for rent - 5 mins walk to Bart 3bed room...</td>\n",
       "      <td>https://sfbay.craigslist.org/eby/apa/d/san-lea...</td>\n",
       "    </tr>\n",
       "  </tbody>\n",
       "</table>\n",
       "</div>"
      ],
      "text/plain": [
       "                                              listing_address  \\\n",
       "listing_id                                                      \n",
       "7506354686                                    24 Union Square   \n",
       "7508776873                                   1625 15th Street   \n",
       "7520158858  3900 Business Center Dr near Business Center D...   \n",
       "7509730537                                 36000 Fremont Blvd   \n",
       "7516143553                                                NaN   \n",
       "\n",
       "           listing_bathrooms  listing_bedrooms  \\\n",
       "listing_id                                       \n",
       "7506354686                 2                 2   \n",
       "7508776873                 1                 2   \n",
       "7520158858                 1                 1   \n",
       "7509730537                 1                 1   \n",
       "7516143553                 2                 3   \n",
       "\n",
       "                                                 listing_body listing_city  \\\n",
       "listing_id                                                                   \n",
       "7506354686  Furnished Available  -Parking -Pool -Controlle...   Union City   \n",
       "7508776873    Upgraded Single Family Home in San Pablo, CA...    San Pablo   \n",
       "7520158858  Verdant at Green Valley 3900 Business Center D...    Fairfield   \n",
       "7509730537  To schedule a tour We now book our tour appoin...      Fremont   \n",
       "7516143553  3 Beds 2 Baths single family house  Excellent ...  San Leandro   \n",
       "\n",
       "                        listing_date  \\\n",
       "listing_id                             \n",
       "7506354686  2022-07-08T11:18:15-0700   \n",
       "7508776873  2022-07-14T11:52:10-0700   \n",
       "7520158858  2022-08-11T11:38:28-0700   \n",
       "7509730537  2022-07-16T16:43:33-0700   \n",
       "7516143553  2022-08-01T14:25:13-0700   \n",
       "\n",
       "                                          listing_first_image  \\\n",
       "listing_id                                                      \n",
       "7506354686  https://images.craigslist.org/00P0P_hZ2AtgxDfz...   \n",
       "7508776873  https://images.craigslist.org/00101_70g2UwYKVU...   \n",
       "7520158858  https://images.craigslist.org/00707_7hc2WHQqbx...   \n",
       "7509730537  https://images.craigslist.org/00N0N_5CCDB2ckEM...   \n",
       "7516143553  https://images.craigslist.org/00z0z_cJsvz9nR7M...   \n",
       "\n",
       "                                                 listing_info  \\\n",
       "listing_id                                                      \n",
       "7506354686   air conditioning  cats are OK - purrr  dogs a...   \n",
       "7508776873   application fee details: $45 Online Applicati...   \n",
       "7520158858   cats are OK - purrr  dogs are OK - wooof  apa...   \n",
       "7509730537   cats are OK - purrr  dogs are OK - wooof  apa...   \n",
       "7516143553   air conditioning  cats are OK - purrr  dogs a...   \n",
       "\n",
       "                                     listing_nh  listing_price  listing_sqft  \\\n",
       "listing_id                                                                     \n",
       "7506354686        fremont / union city / newark           3250        1226.0   \n",
       "7508776873  hercules, pinole, san pablo, el sob           2600           NaN   \n",
       "7520158858                fairfield / vacaville           2102         712.0   \n",
       "7509730537        fremont / union city / newark           2325         610.0   \n",
       "7516143553                          san leandro           3500        1300.0   \n",
       "\n",
       "                                                listing_title  \\\n",
       "listing_id                                                      \n",
       "7506354686    At Last, This Is What You’ve Been Searching For   \n",
       "7508776873       Upgraded Single Family Home in San Pablo, CA   \n",
       "7520158858  Business Center, Parcel Lockers, Disposal, Com...   \n",
       "7509730537                             Unwind at Casa Serena!   \n",
       "7516143553  House for rent - 5 mins walk to Bart 3bed room...   \n",
       "\n",
       "                                                  listing_url  \n",
       "listing_id                                                     \n",
       "7506354686  https://sfbay.craigslist.org/eby/apa/d/union-c...  \n",
       "7508776873  https://sfbay.craigslist.org/eby/apa/d/richmon...  \n",
       "7520158858  https://sfbay.craigslist.org/eby/apa/d/fairfie...  \n",
       "7509730537  https://sfbay.craigslist.org/eby/apa/d/fremont...  \n",
       "7516143553  https://sfbay.craigslist.org/eby/apa/d/san-lea...  "
      ]
     },
     "execution_count": 64,
     "metadata": {},
     "output_type": "execute_result"
    }
   ],
   "source": [
    "listing_df.head()"
   ]
  },
  {
   "cell_type": "code",
   "execution_count": 65,
   "metadata": {
    "collapsed": false
   },
   "outputs": [
    {
     "data": {
      "text/html": [
       "<div>\n",
       "<table border=\"1\" class=\"dataframe\">\n",
       "  <thead>\n",
       "    <tr style=\"text-align: right;\">\n",
       "      <th></th>\n",
       "      <th>listing_bedrooms</th>\n",
       "      <th>listing_price</th>\n",
       "      <th>listing_sqft</th>\n",
       "    </tr>\n",
       "  </thead>\n",
       "  <tbody>\n",
       "    <tr>\n",
       "      <th>count</th>\n",
       "      <td>57063.000000</td>\n",
       "      <td>5.706300e+04</td>\n",
       "      <td>47281.000000</td>\n",
       "    </tr>\n",
       "    <tr>\n",
       "      <th>mean</th>\n",
       "      <td>1.556403</td>\n",
       "      <td>5.304582e+03</td>\n",
       "      <td>899.204839</td>\n",
       "    </tr>\n",
       "    <tr>\n",
       "      <th>std</th>\n",
       "      <td>0.911339</td>\n",
       "      <td>2.810062e+05</td>\n",
       "      <td>1020.222018</td>\n",
       "    </tr>\n",
       "    <tr>\n",
       "      <th>min</th>\n",
       "      <td>0.000000</td>\n",
       "      <td>1.000000e+00</td>\n",
       "      <td>1.000000</td>\n",
       "    </tr>\n",
       "    <tr>\n",
       "      <th>25%</th>\n",
       "      <td>1.000000</td>\n",
       "      <td>2.380000e+03</td>\n",
       "      <td>658.000000</td>\n",
       "    </tr>\n",
       "    <tr>\n",
       "      <th>50%</th>\n",
       "      <td>2.000000</td>\n",
       "      <td>2.900000e+03</td>\n",
       "      <td>804.000000</td>\n",
       "    </tr>\n",
       "    <tr>\n",
       "      <th>75%</th>\n",
       "      <td>2.000000</td>\n",
       "      <td>3.711000e+03</td>\n",
       "      <td>1019.000000</td>\n",
       "    </tr>\n",
       "    <tr>\n",
       "      <th>max</th>\n",
       "      <td>8.000000</td>\n",
       "      <td>3.875318e+07</td>\n",
       "      <td>94103.000000</td>\n",
       "    </tr>\n",
       "  </tbody>\n",
       "</table>\n",
       "</div>"
      ],
      "text/plain": [
       "       listing_bedrooms  listing_price  listing_sqft\n",
       "count      57063.000000   5.706300e+04  47281.000000\n",
       "mean           1.556403   5.304582e+03    899.204839\n",
       "std            0.911339   2.810062e+05   1020.222018\n",
       "min            0.000000   1.000000e+00      1.000000\n",
       "25%            1.000000   2.380000e+03    658.000000\n",
       "50%            2.000000   2.900000e+03    804.000000\n",
       "75%            2.000000   3.711000e+03   1019.000000\n",
       "max            8.000000   3.875318e+07  94103.000000"
      ]
     },
     "execution_count": 65,
     "metadata": {},
     "output_type": "execute_result"
    }
   ],
   "source": [
    "listing_df.describe()"
   ]
  },
  {
   "cell_type": "code",
   "execution_count": 66,
   "metadata": {
    "collapsed": false
   },
   "outputs": [
    {
     "data": {
      "text/plain": [
       "(57063, 13)"
      ]
     },
     "execution_count": 66,
     "metadata": {},
     "output_type": "execute_result"
    }
   ],
   "source": [
    "listing_dr_rows = listing_df.shape[0]\n",
    "listing_df.shape"
   ]
  },
  {
   "cell_type": "code",
   "execution_count": 67,
   "metadata": {
    "collapsed": false
   },
   "outputs": [],
   "source": [
    "# Drop rows that are missing price data\n",
    "#listing_df = listing_df.dropna(subset=['listing_price'])\n",
    "\n",
    "# Drop rows where price is below a chosen min and max\n",
    "price_min = 500\n",
    "price_max = 20000\n",
    "listing_df = listing_df.loc[(listing_df.listing_price > price_min) & (listing_df.listing_price < price_max)]"
   ]
  },
  {
   "cell_type": "code",
   "execution_count": 68,
   "metadata": {
    "collapsed": false
   },
   "outputs": [
    {
     "data": {
      "text/html": [
       "<div>\n",
       "<table border=\"1\" class=\"dataframe\">\n",
       "  <thead>\n",
       "    <tr style=\"text-align: right;\">\n",
       "      <th></th>\n",
       "      <th>listing_bedrooms</th>\n",
       "      <th>listing_price</th>\n",
       "      <th>listing_sqft</th>\n",
       "    </tr>\n",
       "  </thead>\n",
       "  <tbody>\n",
       "    <tr>\n",
       "      <th>count</th>\n",
       "      <td>56980.000000</td>\n",
       "      <td>56980.000000</td>\n",
       "      <td>47247.000000</td>\n",
       "    </tr>\n",
       "    <tr>\n",
       "      <th>mean</th>\n",
       "      <td>1.554879</td>\n",
       "      <td>3231.630344</td>\n",
       "      <td>897.798273</td>\n",
       "    </tr>\n",
       "    <tr>\n",
       "      <th>std</th>\n",
       "      <td>0.907461</td>\n",
       "      <td>1370.540204</td>\n",
       "      <td>1016.665570</td>\n",
       "    </tr>\n",
       "    <tr>\n",
       "      <th>min</th>\n",
       "      <td>0.000000</td>\n",
       "      <td>505.000000</td>\n",
       "      <td>1.000000</td>\n",
       "    </tr>\n",
       "    <tr>\n",
       "      <th>25%</th>\n",
       "      <td>1.000000</td>\n",
       "      <td>2380.000000</td>\n",
       "      <td>658.000000</td>\n",
       "    </tr>\n",
       "    <tr>\n",
       "      <th>50%</th>\n",
       "      <td>2.000000</td>\n",
       "      <td>2900.000000</td>\n",
       "      <td>804.000000</td>\n",
       "    </tr>\n",
       "    <tr>\n",
       "      <th>75%</th>\n",
       "      <td>2.000000</td>\n",
       "      <td>3710.000000</td>\n",
       "      <td>1016.500000</td>\n",
       "    </tr>\n",
       "    <tr>\n",
       "      <th>max</th>\n",
       "      <td>8.000000</td>\n",
       "      <td>18995.000000</td>\n",
       "      <td>94103.000000</td>\n",
       "    </tr>\n",
       "  </tbody>\n",
       "</table>\n",
       "</div>"
      ],
      "text/plain": [
       "       listing_bedrooms  listing_price  listing_sqft\n",
       "count      56980.000000   56980.000000  47247.000000\n",
       "mean           1.554879    3231.630344    897.798273\n",
       "std            0.907461    1370.540204   1016.665570\n",
       "min            0.000000     505.000000      1.000000\n",
       "25%            1.000000    2380.000000    658.000000\n",
       "50%            2.000000    2900.000000    804.000000\n",
       "75%            2.000000    3710.000000   1016.500000\n",
       "max            8.000000   18995.000000  94103.000000"
      ]
     },
     "execution_count": 68,
     "metadata": {},
     "output_type": "execute_result"
    }
   ],
   "source": [
    "listing_df.describe()"
   ]
  },
  {
   "cell_type": "markdown",
   "metadata": {},
   "source": [
    "## Removing duplicate listings"
   ]
  },
  {
   "cell_type": "code",
   "execution_count": 69,
   "metadata": {
    "collapsed": false
   },
   "outputs": [
    {
     "data": {
      "text/plain": [
       "First-floor two-bedroom in Theater District        293\n",
       "***UP to 8-weeks OFF RENT!!*** Apply Today!        199\n",
       "Amazing 2 bed 2 bath home                          151\n",
       "MINUTES FROM DOWNTOWN BURLINGAME!                  149\n",
       "$2,395 / 1br - BEAUTIFUL 1 BED 1 BATH APARTMENT    121\n",
       "Name: listing_title, dtype: int64"
      ]
     },
     "execution_count": 69,
     "metadata": {},
     "output_type": "execute_result"
    }
   ],
   "source": [
    "# Look at the number of exact duplicates\n",
    "duplicates = listing_df['listing_title'].value_counts()\n",
    "duplicates.head()"
   ]
  },
  {
   "cell_type": "code",
   "execution_count": 70,
   "metadata": {
    "collapsed": false
   },
   "outputs": [
    {
     "name": "stdout",
     "output_type": "stream",
     "text": [
      "Total number of duplicates by listing title: 53668\n"
     ]
    }
   ],
   "source": [
    "print('Total number of duplicates by listing title: {}'.format(duplicates[duplicates != 1].sum()))"
   ]
  },
  {
   "cell_type": "code",
   "execution_count": 71,
   "metadata": {
    "collapsed": false
   },
   "outputs": [
    {
     "name": "stdout",
     "output_type": "stream",
     "text": [
      "Dataframe size after filter 1: 21956 rows, 13 columns\n",
      "Filter 1 dropped 35107 rows\n"
     ]
    }
   ],
   "source": [
    "# Drop duplicates using 3 filters: (Note: optional fields in craigslist are address, neighborhood)\n",
    "# 1. Drop duplicates by subset of title, bedroom, bathroom, neighborhood\n",
    "df_drop_by_filter1 = listing_df.drop_duplicates(subset = ['listing_title','listing_bedrooms','listing_bathrooms','listing_nh'], keep = 'last', inplace = False)\n",
    "print(f\"Dataframe size after filter 1: {df_drop_by_filter1.shape[0]} rows, {df_drop_by_filter1.shape[1]} columns\")\n",
    "print(f\"Filter 1 dropped {listing_dr_rows - df_drop_by_filter1.shape[0]} rows\")"
   ]
  },
  {
   "cell_type": "code",
   "execution_count": 72,
   "metadata": {
    "collapsed": false
   },
   "outputs": [
    {
     "name": "stdout",
     "output_type": "stream",
     "text": [
      "Dataframe size after filter 2: 16627 rows, 13 columns\n",
      "Filter 2 dropped 5329 rows\n"
     ]
    }
   ],
   "source": [
    "# 2. Drop duplicates by subset of image link, bedroom, bathroom, neighborhood\n",
    "df_drop_by_filter2 = df_drop_by_filter1.drop_duplicates(subset = ['listing_first_image','listing_bedrooms','listing_bathrooms','listing_nh'], keep = 'last', inplace = False)\n",
    "print(f\"Dataframe size after filter 2: {df_drop_by_filter2.shape[0]} rows, {df_drop_by_filter2.shape[1]} columns\")\n",
    "print(f\"Filter 2 dropped {df_drop_by_filter1.shape[0] - df_drop_by_filter2.shape[0]} rows\")"
   ]
  },
  {
   "cell_type": "code",
   "execution_count": 73,
   "metadata": {
    "collapsed": false
   },
   "outputs": [
    {
     "name": "stdout",
     "output_type": "stream",
     "text": [
      "Dataframe size after filter 3: 8001 rows, 13 columns\n",
      "Filter 3 dropped 8626 rows\n"
     ]
    }
   ],
   "source": [
    "# 3. Drop duplicates by subset of listing_address, listing_city, bedroom, bathroom\n",
    "df_drop_by_filter3 = df_drop_by_filter2.drop_duplicates(subset = ['listing_address','listing_city','listing_bedrooms','listing_bathrooms'], keep = 'last', inplace = False)\n",
    "print(f\"Dataframe size after filter 3: {df_drop_by_filter3.shape[0]} rows, {df_drop_by_filter3.shape[1]} columns\")\n",
    "print(f\"Filter 3 dropped {df_drop_by_filter2.shape[0] - df_drop_by_filter3.shape[0]} rows\")"
   ]
  },
  {
   "cell_type": "code",
   "execution_count": 74,
   "metadata": {
    "collapsed": false
   },
   "outputs": [
    {
     "name": "stdout",
     "output_type": "stream",
     "text": [
      "Dataframe size after dropping based on all columns: 29852 rows, 13 columns\n",
      "Dropping duplicates by all columns dropped 27211 rows\n"
     ]
    }
   ],
   "source": [
    "# Compare with dropping duplicates based on all columns\n",
    "df_drop_by_all_cols = listing_df.drop_duplicates(keep = 'last', inplace = False)\n",
    "df_drop_by_all_cols.shape\n",
    "print(f\"Dataframe size after dropping based on all columns: {df_drop_by_all_cols.shape[0]} rows, {df_drop_by_all_cols.shape[1]} columns\")\n",
    "print(f\"Dropping duplicates by all columns dropped {listing_dr_rows - df_drop_by_all_cols.shape[0]} rows\")"
   ]
  },
  {
   "cell_type": "code",
   "execution_count": 75,
   "metadata": {
    "collapsed": false
   },
   "outputs": [
    {
     "data": {
      "text/html": [
       "<div>\n",
       "<table border=\"1\" class=\"dataframe\">\n",
       "  <thead>\n",
       "    <tr style=\"text-align: right;\">\n",
       "      <th></th>\n",
       "      <th>listing_address</th>\n",
       "      <th>listing_bathrooms</th>\n",
       "      <th>listing_bedrooms</th>\n",
       "      <th>listing_body</th>\n",
       "      <th>listing_city</th>\n",
       "      <th>listing_date</th>\n",
       "      <th>listing_first_image</th>\n",
       "      <th>listing_info</th>\n",
       "      <th>listing_nh</th>\n",
       "      <th>listing_price</th>\n",
       "      <th>listing_sqft</th>\n",
       "      <th>listing_title</th>\n",
       "      <th>listing_url</th>\n",
       "    </tr>\n",
       "    <tr>\n",
       "      <th>listing_id</th>\n",
       "      <th></th>\n",
       "      <th></th>\n",
       "      <th></th>\n",
       "      <th></th>\n",
       "      <th></th>\n",
       "      <th></th>\n",
       "      <th></th>\n",
       "      <th></th>\n",
       "      <th></th>\n",
       "      <th></th>\n",
       "      <th></th>\n",
       "      <th></th>\n",
       "      <th></th>\n",
       "    </tr>\n",
       "  </thead>\n",
       "  <tbody>\n",
       "    <tr>\n",
       "      <th>7520238715</th>\n",
       "      <td>larchmont st near santa clara</td>\n",
       "      <td>1</td>\n",
       "      <td>0</td>\n",
       "      <td>In Law Studio with private entrance. There is ...</td>\n",
       "      <td>Hayward</td>\n",
       "      <td>2022-08-11T14:27:20-0700</td>\n",
       "      <td>https://images.craigslist.org/00O0O_bJHOplrM7G...</td>\n",
       "      <td>in-law  laundry on site  no smoking  street p...</td>\n",
       "      <td>hayward / castro valley</td>\n",
       "      <td>1495</td>\n",
       "      <td>NaN</td>\n",
       "      <td>Cozy bright tudio, private entrance, convenien...</td>\n",
       "      <td>https://sfbay.craigslist.org/eby/apa/d/hayward...</td>\n",
       "    </tr>\n",
       "    <tr>\n",
       "      <th>7520722195</th>\n",
       "      <td>562 29th Street</td>\n",
       "      <td>1</td>\n",
       "      <td>2</td>\n",
       "      <td>Capture The Charm, Love The Space, Live The ...</td>\n",
       "      <td>Oakland</td>\n",
       "      <td>2022-08-12T17:17:07-0700</td>\n",
       "      <td>https://images.craigslist.org/00f0f_6WN3vHUujM...</td>\n",
       "      <td>cats are OK - purrr  dogs are OK - wooof  con...</td>\n",
       "      <td>oakland east</td>\n",
       "      <td>2660</td>\n",
       "      <td>668.0</td>\n",
       "      <td>Ultimate 2BR/1BA Condo - 562 29th Street</td>\n",
       "      <td>https://sfbay.craigslist.org/eby/apa/d/oakland...</td>\n",
       "    </tr>\n",
       "    <tr>\n",
       "      <th>7520103440</th>\n",
       "      <td>Newport Dr</td>\n",
       "      <td>2</td>\n",
       "      <td>3</td>\n",
       "      <td>Great location 3 Bed 2 Bath Single Family Hous...</td>\n",
       "      <td>Fremont</td>\n",
       "      <td>2022-08-11T09:51:58-0700</td>\n",
       "      <td>https://images.craigslist.org/00C0C_iEcKsVmzdg...</td>\n",
       "      <td>open house dates   saturday 2022-08-13    sun...</td>\n",
       "      <td>fremont / union city / newark</td>\n",
       "      <td>3800</td>\n",
       "      <td>1495.0</td>\n",
       "      <td>Beautiful and Spacious NEW remodeled Silicon V...</td>\n",
       "      <td>https://sfbay.craigslist.org/eby/apa/d/fremont...</td>\n",
       "    </tr>\n",
       "    <tr>\n",
       "      <th>7514395720</th>\n",
       "      <td>3051 Adeline #E near Essex</td>\n",
       "      <td>1</td>\n",
       "      <td>1</td>\n",
       "      <td>OFFICE USE ONLY  Italian tile floors  Priced f...</td>\n",
       "      <td>Berkeley</td>\n",
       "      <td>2022-07-28T08:02:39-0700</td>\n",
       "      <td>https://images.craigslist.org/00S0S_esApZyWjnu...</td>\n",
       "      <td>open house dates   saturday 2022-08-13    sun...</td>\n",
       "      <td>berkeley</td>\n",
       "      <td>1595</td>\n",
       "      <td>400.0</td>\n",
       "      <td>OFFICE STUDIO</td>\n",
       "      <td>https://sfbay.craigslist.org/eby/apa/d/berkele...</td>\n",
       "    </tr>\n",
       "    <tr>\n",
       "      <th>7520675660</th>\n",
       "      <td>Gateway Drive near Griffin Drive</td>\n",
       "      <td>1</td>\n",
       "      <td>1</td>\n",
       "      <td>Great ADU Newly Remodeled! New Everything! V...</td>\n",
       "      <td>Vallejo</td>\n",
       "      <td>2022-08-12T15:07:04-0700</td>\n",
       "      <td>https://images.craigslist.org/00G0G_h0W8q8v9Py...</td>\n",
       "      <td>apartment  no laundry on site  no smoking  of...</td>\n",
       "      <td>vallejo / benicia</td>\n",
       "      <td>1650</td>\n",
       "      <td>560.0</td>\n",
       "      <td>Great ADU Newly Remodeled! New Everything! Val...</td>\n",
       "      <td>https://sfbay.craigslist.org/eby/apa/d/vallejo...</td>\n",
       "    </tr>\n",
       "  </tbody>\n",
       "</table>\n",
       "</div>"
      ],
      "text/plain": [
       "                             listing_address listing_bathrooms  \\\n",
       "listing_id                                                       \n",
       "7520238715     larchmont st near santa clara                 1   \n",
       "7520722195                   562 29th Street                 1   \n",
       "7520103440                        Newport Dr                 2   \n",
       "7514395720        3051 Adeline #E near Essex                 1   \n",
       "7520675660  Gateway Drive near Griffin Drive                 1   \n",
       "\n",
       "            listing_bedrooms  \\\n",
       "listing_id                     \n",
       "7520238715                 0   \n",
       "7520722195                 2   \n",
       "7520103440                 3   \n",
       "7514395720                 1   \n",
       "7520675660                 1   \n",
       "\n",
       "                                                 listing_body listing_city  \\\n",
       "listing_id                                                                   \n",
       "7520238715  In Law Studio with private entrance. There is ...      Hayward   \n",
       "7520722195    Capture The Charm, Love The Space, Live The ...      Oakland   \n",
       "7520103440  Great location 3 Bed 2 Bath Single Family Hous...      Fremont   \n",
       "7514395720  OFFICE USE ONLY  Italian tile floors  Priced f...     Berkeley   \n",
       "7520675660    Great ADU Newly Remodeled! New Everything! V...      Vallejo   \n",
       "\n",
       "                        listing_date  \\\n",
       "listing_id                             \n",
       "7520238715  2022-08-11T14:27:20-0700   \n",
       "7520722195  2022-08-12T17:17:07-0700   \n",
       "7520103440  2022-08-11T09:51:58-0700   \n",
       "7514395720  2022-07-28T08:02:39-0700   \n",
       "7520675660  2022-08-12T15:07:04-0700   \n",
       "\n",
       "                                          listing_first_image  \\\n",
       "listing_id                                                      \n",
       "7520238715  https://images.craigslist.org/00O0O_bJHOplrM7G...   \n",
       "7520722195  https://images.craigslist.org/00f0f_6WN3vHUujM...   \n",
       "7520103440  https://images.craigslist.org/00C0C_iEcKsVmzdg...   \n",
       "7514395720  https://images.craigslist.org/00S0S_esApZyWjnu...   \n",
       "7520675660  https://images.craigslist.org/00G0G_h0W8q8v9Py...   \n",
       "\n",
       "                                                 listing_info  \\\n",
       "listing_id                                                      \n",
       "7520238715   in-law  laundry on site  no smoking  street p...   \n",
       "7520722195   cats are OK - purrr  dogs are OK - wooof  con...   \n",
       "7520103440   open house dates   saturday 2022-08-13    sun...   \n",
       "7514395720   open house dates   saturday 2022-08-13    sun...   \n",
       "7520675660   apartment  no laundry on site  no smoking  of...   \n",
       "\n",
       "                               listing_nh  listing_price  listing_sqft  \\\n",
       "listing_id                                                               \n",
       "7520238715        hayward / castro valley           1495           NaN   \n",
       "7520722195                   oakland east           2660         668.0   \n",
       "7520103440  fremont / union city / newark           3800        1495.0   \n",
       "7514395720                       berkeley           1595         400.0   \n",
       "7520675660              vallejo / benicia           1650         560.0   \n",
       "\n",
       "                                                listing_title  \\\n",
       "listing_id                                                      \n",
       "7520238715  Cozy bright tudio, private entrance, convenien...   \n",
       "7520722195           Ultimate 2BR/1BA Condo - 562 29th Street   \n",
       "7520103440  Beautiful and Spacious NEW remodeled Silicon V...   \n",
       "7514395720                                      OFFICE STUDIO   \n",
       "7520675660  Great ADU Newly Remodeled! New Everything! Val...   \n",
       "\n",
       "                                                  listing_url  \n",
       "listing_id                                                     \n",
       "7520238715  https://sfbay.craigslist.org/eby/apa/d/hayward...  \n",
       "7520722195  https://sfbay.craigslist.org/eby/apa/d/oakland...  \n",
       "7520103440  https://sfbay.craigslist.org/eby/apa/d/fremont...  \n",
       "7514395720  https://sfbay.craigslist.org/eby/apa/d/berkele...  \n",
       "7520675660  https://sfbay.craigslist.org/eby/apa/d/vallejo...  "
      ]
     },
     "execution_count": 75,
     "metadata": {},
     "output_type": "execute_result"
    }
   ],
   "source": [
    "# Use all 3 filters\n",
    "df = df_drop_by_filter3\n",
    "df.head()"
   ]
  },
  {
   "cell_type": "code",
   "execution_count": 76,
   "metadata": {
    "collapsed": false
   },
   "outputs": [
    {
     "data": {
      "text/plain": [
       "listing_address         object\n",
       "listing_bathrooms       object\n",
       "listing_bedrooms         int64\n",
       "listing_body            object\n",
       "listing_city            object\n",
       "listing_date            object\n",
       "listing_first_image     object\n",
       "listing_info            object\n",
       "listing_nh              object\n",
       "listing_price            int64\n",
       "listing_sqft           float64\n",
       "listing_title           object\n",
       "listing_url             object\n",
       "dtype: object"
      ]
     },
     "execution_count": 76,
     "metadata": {},
     "output_type": "execute_result"
    }
   ],
   "source": [
    "df.dtypes"
   ]
  },
  {
   "cell_type": "code",
   "execution_count": 77,
   "metadata": {
    "collapsed": false
   },
   "outputs": [],
   "source": [
    "df.is_copy = False\n",
    "# Convert the columns into the correct dtype\n",
    "df['listing_date'] = pd.to_datetime(df['listing_date'])"
   ]
  },
  {
   "cell_type": "code",
   "execution_count": 78,
   "metadata": {
    "collapsed": false
   },
   "outputs": [
    {
     "data": {
      "text/plain": [
       "array(['1', '2', '2.5', '1.5', '3.5', '3', 'split', 'shared', '4', '4.5',\n",
       "       '5.5', '5', '6', '6.5', '9+', '8'], dtype=object)"
      ]
     },
     "execution_count": 78,
     "metadata": {},
     "output_type": "execute_result"
    }
   ],
   "source": [
    "# Trim trailing spaces on string values in listing_bathrooms\n",
    "df['listing_bathrooms'] = df['listing_bathrooms'].map(lambda x: x.strip())\n",
    "df['listing_bathrooms'].unique()"
   ]
  },
  {
   "cell_type": "code",
   "execution_count": 79,
   "metadata": {
    "collapsed": false
   },
   "outputs": [
    {
     "data": {
      "text/plain": [
       "1         4952\n",
       "2         1845\n",
       "1.5        361\n",
       "2.5        325\n",
       "3          269\n",
       "3.5         69\n",
       "shared      66\n",
       "split       54\n",
       "4           38\n",
       "4.5         12\n",
       "5            5\n",
       "6.5          1\n",
       "5.5          1\n",
       "9+           1\n",
       "8            1\n",
       "6            1\n",
       "Name: listing_bathrooms, dtype: int64"
      ]
     },
     "execution_count": 79,
     "metadata": {},
     "output_type": "execute_result"
    }
   ],
   "source": [
    "df['listing_bathrooms'].value_counts()"
   ]
  },
  {
   "cell_type": "code",
   "execution_count": 80,
   "metadata": {
    "collapsed": false
   },
   "outputs": [
    {
     "name": "stderr",
     "output_type": "stream",
     "text": [
      "/Users/pandabear/anaconda/lib/python3.6/site-packages/ipykernel/__main__.py:2: SettingWithCopyWarning: \n",
      "A value is trying to be set on a copy of a slice from a DataFrame\n",
      "\n",
      "See the caveats in the documentation: http://pandas.pydata.org/pandas-docs/stable/indexing.html#indexing-view-versus-copy\n",
      "  from ipykernel import kernelapp as app\n",
      "/Users/pandabear/anaconda/lib/python3.6/site-packages/ipykernel/__main__.py:6: SettingWithCopyWarning: \n",
      "A value is trying to be set on a copy of a slice from a DataFrame\n",
      "\n",
      "See the caveats in the documentation: http://pandas.pydata.org/pandas-docs/stable/indexing.html#indexing-view-versus-copy\n"
     ]
    }
   ],
   "source": [
    "# 1 split bathroom is the same as 1 bathroom, so convert 'split' to type '1'\n",
    "df['listing_bathrooms'][df['listing_bathrooms'] == 'split'] = '1'\n",
    "\n",
    "# Since these are the only inputs for bathroom in the craigslist UI, lump all bathrooms > 3 into a single type '3+'\n",
    "extra_bath = ['4','4.5','5','5.5','6','6.5','7','7.5','8','8.5','9+']\n",
    "df['listing_bathrooms'][df['listing_bathrooms'].isin(extra_bath)] = '4+'"
   ]
  },
  {
   "cell_type": "code",
   "execution_count": 81,
   "metadata": {
    "collapsed": false
   },
   "outputs": [
    {
     "data": {
      "text/plain": [
       "1         5006\n",
       "2         1845\n",
       "1.5        361\n",
       "2.5        325\n",
       "3          269\n",
       "3.5         69\n",
       "shared      66\n",
       "4+          60\n",
       "Name: listing_bathrooms, dtype: int64"
      ]
     },
     "execution_count": 81,
     "metadata": {},
     "output_type": "execute_result"
    }
   ],
   "source": [
    "df['listing_bathrooms'].value_counts()"
   ]
  },
  {
   "cell_type": "code",
   "execution_count": 82,
   "metadata": {
    "collapsed": false
   },
   "outputs": [
    {
     "data": {
      "text/plain": [
       "<matplotlib.text.Text at 0x7fee6f5e2a20>"
      ]
     },
     "execution_count": 82,
     "metadata": {},
     "output_type": "execute_result"
    },
    {
     "data": {
      "image/png": "[encoded data removed]",
      "text/plain": [
       "<matplotlib.figure.Figure at 0x7fee70e260b8>"
      ]
     },
     "metadata": {},
     "output_type": "display_data"
    }
   ],
   "source": [
    "df['listing_bathrooms'].value_counts().sort_index().plot(kind='bar')\n",
    "plt.xlabel('Number of bathrooms')\n",
    "plt.ylabel('Count')\n",
    "plt.title('Distribution of bathrooms across craigslist listings')"
   ]
  },
  {
   "cell_type": "code",
   "execution_count": 83,
   "metadata": {
    "collapsed": false
   },
   "outputs": [
    {
     "name": "stderr",
     "output_type": "stream",
     "text": [
      "/Users/pandabear/anaconda/lib/python3.6/site-packages/ipykernel/__main__.py:4: SettingWithCopyWarning: \n",
      "A value is trying to be set on a copy of a slice from a DataFrame\n",
      "\n",
      "See the caveats in the documentation: http://pandas.pydata.org/pandas-docs/stable/indexing.html#indexing-view-versus-copy\n"
     ]
    },
    {
     "data": {
      "text/plain": [
       "2     2704\n",
       "1     2657\n",
       "3     1236\n",
       "0      778\n",
       "4      491\n",
       "5      100\n",
       "6+      35\n",
       "Name: listing_bedrooms, dtype: int64"
      ]
     },
     "execution_count": 83,
     "metadata": {},
     "output_type": "execute_result"
    }
   ],
   "source": [
    "# Lump all bedrooms >= 6 into a single type '6+'\n",
    "extra_bed = ['6', '7', '8']\n",
    "df['listing_bedrooms'] = df['listing_bedrooms'].astype('str')\n",
    "df['listing_bedrooms'][df['listing_bedrooms'].isin(extra_bed)] = '6+'\n",
    "df['listing_bedrooms'].value_counts()"
   ]
  },
  {
   "cell_type": "code",
   "execution_count": 84,
   "metadata": {
    "collapsed": false
   },
   "outputs": [
    {
     "data": {
      "text/plain": [
       "<matplotlib.text.Text at 0x7fee795754e0>"
      ]
     },
     "execution_count": 84,
     "metadata": {},
     "output_type": "execute_result"
    },
    {
     "data": {
      "image/png": "[encoded data removed]",
      "text/plain": [
       "<matplotlib.figure.Figure at 0x7fee795644e0>"
      ]
     },
     "metadata": {},
     "output_type": "display_data"
    }
   ],
   "source": [
    "# Look at distributions of number of bedroom data\n",
    "df['listing_bedrooms'].value_counts().sort_index().plot(kind='bar')\n",
    "plt.xlabel('Number of bedrooms')\n",
    "plt.ylabel('Count')\n",
    "plt.title('Distribution of bedrooms across craigslist listings')"
   ]
  },
  {
   "cell_type": "code",
   "execution_count": 85,
   "metadata": {
    "collapsed": false
   },
   "outputs": [],
   "source": [
    "df['listing_sqft'].describe()\n",
    "# Drop sqft values that are too small or too big (the 94103 is clearly a zip code)\n",
    "sqft_min = 200\n",
    "sqft_max = 30000\n",
    "df = df.loc[(df.listing_sqft > sqft_min) & (df.listing_sqft < sqft_max)]"
   ]
  },
  {
   "cell_type": "code",
   "execution_count": 86,
   "metadata": {
    "collapsed": false
   },
   "outputs": [],
   "source": [
    "# df['listing_sqft'].describe()"
   ]
  },
  {
   "cell_type": "code",
   "execution_count": 87,
   "metadata": {
    "collapsed": false
   },
   "outputs": [
    {
     "name": "stderr",
     "output_type": "stream",
     "text": [
      "/Users/pandabear/anaconda/lib/python3.6/site-packages/ipykernel/__main__.py:2: SettingWithCopyWarning: \n",
      "A value is trying to be set on a copy of a slice from a DataFrame.\n",
      "Try using .loc[row_indexer,col_indexer] = value instead\n",
      "\n",
      "See the caveats in the documentation: http://pandas.pydata.org/pandas-docs/stable/indexing.html#indexing-view-versus-copy\n",
      "  from ipykernel import kernelapp as app\n"
     ]
    }
   ],
   "source": [
    "# Convert listing_info from string of values to a list of values\n",
    "df['listing_info_split'] = df['listing_info'].apply(lambda x: x.strip().split(\"  \"))"
   ]
  },
  {
   "cell_type": "code",
   "execution_count": 88,
   "metadata": {
    "collapsed": false
   },
   "outputs": [
    {
     "name": "stderr",
     "output_type": "stream",
     "text": [
      "/Users/pandabear/anaconda/lib/python3.6/site-packages/ipykernel/__main__.py:2: SettingWithCopyWarning: \n",
      "A value is trying to be set on a copy of a slice from a DataFrame.\n",
      "Try using .loc[row_indexer,col_indexer] = value instead\n",
      "\n",
      "See the caveats in the documentation: http://pandas.pydata.org/pandas-docs/stable/indexing.html#indexing-view-versus-copy\n",
      "  from ipykernel import kernelapp as app\n"
     ]
    }
   ],
   "source": [
    "for target_info, column in LISTING_INFO_TO_COLUMN.items():\n",
    "    df[column] = df['listing_info_split'].apply(lambda x: get_listing_info_feature(x, target_info))"
   ]
  },
  {
   "cell_type": "code",
   "execution_count": 89,
   "metadata": {
    "collapsed": false
   },
   "outputs": [
    {
     "data": {
      "text/html": [
       "<div>\n",
       "<table border=\"1\" class=\"dataframe\">\n",
       "  <thead>\n",
       "    <tr style=\"text-align: right;\">\n",
       "      <th></th>\n",
       "      <th>listing_address</th>\n",
       "      <th>listing_bathrooms</th>\n",
       "      <th>listing_bedrooms</th>\n",
       "      <th>listing_body</th>\n",
       "      <th>listing_city</th>\n",
       "      <th>listing_date</th>\n",
       "      <th>listing_first_image</th>\n",
       "      <th>listing_info</th>\n",
       "      <th>listing_nh</th>\n",
       "      <th>listing_price</th>\n",
       "      <th>...</th>\n",
       "      <th>rent_period_weekly</th>\n",
       "      <th>rent_period_monthly</th>\n",
       "      <th>housing_condo</th>\n",
       "      <th>housing_apt</th>\n",
       "      <th>housing_cottage</th>\n",
       "      <th>housing_duplex</th>\n",
       "      <th>housing_flat</th>\n",
       "      <th>housing_house</th>\n",
       "      <th>housing_inlaw</th>\n",
       "      <th>housing_townhouse</th>\n",
       "    </tr>\n",
       "    <tr>\n",
       "      <th>listing_id</th>\n",
       "      <th></th>\n",
       "      <th></th>\n",
       "      <th></th>\n",
       "      <th></th>\n",
       "      <th></th>\n",
       "      <th></th>\n",
       "      <th></th>\n",
       "      <th></th>\n",
       "      <th></th>\n",
       "      <th></th>\n",
       "      <th></th>\n",
       "      <th></th>\n",
       "      <th></th>\n",
       "      <th></th>\n",
       "      <th></th>\n",
       "      <th></th>\n",
       "      <th></th>\n",
       "      <th></th>\n",
       "      <th></th>\n",
       "      <th></th>\n",
       "      <th></th>\n",
       "    </tr>\n",
       "  </thead>\n",
       "  <tbody>\n",
       "    <tr>\n",
       "      <th>7520722195</th>\n",
       "      <td>562 29th Street</td>\n",
       "      <td>1</td>\n",
       "      <td>2</td>\n",
       "      <td>Capture The Charm, Love The Space, Live The ...</td>\n",
       "      <td>Oakland</td>\n",
       "      <td>2022-08-13 00:17:07</td>\n",
       "      <td>https://images.craigslist.org/00f0f_6WN3vHUujM...</td>\n",
       "      <td>cats are OK - purrr  dogs are OK - wooof  con...</td>\n",
       "      <td>oakland east</td>\n",
       "      <td>2660</td>\n",
       "      <td>...</td>\n",
       "      <td>0</td>\n",
       "      <td>1</td>\n",
       "      <td>1</td>\n",
       "      <td>0</td>\n",
       "      <td>0</td>\n",
       "      <td>0</td>\n",
       "      <td>0</td>\n",
       "      <td>0</td>\n",
       "      <td>0</td>\n",
       "      <td>0</td>\n",
       "    </tr>\n",
       "    <tr>\n",
       "      <th>7520103440</th>\n",
       "      <td>Newport Dr</td>\n",
       "      <td>2</td>\n",
       "      <td>3</td>\n",
       "      <td>Great location 3 Bed 2 Bath Single Family Hous...</td>\n",
       "      <td>Fremont</td>\n",
       "      <td>2022-08-11 16:51:58</td>\n",
       "      <td>https://images.craigslist.org/00C0C_iEcKsVmzdg...</td>\n",
       "      <td>open house dates   saturday 2022-08-13    sun...</td>\n",
       "      <td>fremont / union city / newark</td>\n",
       "      <td>3800</td>\n",
       "      <td>...</td>\n",
       "      <td>0</td>\n",
       "      <td>0</td>\n",
       "      <td>0</td>\n",
       "      <td>0</td>\n",
       "      <td>0</td>\n",
       "      <td>0</td>\n",
       "      <td>0</td>\n",
       "      <td>0</td>\n",
       "      <td>0</td>\n",
       "      <td>0</td>\n",
       "    </tr>\n",
       "    <tr>\n",
       "      <th>7514395720</th>\n",
       "      <td>3051 Adeline #E near Essex</td>\n",
       "      <td>1</td>\n",
       "      <td>1</td>\n",
       "      <td>OFFICE USE ONLY  Italian tile floors  Priced f...</td>\n",
       "      <td>Berkeley</td>\n",
       "      <td>2022-07-28 15:02:39</td>\n",
       "      <td>https://images.craigslist.org/00S0S_esApZyWjnu...</td>\n",
       "      <td>open house dates   saturday 2022-08-13    sun...</td>\n",
       "      <td>berkeley</td>\n",
       "      <td>1595</td>\n",
       "      <td>...</td>\n",
       "      <td>0</td>\n",
       "      <td>0</td>\n",
       "      <td>0</td>\n",
       "      <td>0</td>\n",
       "      <td>0</td>\n",
       "      <td>0</td>\n",
       "      <td>0</td>\n",
       "      <td>0</td>\n",
       "      <td>0</td>\n",
       "      <td>0</td>\n",
       "    </tr>\n",
       "    <tr>\n",
       "      <th>7520675660</th>\n",
       "      <td>Gateway Drive near Griffin Drive</td>\n",
       "      <td>1</td>\n",
       "      <td>1</td>\n",
       "      <td>Great ADU Newly Remodeled! New Everything! V...</td>\n",
       "      <td>Vallejo</td>\n",
       "      <td>2022-08-12 22:07:04</td>\n",
       "      <td>https://images.craigslist.org/00G0G_h0W8q8v9Py...</td>\n",
       "      <td>apartment  no laundry on site  no smoking  of...</td>\n",
       "      <td>vallejo / benicia</td>\n",
       "      <td>1650</td>\n",
       "      <td>...</td>\n",
       "      <td>0</td>\n",
       "      <td>1</td>\n",
       "      <td>0</td>\n",
       "      <td>1</td>\n",
       "      <td>0</td>\n",
       "      <td>0</td>\n",
       "      <td>0</td>\n",
       "      <td>0</td>\n",
       "      <td>0</td>\n",
       "      <td>0</td>\n",
       "    </tr>\n",
       "    <tr>\n",
       "      <th>7520606430</th>\n",
       "      <td>Kensington near Elm</td>\n",
       "      <td>1</td>\n",
       "      <td>1</td>\n",
       "      <td>Newly remodeled , with a big Kitchen , Bathroo...</td>\n",
       "      <td>East Richmond Heights ( hills neighborho</td>\n",
       "      <td>2022-08-12 19:31:17</td>\n",
       "      <td>https://images.craigslist.org/00n0n_9HaJCX8cT7...</td>\n",
       "      <td>cats are OK - purrr  cottage/cabin  laundry o...</td>\n",
       "      <td>richmond / point / annex</td>\n",
       "      <td>1795</td>\n",
       "      <td>...</td>\n",
       "      <td>0</td>\n",
       "      <td>1</td>\n",
       "      <td>0</td>\n",
       "      <td>0</td>\n",
       "      <td>1</td>\n",
       "      <td>0</td>\n",
       "      <td>0</td>\n",
       "      <td>0</td>\n",
       "      <td>0</td>\n",
       "      <td>0</td>\n",
       "    </tr>\n",
       "  </tbody>\n",
       "</table>\n",
       "<p>5 rows × 44 columns</p>\n",
       "</div>"
      ],
      "text/plain": [
       "                             listing_address listing_bathrooms  \\\n",
       "listing_id                                                       \n",
       "7520722195                   562 29th Street                 1   \n",
       "7520103440                        Newport Dr                 2   \n",
       "7514395720        3051 Adeline #E near Essex                 1   \n",
       "7520675660  Gateway Drive near Griffin Drive                 1   \n",
       "7520606430               Kensington near Elm                 1   \n",
       "\n",
       "           listing_bedrooms  \\\n",
       "listing_id                    \n",
       "7520722195                2   \n",
       "7520103440                3   \n",
       "7514395720                1   \n",
       "7520675660                1   \n",
       "7520606430                1   \n",
       "\n",
       "                                                 listing_body  \\\n",
       "listing_id                                                      \n",
       "7520722195    Capture The Charm, Love The Space, Live The ...   \n",
       "7520103440  Great location 3 Bed 2 Bath Single Family Hous...   \n",
       "7514395720  OFFICE USE ONLY  Italian tile floors  Priced f...   \n",
       "7520675660    Great ADU Newly Remodeled! New Everything! V...   \n",
       "7520606430  Newly remodeled , with a big Kitchen , Bathroo...   \n",
       "\n",
       "                                        listing_city        listing_date  \\\n",
       "listing_id                                                                 \n",
       "7520722195                                   Oakland 2022-08-13 00:17:07   \n",
       "7520103440                                   Fremont 2022-08-11 16:51:58   \n",
       "7514395720                                  Berkeley 2022-07-28 15:02:39   \n",
       "7520675660                                   Vallejo 2022-08-12 22:07:04   \n",
       "7520606430  East Richmond Heights ( hills neighborho 2022-08-12 19:31:17   \n",
       "\n",
       "                                          listing_first_image  \\\n",
       "listing_id                                                      \n",
       "7520722195  https://images.craigslist.org/00f0f_6WN3vHUujM...   \n",
       "7520103440  https://images.craigslist.org/00C0C_iEcKsVmzdg...   \n",
       "7514395720  https://images.craigslist.org/00S0S_esApZyWjnu...   \n",
       "7520675660  https://images.craigslist.org/00G0G_h0W8q8v9Py...   \n",
       "7520606430  https://images.craigslist.org/00n0n_9HaJCX8cT7...   \n",
       "\n",
       "                                                 listing_info  \\\n",
       "listing_id                                                      \n",
       "7520722195   cats are OK - purrr  dogs are OK - wooof  con...   \n",
       "7520103440   open house dates   saturday 2022-08-13    sun...   \n",
       "7514395720   open house dates   saturday 2022-08-13    sun...   \n",
       "7520675660   apartment  no laundry on site  no smoking  of...   \n",
       "7520606430   cats are OK - purrr  cottage/cabin  laundry o...   \n",
       "\n",
       "                               listing_nh  listing_price        ...          \\\n",
       "listing_id                                                      ...           \n",
       "7520722195                   oakland east           2660        ...           \n",
       "7520103440  fremont / union city / newark           3800        ...           \n",
       "7514395720                       berkeley           1595        ...           \n",
       "7520675660              vallejo / benicia           1650        ...           \n",
       "7520606430       richmond / point / annex           1795        ...           \n",
       "\n",
       "            rent_period_weekly rent_period_monthly housing_condo housing_apt  \\\n",
       "listing_id                                                                     \n",
       "7520722195                   0                   1             1           0   \n",
       "7520103440                   0                   0             0           0   \n",
       "7514395720                   0                   0             0           0   \n",
       "7520675660                   0                   1             0           1   \n",
       "7520606430                   0                   1             0           0   \n",
       "\n",
       "            housing_cottage  housing_duplex  housing_flat  housing_house  \\\n",
       "listing_id                                                                 \n",
       "7520722195                0               0             0              0   \n",
       "7520103440                0               0             0              0   \n",
       "7514395720                0               0             0              0   \n",
       "7520675660                0               0             0              0   \n",
       "7520606430                1               0             0              0   \n",
       "\n",
       "            housing_inlaw  housing_townhouse  \n",
       "listing_id                                    \n",
       "7520722195              0                  0  \n",
       "7520103440              0                  0  \n",
       "7514395720              0                  0  \n",
       "7520675660              0                  0  \n",
       "7520606430              0                  0  \n",
       "\n",
       "[5 rows x 44 columns]"
      ]
     },
     "execution_count": 89,
     "metadata": {},
     "output_type": "execute_result"
    }
   ],
   "source": [
    "df.head()"
   ]
  },
  {
   "cell_type": "code",
   "execution_count": 90,
   "metadata": {
    "collapsed": false
   },
   "outputs": [
    {
     "name": "stderr",
     "output_type": "stream",
     "text": [
      "/Users/pandabear/anaconda/lib/python3.6/site-packages/ipykernel/__main__.py:1: SettingWithCopyWarning: \n",
      "A value is trying to be set on a copy of a slice from a DataFrame.\n",
      "Try using .loc[row_indexer,col_indexer] = value instead\n",
      "\n",
      "See the caveats in the documentation: http://pandas.pydata.org/pandas-docs/stable/indexing.html#indexing-view-versus-copy\n",
      "  if __name__ == '__main__':\n",
      "/Users/pandabear/anaconda/lib/python3.6/site-packages/ipykernel/__main__.py:2: SettingWithCopyWarning: \n",
      "A value is trying to be set on a copy of a slice from a DataFrame.\n",
      "Try using .loc[row_indexer,col_indexer] = value instead\n",
      "\n",
      "See the caveats in the documentation: http://pandas.pydata.org/pandas-docs/stable/indexing.html#indexing-view-versus-copy\n",
      "  from ipykernel import kernelapp as app\n",
      "/Users/pandabear/anaconda/lib/python3.6/site-packages/ipykernel/__main__.py:10: SettingWithCopyWarning: \n",
      "A value is trying to be set on a copy of a slice from a DataFrame.\n",
      "Try using .loc[row_indexer,col_indexer] = value instead\n",
      "\n",
      "See the caveats in the documentation: http://pandas.pydata.org/pandas-docs/stable/indexing.html#indexing-view-versus-copy\n"
     ]
    }
   ],
   "source": [
    "df['listing_city'] = df['listing_city'].apply(lambda x: x.title())\n",
    "df['listing_city'] = df['listing_city'].apply(lambda x: clean_city(x))\n",
    "df['listing_city'].value_counts()\n",
    "\n",
    "# Get index of cities that occur less than 5 times (these are typos or errors)\n",
    "x = df['listing_city'].value_counts()\n",
    "city_to_drop = list((x[x < 5]).index)\n",
    "\n",
    "# Drop city values that are lower than a value count of 2\n",
    "df['listing_city'] = df['listing_city'].apply(lambda x: None if x in city_to_drop else x)"
   ]
  },
  {
   "cell_type": "code",
   "execution_count": 107,
   "metadata": {
    "collapsed": false
   },
   "outputs": [
    {
     "data": {
      "text/plain": [
       "San Francisco    1472\n",
       "Oakland           751\n",
       "Berkeley          260\n",
       "Fremont           153\n",
       "Palo Alto         141\n",
       "Name: listing_city, dtype: int64"
      ]
     },
     "execution_count": 107,
     "metadata": {},
     "output_type": "execute_result"
    }
   ],
   "source": [
    "df['listing_city'].value_counts().head()"
   ]
  },
  {
   "cell_type": "code",
   "execution_count": 98,
   "metadata": {
    "collapsed": false
   },
   "outputs": [],
   "source": [
    "# If a listing has a neighborhood tag, cross reference it with the listing_city to make sure it is in the correct city, otherwise remove from df\n",
    "df['is_consistent_metro'] = df.apply(lambda x: correct_metro(x['listing_nh'], x['listing_city']), axis=1)\n",
    "df = df[df['is_consistent_metro'] == True]\n",
    "df.is_copy = False"
   ]
  },
  {
   "cell_type": "code",
   "execution_count": 93,
   "metadata": {
    "collapsed": false
   },
   "outputs": [
    {
     "data": {
      "text/html": [
       "<div>\n",
       "<table border=\"1\" class=\"dataframe\">\n",
       "  <thead>\n",
       "    <tr style=\"text-align: right;\">\n",
       "      <th></th>\n",
       "      <th>count</th>\n",
       "      <th>%</th>\n",
       "    </tr>\n",
       "  </thead>\n",
       "  <tbody>\n",
       "    <tr>\n",
       "      <th>listing_address</th>\n",
       "      <td>178</td>\n",
       "      <td>3.768791</td>\n",
       "    </tr>\n",
       "    <tr>\n",
       "      <th>laundry_has_hookup</th>\n",
       "      <td>0</td>\n",
       "      <td>0.000000</td>\n",
       "    </tr>\n",
       "    <tr>\n",
       "      <th>laundry_not_onsite</th>\n",
       "      <td>0</td>\n",
       "      <td>0.000000</td>\n",
       "    </tr>\n",
       "    <tr>\n",
       "      <th>parking_carport</th>\n",
       "      <td>0</td>\n",
       "      <td>0.000000</td>\n",
       "    </tr>\n",
       "    <tr>\n",
       "      <th>parking_attached_garage</th>\n",
       "      <td>0</td>\n",
       "      <td>0.000000</td>\n",
       "    </tr>\n",
       "    <tr>\n",
       "      <th>parking_detached_garage</th>\n",
       "      <td>0</td>\n",
       "      <td>0.000000</td>\n",
       "    </tr>\n",
       "    <tr>\n",
       "      <th>parking_offstreet</th>\n",
       "      <td>0</td>\n",
       "      <td>0.000000</td>\n",
       "    </tr>\n",
       "    <tr>\n",
       "      <th>parking_street</th>\n",
       "      <td>0</td>\n",
       "      <td>0.000000</td>\n",
       "    </tr>\n",
       "    <tr>\n",
       "      <th>parking_valet</th>\n",
       "      <td>0</td>\n",
       "      <td>0.000000</td>\n",
       "    </tr>\n",
       "    <tr>\n",
       "      <th>parking_none</th>\n",
       "      <td>0</td>\n",
       "      <td>0.000000</td>\n",
       "    </tr>\n",
       "    <tr>\n",
       "      <th>rent_period_daily</th>\n",
       "      <td>0</td>\n",
       "      <td>0.000000</td>\n",
       "    </tr>\n",
       "    <tr>\n",
       "      <th>rent_period_weekly</th>\n",
       "      <td>0</td>\n",
       "      <td>0.000000</td>\n",
       "    </tr>\n",
       "    <tr>\n",
       "      <th>rent_period_monthly</th>\n",
       "      <td>0</td>\n",
       "      <td>0.000000</td>\n",
       "    </tr>\n",
       "    <tr>\n",
       "      <th>housing_condo</th>\n",
       "      <td>0</td>\n",
       "      <td>0.000000</td>\n",
       "    </tr>\n",
       "    <tr>\n",
       "      <th>housing_apt</th>\n",
       "      <td>0</td>\n",
       "      <td>0.000000</td>\n",
       "    </tr>\n",
       "    <tr>\n",
       "      <th>housing_cottage</th>\n",
       "      <td>0</td>\n",
       "      <td>0.000000</td>\n",
       "    </tr>\n",
       "    <tr>\n",
       "      <th>housing_duplex</th>\n",
       "      <td>0</td>\n",
       "      <td>0.000000</td>\n",
       "    </tr>\n",
       "    <tr>\n",
       "      <th>housing_flat</th>\n",
       "      <td>0</td>\n",
       "      <td>0.000000</td>\n",
       "    </tr>\n",
       "    <tr>\n",
       "      <th>housing_house</th>\n",
       "      <td>0</td>\n",
       "      <td>0.000000</td>\n",
       "    </tr>\n",
       "    <tr>\n",
       "      <th>housing_inlaw</th>\n",
       "      <td>0</td>\n",
       "      <td>0.000000</td>\n",
       "    </tr>\n",
       "    <tr>\n",
       "      <th>housing_townhouse</th>\n",
       "      <td>0</td>\n",
       "      <td>0.000000</td>\n",
       "    </tr>\n",
       "    <tr>\n",
       "      <th>laundry_onsite</th>\n",
       "      <td>0</td>\n",
       "      <td>0.000000</td>\n",
       "    </tr>\n",
       "    <tr>\n",
       "      <th>laundry_in_unit</th>\n",
       "      <td>0</td>\n",
       "      <td>0.000000</td>\n",
       "    </tr>\n",
       "    <tr>\n",
       "      <th>listing_bathrooms</th>\n",
       "      <td>0</td>\n",
       "      <td>0.000000</td>\n",
       "    </tr>\n",
       "    <tr>\n",
       "      <th>laundry_in_bldg</th>\n",
       "      <td>0</td>\n",
       "      <td>0.000000</td>\n",
       "    </tr>\n",
       "    <tr>\n",
       "      <th>listing_bedrooms</th>\n",
       "      <td>0</td>\n",
       "      <td>0.000000</td>\n",
       "    </tr>\n",
       "    <tr>\n",
       "      <th>listing_body</th>\n",
       "      <td>0</td>\n",
       "      <td>0.000000</td>\n",
       "    </tr>\n",
       "    <tr>\n",
       "      <th>listing_city</th>\n",
       "      <td>0</td>\n",
       "      <td>0.000000</td>\n",
       "    </tr>\n",
       "    <tr>\n",
       "      <th>listing_date</th>\n",
       "      <td>0</td>\n",
       "      <td>0.000000</td>\n",
       "    </tr>\n",
       "    <tr>\n",
       "      <th>listing_first_image</th>\n",
       "      <td>0</td>\n",
       "      <td>0.000000</td>\n",
       "    </tr>\n",
       "    <tr>\n",
       "      <th>listing_info</th>\n",
       "      <td>0</td>\n",
       "      <td>0.000000</td>\n",
       "    </tr>\n",
       "    <tr>\n",
       "      <th>listing_nh</th>\n",
       "      <td>0</td>\n",
       "      <td>0.000000</td>\n",
       "    </tr>\n",
       "    <tr>\n",
       "      <th>listing_price</th>\n",
       "      <td>0</td>\n",
       "      <td>0.000000</td>\n",
       "    </tr>\n",
       "    <tr>\n",
       "      <th>listing_sqft</th>\n",
       "      <td>0</td>\n",
       "      <td>0.000000</td>\n",
       "    </tr>\n",
       "    <tr>\n",
       "      <th>listing_title</th>\n",
       "      <td>0</td>\n",
       "      <td>0.000000</td>\n",
       "    </tr>\n",
       "    <tr>\n",
       "      <th>listing_url</th>\n",
       "      <td>0</td>\n",
       "      <td>0.000000</td>\n",
       "    </tr>\n",
       "    <tr>\n",
       "      <th>listing_info_split</th>\n",
       "      <td>0</td>\n",
       "      <td>0.000000</td>\n",
       "    </tr>\n",
       "    <tr>\n",
       "      <th>animals_cats</th>\n",
       "      <td>0</td>\n",
       "      <td>0.000000</td>\n",
       "    </tr>\n",
       "    <tr>\n",
       "      <th>animals_dogs</th>\n",
       "      <td>0</td>\n",
       "      <td>0.000000</td>\n",
       "    </tr>\n",
       "    <tr>\n",
       "      <th>furnished</th>\n",
       "      <td>0</td>\n",
       "      <td>0.000000</td>\n",
       "    </tr>\n",
       "    <tr>\n",
       "      <th>smoking</th>\n",
       "      <td>0</td>\n",
       "      <td>0.000000</td>\n",
       "    </tr>\n",
       "    <tr>\n",
       "      <th>wheelchair accessible</th>\n",
       "      <td>0</td>\n",
       "      <td>0.000000</td>\n",
       "    </tr>\n",
       "    <tr>\n",
       "      <th>has_AC</th>\n",
       "      <td>0</td>\n",
       "      <td>0.000000</td>\n",
       "    </tr>\n",
       "    <tr>\n",
       "      <th>hasEVCharging</th>\n",
       "      <td>0</td>\n",
       "      <td>0.000000</td>\n",
       "    </tr>\n",
       "    <tr>\n",
       "      <th>is_consistent_metro</th>\n",
       "      <td>0</td>\n",
       "      <td>0.000000</td>\n",
       "    </tr>\n",
       "  </tbody>\n",
       "</table>\n",
       "</div>"
      ],
      "text/plain": [
       "                         count         %\n",
       "listing_address            178  3.768791\n",
       "laundry_has_hookup           0  0.000000\n",
       "laundry_not_onsite           0  0.000000\n",
       "parking_carport              0  0.000000\n",
       "parking_attached_garage      0  0.000000\n",
       "parking_detached_garage      0  0.000000\n",
       "parking_offstreet            0  0.000000\n",
       "parking_street               0  0.000000\n",
       "parking_valet                0  0.000000\n",
       "parking_none                 0  0.000000\n",
       "rent_period_daily            0  0.000000\n",
       "rent_period_weekly           0  0.000000\n",
       "rent_period_monthly          0  0.000000\n",
       "housing_condo                0  0.000000\n",
       "housing_apt                  0  0.000000\n",
       "housing_cottage              0  0.000000\n",
       "housing_duplex               0  0.000000\n",
       "housing_flat                 0  0.000000\n",
       "housing_house                0  0.000000\n",
       "housing_inlaw                0  0.000000\n",
       "housing_townhouse            0  0.000000\n",
       "laundry_onsite               0  0.000000\n",
       "laundry_in_unit              0  0.000000\n",
       "listing_bathrooms            0  0.000000\n",
       "laundry_in_bldg              0  0.000000\n",
       "listing_bedrooms             0  0.000000\n",
       "listing_body                 0  0.000000\n",
       "listing_city                 0  0.000000\n",
       "listing_date                 0  0.000000\n",
       "listing_first_image          0  0.000000\n",
       "listing_info                 0  0.000000\n",
       "listing_nh                   0  0.000000\n",
       "listing_price                0  0.000000\n",
       "listing_sqft                 0  0.000000\n",
       "listing_title                0  0.000000\n",
       "listing_url                  0  0.000000\n",
       "listing_info_split           0  0.000000\n",
       "animals_cats                 0  0.000000\n",
       "animals_dogs                 0  0.000000\n",
       "furnished                    0  0.000000\n",
       "smoking                      0  0.000000\n",
       "wheelchair accessible        0  0.000000\n",
       "has_AC                       0  0.000000\n",
       "hasEVCharging                0  0.000000\n",
       "is_consistent_metro          0  0.000000"
      ]
     },
     "execution_count": 93,
     "metadata": {},
     "output_type": "execute_result"
    }
   ],
   "source": [
    "# Missing values in numeric columns\n",
    "missing = pd.concat([df.isnull().sum(), 100 * df.isnull().mean()], axis=1)\n",
    "missing.columns=['count', '%']\n",
    "missing.sort_values(by='count',ascending=False)"
   ]
  },
  {
   "cell_type": "code",
   "execution_count": 94,
   "metadata": {
    "collapsed": false
   },
   "outputs": [],
   "source": [
    "for target_word, column_name in LISTING_BODY_TO_COLUMN.items():\n",
    "    df[column_name] = df['listing_body'].apply(lambda x: parse_listing_body(x, target_word))"
   ]
  },
  {
   "cell_type": "code",
   "execution_count": 95,
   "metadata": {
    "collapsed": false
   },
   "outputs": [
    {
     "data": {
      "text/html": [
       "<div>\n",
       "<table border=\"1\" class=\"dataframe\">\n",
       "  <thead>\n",
       "    <tr style=\"text-align: right;\">\n",
       "      <th></th>\n",
       "      <th>listing_address</th>\n",
       "      <th>listing_bathrooms</th>\n",
       "      <th>listing_bedrooms</th>\n",
       "      <th>listing_body</th>\n",
       "      <th>listing_city</th>\n",
       "      <th>listing_date</th>\n",
       "      <th>listing_first_image</th>\n",
       "      <th>listing_info</th>\n",
       "      <th>listing_nh</th>\n",
       "      <th>listing_price</th>\n",
       "      <th>...</th>\n",
       "      <th>housing_duplex</th>\n",
       "      <th>housing_flat</th>\n",
       "      <th>housing_house</th>\n",
       "      <th>housing_inlaw</th>\n",
       "      <th>housing_townhouse</th>\n",
       "      <th>is_consistent_metro</th>\n",
       "      <th>is_rent_controlled</th>\n",
       "      <th>pets_allowed</th>\n",
       "      <th>is_remodelled</th>\n",
       "      <th>has_amenities</th>\n",
       "    </tr>\n",
       "    <tr>\n",
       "      <th>listing_id</th>\n",
       "      <th></th>\n",
       "      <th></th>\n",
       "      <th></th>\n",
       "      <th></th>\n",
       "      <th></th>\n",
       "      <th></th>\n",
       "      <th></th>\n",
       "      <th></th>\n",
       "      <th></th>\n",
       "      <th></th>\n",
       "      <th></th>\n",
       "      <th></th>\n",
       "      <th></th>\n",
       "      <th></th>\n",
       "      <th></th>\n",
       "      <th></th>\n",
       "      <th></th>\n",
       "      <th></th>\n",
       "      <th></th>\n",
       "      <th></th>\n",
       "      <th></th>\n",
       "    </tr>\n",
       "  </thead>\n",
       "  <tbody>\n",
       "    <tr>\n",
       "      <th>7520722195</th>\n",
       "      <td>562 29th Street</td>\n",
       "      <td>1</td>\n",
       "      <td>2</td>\n",
       "      <td>Capture The Charm, Love The Space, Live The ...</td>\n",
       "      <td>Oakland</td>\n",
       "      <td>2022-08-13 00:17:07</td>\n",
       "      <td>https://images.craigslist.org/00f0f_6WN3vHUujM...</td>\n",
       "      <td>cats are OK - purrr  dogs are OK - wooof  con...</td>\n",
       "      <td>oakland east</td>\n",
       "      <td>2660</td>\n",
       "      <td>...</td>\n",
       "      <td>0</td>\n",
       "      <td>0</td>\n",
       "      <td>0</td>\n",
       "      <td>0</td>\n",
       "      <td>0</td>\n",
       "      <td>True</td>\n",
       "      <td>0</td>\n",
       "      <td>0</td>\n",
       "      <td>0</td>\n",
       "      <td>1</td>\n",
       "    </tr>\n",
       "    <tr>\n",
       "      <th>7520103440</th>\n",
       "      <td>Newport Dr</td>\n",
       "      <td>2</td>\n",
       "      <td>3</td>\n",
       "      <td>Great location 3 Bed 2 Bath Single Family Hous...</td>\n",
       "      <td>Fremont</td>\n",
       "      <td>2022-08-11 16:51:58</td>\n",
       "      <td>https://images.craigslist.org/00C0C_iEcKsVmzdg...</td>\n",
       "      <td>open house dates   saturday 2022-08-13    sun...</td>\n",
       "      <td>fremont / union city / newark</td>\n",
       "      <td>3800</td>\n",
       "      <td>...</td>\n",
       "      <td>0</td>\n",
       "      <td>0</td>\n",
       "      <td>0</td>\n",
       "      <td>0</td>\n",
       "      <td>0</td>\n",
       "      <td>True</td>\n",
       "      <td>0</td>\n",
       "      <td>0</td>\n",
       "      <td>0</td>\n",
       "      <td>0</td>\n",
       "    </tr>\n",
       "    <tr>\n",
       "      <th>7514395720</th>\n",
       "      <td>3051 Adeline #E near Essex</td>\n",
       "      <td>1</td>\n",
       "      <td>1</td>\n",
       "      <td>OFFICE USE ONLY  Italian tile floors  Priced f...</td>\n",
       "      <td>Berkeley</td>\n",
       "      <td>2022-07-28 15:02:39</td>\n",
       "      <td>https://images.craigslist.org/00S0S_esApZyWjnu...</td>\n",
       "      <td>open house dates   saturday 2022-08-13    sun...</td>\n",
       "      <td>berkeley</td>\n",
       "      <td>1595</td>\n",
       "      <td>...</td>\n",
       "      <td>0</td>\n",
       "      <td>0</td>\n",
       "      <td>0</td>\n",
       "      <td>0</td>\n",
       "      <td>0</td>\n",
       "      <td>True</td>\n",
       "      <td>0</td>\n",
       "      <td>0</td>\n",
       "      <td>0</td>\n",
       "      <td>0</td>\n",
       "    </tr>\n",
       "    <tr>\n",
       "      <th>7520675660</th>\n",
       "      <td>Gateway Drive near Griffin Drive</td>\n",
       "      <td>1</td>\n",
       "      <td>1</td>\n",
       "      <td>Great ADU Newly Remodeled! New Everything! V...</td>\n",
       "      <td>Vallejo</td>\n",
       "      <td>2022-08-12 22:07:04</td>\n",
       "      <td>https://images.craigslist.org/00G0G_h0W8q8v9Py...</td>\n",
       "      <td>apartment  no laundry on site  no smoking  of...</td>\n",
       "      <td>vallejo / benicia</td>\n",
       "      <td>1650</td>\n",
       "      <td>...</td>\n",
       "      <td>0</td>\n",
       "      <td>0</td>\n",
       "      <td>0</td>\n",
       "      <td>0</td>\n",
       "      <td>0</td>\n",
       "      <td>True</td>\n",
       "      <td>0</td>\n",
       "      <td>1</td>\n",
       "      <td>0</td>\n",
       "      <td>1</td>\n",
       "    </tr>\n",
       "    <tr>\n",
       "      <th>7520515344</th>\n",
       "      <td>2033 Blake St</td>\n",
       "      <td>1</td>\n",
       "      <td>2</td>\n",
       "      <td>We give you luxury living and luxury location ...</td>\n",
       "      <td>Berkeley</td>\n",
       "      <td>2022-08-12 16:37:52</td>\n",
       "      <td>https://images.craigslist.org/00t0t_eGB7bOXCaZ...</td>\n",
       "      <td>EV charging  air conditioning  cats are OK - ...</td>\n",
       "      <td>berkeley</td>\n",
       "      <td>4196</td>\n",
       "      <td>...</td>\n",
       "      <td>0</td>\n",
       "      <td>0</td>\n",
       "      <td>0</td>\n",
       "      <td>0</td>\n",
       "      <td>0</td>\n",
       "      <td>True</td>\n",
       "      <td>0</td>\n",
       "      <td>0</td>\n",
       "      <td>0</td>\n",
       "      <td>1</td>\n",
       "    </tr>\n",
       "  </tbody>\n",
       "</table>\n",
       "<p>5 rows × 49 columns</p>\n",
       "</div>"
      ],
      "text/plain": [
       "                             listing_address listing_bathrooms  \\\n",
       "listing_id                                                       \n",
       "7520722195                   562 29th Street                 1   \n",
       "7520103440                        Newport Dr                 2   \n",
       "7514395720        3051 Adeline #E near Essex                 1   \n",
       "7520675660  Gateway Drive near Griffin Drive                 1   \n",
       "7520515344                     2033 Blake St                 1   \n",
       "\n",
       "           listing_bedrooms  \\\n",
       "listing_id                    \n",
       "7520722195                2   \n",
       "7520103440                3   \n",
       "7514395720                1   \n",
       "7520675660                1   \n",
       "7520515344                2   \n",
       "\n",
       "                                                 listing_body listing_city  \\\n",
       "listing_id                                                                   \n",
       "7520722195    Capture The Charm, Love The Space, Live The ...      Oakland   \n",
       "7520103440  Great location 3 Bed 2 Bath Single Family Hous...      Fremont   \n",
       "7514395720  OFFICE USE ONLY  Italian tile floors  Priced f...     Berkeley   \n",
       "7520675660    Great ADU Newly Remodeled! New Everything! V...      Vallejo   \n",
       "7520515344  We give you luxury living and luxury location ...     Berkeley   \n",
       "\n",
       "                  listing_date  \\\n",
       "listing_id                       \n",
       "7520722195 2022-08-13 00:17:07   \n",
       "7520103440 2022-08-11 16:51:58   \n",
       "7514395720 2022-07-28 15:02:39   \n",
       "7520675660 2022-08-12 22:07:04   \n",
       "7520515344 2022-08-12 16:37:52   \n",
       "\n",
       "                                          listing_first_image  \\\n",
       "listing_id                                                      \n",
       "7520722195  https://images.craigslist.org/00f0f_6WN3vHUujM...   \n",
       "7520103440  https://images.craigslist.org/00C0C_iEcKsVmzdg...   \n",
       "7514395720  https://images.craigslist.org/00S0S_esApZyWjnu...   \n",
       "7520675660  https://images.craigslist.org/00G0G_h0W8q8v9Py...   \n",
       "7520515344  https://images.craigslist.org/00t0t_eGB7bOXCaZ...   \n",
       "\n",
       "                                                 listing_info  \\\n",
       "listing_id                                                      \n",
       "7520722195   cats are OK - purrr  dogs are OK - wooof  con...   \n",
       "7520103440   open house dates   saturday 2022-08-13    sun...   \n",
       "7514395720   open house dates   saturday 2022-08-13    sun...   \n",
       "7520675660   apartment  no laundry on site  no smoking  of...   \n",
       "7520515344   EV charging  air conditioning  cats are OK - ...   \n",
       "\n",
       "                               listing_nh  listing_price      ...        \\\n",
       "listing_id                                                    ...         \n",
       "7520722195                   oakland east           2660      ...         \n",
       "7520103440  fremont / union city / newark           3800      ...         \n",
       "7514395720                       berkeley           1595      ...         \n",
       "7520675660              vallejo / benicia           1650      ...         \n",
       "7520515344                       berkeley           4196      ...         \n",
       "\n",
       "            housing_duplex housing_flat housing_house housing_inlaw  \\\n",
       "listing_id                                                            \n",
       "7520722195               0            0             0             0   \n",
       "7520103440               0            0             0             0   \n",
       "7514395720               0            0             0             0   \n",
       "7520675660               0            0             0             0   \n",
       "7520515344               0            0             0             0   \n",
       "\n",
       "            housing_townhouse  is_consistent_metro  is_rent_controlled  \\\n",
       "listing_id                                                               \n",
       "7520722195                  0                 True                   0   \n",
       "7520103440                  0                 True                   0   \n",
       "7514395720                  0                 True                   0   \n",
       "7520675660                  0                 True                   0   \n",
       "7520515344                  0                 True                   0   \n",
       "\n",
       "            pets_allowed  is_remodelled  has_amenities  \n",
       "listing_id                                              \n",
       "7520722195             0              0              1  \n",
       "7520103440             0              0              0  \n",
       "7514395720             0              0              0  \n",
       "7520675660             1              0              1  \n",
       "7520515344             0              0              1  \n",
       "\n",
       "[5 rows x 49 columns]"
      ]
     },
     "execution_count": 95,
     "metadata": {},
     "output_type": "execute_result"
    }
   ],
   "source": [
    "df.head()"
   ]
  },
  {
   "cell_type": "code",
   "execution_count": 96,
   "metadata": {
    "collapsed": false
   },
   "outputs": [
    {
     "data": {
      "text/plain": [
       "<matplotlib.axes._subplots.AxesSubplot at 0x7fee797e87b8>"
      ]
     },
     "execution_count": 96,
     "metadata": {},
     "output_type": "execute_result"
    },
    {
     "data": {
      "image/png": "[encoded data removed]",
      "text/plain": [
       "<matplotlib.figure.Figure at 0x7fee797b5080>"
      ]
     },
     "metadata": {},
     "output_type": "display_data"
    }
   ],
   "source": [
    "df['listing_city'].value_counts().head(50).plot(kind='barh',figsize=(15,15))"
   ]
  },
  {
   "cell_type": "code",
   "execution_count": 97,
   "metadata": {
    "collapsed": false
   },
   "outputs": [
    {
     "data": {
      "text/plain": [
       "<matplotlib.axes._subplots.AxesSubplot at 0x7fee5df9c748>"
      ]
     },
     "execution_count": 97,
     "metadata": {},
     "output_type": "execute_result"
    },
    {
     "data": {
      "image/png": "[encoded data removed]",
      "text/plain": [
       "<matplotlib.figure.Figure at 0x7fee70ebc588>"
      ]
     },
     "metadata": {},
     "output_type": "display_data"
    }
   ],
   "source": [
    "df['listing_nh'].value_counts().plot(kind='barh',figsize=(15,15))"
   ]
  },
  {
   "cell_type": "code",
   "execution_count": 106,
   "metadata": {
    "collapsed": false
   },
   "outputs": [
    {
     "data": {
      "image/png": "[encoded data removed]",
      "text/plain": [
       "<matplotlib.figure.Figure at 0x7fee606dc0b8>"
      ]
     },
     "metadata": {},
     "output_type": "display_data"
    }
   ],
   "source": [
    "plt.subplots(figsize=(12, 8))\n",
    "sns.boxplot(x='listing_city', y='listing_price', data=df)\n",
    "plt.xticks(rotation='vertical')\n",
    "plt.ylabel('Listing Price ($)')\n",
    "plt.xlabel('Listing City')\n",
    "plt.title('Listing City vs Listing Price');"
   ]
  },
  {
   "cell_type": "code",
   "execution_count": 109,
   "metadata": {
    "collapsed": false
   },
   "outputs": [
    {
     "name": "stdout",
     "output_type": "stream",
     "text": [
      "Saved to csv file\n"
     ]
    }
   ],
   "source": [
    "listing_df.to_csv(r'/Users/pandabear/springboard/CapstoneTwoProject/data/interim/listing_df_cleaned.csv', header=True)\n",
    "print('Saved to csv file')"
   ]
  },
  {
   "cell_type": "code",
   "execution_count": null,
   "metadata": {
    "collapsed": true
   },
   "outputs": [],
   "source": []
  }
 ],
 "metadata": {
  "kernelspec": {
   "display_name": "Python 3",
   "language": "python",
   "name": "python3"
  },
  "language_info": {
   "codemirror_mode": {
    "name": "ipython",
    "version": 3
   },
   "file_extension": ".py",
   "mimetype": "text/x-python",
   "name": "python",
   "nbconvert_exporter": "python",
   "pygments_lexer": "ipython3",
   "version": "3.6.13"
  }
 },
 "nbformat": 4,
 "nbformat_minor": 2
}
